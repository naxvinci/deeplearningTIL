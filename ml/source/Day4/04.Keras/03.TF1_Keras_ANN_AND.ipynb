{
 "cells": [
  {
   "cell_type": "code",
   "execution_count": 3,
   "metadata": {},
   "outputs": [],
   "source": [
    "import numpy as np\n",
    "import tensorflow as tf\n",
    "from keras.models import Sequential\n",
    "from keras.layers import Dense\n",
    "from keras.optimizers import Adam"
   ]
  },
  {
   "cell_type": "code",
   "execution_count": 4,
   "metadata": {},
   "outputs": [],
   "source": [
    "X = np.array([\n",
    "    [0., 0.],\n",
    "    [0., 1.],\n",
    "    [1., 0.],\n",
    "    [1., 1.]\n",
    "], dtype=\"float32\")\n",
    "\n",
    "y = np.array([0, 0, 0, 1], dtype=\"float32\")"
   ]
  },
  {
   "cell_type": "code",
   "execution_count": 5,
   "metadata": {},
   "outputs": [
    {
     "data": {
      "text/plain": [
       "array([[0., 0.],\n",
       "       [0., 1.],\n",
       "       [1., 0.],\n",
       "       [1., 1.]], dtype=float32)"
      ]
     },
     "execution_count": 5,
     "metadata": {},
     "output_type": "execute_result"
    }
   ],
   "source": [
    "X"
   ]
  },
  {
   "cell_type": "code",
   "execution_count": 6,
   "metadata": {},
   "outputs": [
    {
     "data": {
      "text/plain": [
       "array([0., 0., 0., 1.], dtype=float32)"
      ]
     },
     "execution_count": 6,
     "metadata": {},
     "output_type": "execute_result"
    }
   ],
   "source": [
    "y"
   ]
  },
  {
   "cell_type": "code",
   "execution_count": 7,
   "metadata": {},
   "outputs": [],
   "source": [
    "model = Sequential()"
   ]
  },
  {
   "cell_type": "code",
   "execution_count": 8,
   "metadata": {},
   "outputs": [
    {
     "name": "stdout",
     "output_type": "stream",
     "text": [
      "WARNING:tensorflow:From C:\\Users\\student\\Anaconda3\\lib\\site-packages\\tensorflow_core\\python\\ops\\resource_variable_ops.py:1630: calling BaseResourceVariable.__init__ (from tensorflow.python.ops.resource_variable_ops) with constraint is deprecated and will be removed in a future version.\n",
      "Instructions for updating:\n",
      "If using Keras pass *_constraint arguments to layers.\n"
     ]
    }
   ],
   "source": [
    "model.add(Dense(1, input_dim=2, activation=\"sigmoid\"))"
   ]
  },
  {
   "cell_type": "code",
   "execution_count": 10,
   "metadata": {},
   "outputs": [
    {
     "name": "stdout",
     "output_type": "stream",
     "text": [
      "Model: \"sequential_1\"\n",
      "_________________________________________________________________\n",
      "Layer (type)                 Output Shape              Param #   \n",
      "=================================================================\n",
      "dense_1 (Dense)              (None, 1)                 3         \n",
      "=================================================================\n",
      "Total params: 3\n",
      "Trainable params: 3\n",
      "Non-trainable params: 0\n",
      "_________________________________________________________________\n"
     ]
    }
   ],
   "source": [
    "model.summary() # 현재 sequential의 레이어를 보여준다 // param 은 전체 웨이트 값과 마지막 하나의 바이어스값 수의 ㅎ합...."
   ]
  },
  {
   "cell_type": "code",
   "execution_count": 11,
   "metadata": {},
   "outputs": [
    {
     "name": "stdout",
     "output_type": "stream",
     "text": [
      "WARNING:tensorflow:From C:\\Users\\student\\Anaconda3\\lib\\site-packages\\tensorflow_core\\python\\ops\\nn_impl.py:183: where (from tensorflow.python.ops.array_ops) is deprecated and will be removed in a future version.\n",
      "Instructions for updating:\n",
      "Use tf.where in 2.0, which has the same broadcast rule as np.where\n"
     ]
    }
   ],
   "source": [
    "model.compile(loss='binary_crossentropy', optimizer=Adam(lr=0.1), metrics=['acc']) # acc정확도로 분석할 것이다"
   ]
  },
  {
   "cell_type": "code",
   "execution_count": 12,
   "metadata": {},
   "outputs": [
    {
     "name": "stdout",
     "output_type": "stream",
     "text": [
      "WARNING:tensorflow:From C:\\Users\\student\\Anaconda3\\lib\\site-packages\\keras\\backend\\tensorflow_backend.py:422: The name tf.global_variables is deprecated. Please use tf.compat.v1.global_variables instead.\n",
      "\n",
      "Epoch 1/100\n",
      "4/4 [==============================] - 0s 50ms/step - loss: 0.7534 - acc: 0.7500\n",
      "Epoch 2/100\n",
      "4/4 [==============================] - 0s 497us/step - loss: 0.7228 - acc: 0.7500\n",
      "Epoch 3/100\n",
      "4/4 [==============================] - 0s 500us/step - loss: 0.6933 - acc: 0.7500\n",
      "Epoch 4/100\n",
      "4/4 [==============================] - 0s 249us/step - loss: 0.6651 - acc: 0.7500\n",
      "Epoch 5/100\n",
      "4/4 [==============================] - 0s 500us/step - loss: 0.6380 - acc: 0.7500\n",
      "Epoch 6/100\n",
      "4/4 [==============================] - 0s 248us/step - loss: 0.6122 - acc: 0.7500\n",
      "Epoch 7/100\n",
      "4/4 [==============================] - 0s 499us/step - loss: 0.5876 - acc: 0.7500\n",
      "Epoch 8/100\n",
      "4/4 [==============================] - 0s 249us/step - loss: 0.5643 - acc: 0.7500\n",
      "Epoch 9/100\n",
      "4/4 [==============================] - 0s 250us/step - loss: 0.5421 - acc: 0.7500\n",
      "Epoch 10/100\n",
      "4/4 [==============================] - 0s 252us/step - loss: 0.5212 - acc: 0.7500\n",
      "Epoch 11/100\n",
      "4/4 [==============================] - 0s 500us/step - loss: 0.5013 - acc: 0.7500\n",
      "Epoch 12/100\n",
      "4/4 [==============================] - 0s 0us/step - loss: 0.4825 - acc: 0.7500\n",
      "Epoch 13/100\n",
      "4/4 [==============================] - 0s 250us/step - loss: 0.4648 - acc: 1.0000\n",
      "Epoch 14/100\n",
      "4/4 [==============================] - 0s 250us/step - loss: 0.4480 - acc: 1.0000\n",
      "Epoch 15/100\n",
      "4/4 [==============================] - 0s 501us/step - loss: 0.4320 - acc: 1.0000\n",
      "Epoch 16/100\n",
      "4/4 [==============================] - 0s 249us/step - loss: 0.4168 - acc: 1.0000\n",
      "Epoch 17/100\n",
      "4/4 [==============================] - 0s 0us/step - loss: 0.4025 - acc: 1.0000\n",
      "Epoch 18/100\n",
      "4/4 [==============================] - 0s 500us/step - loss: 0.3889 - acc: 1.0000\n",
      "Epoch 19/100\n",
      "4/4 [==============================] - 0s 0us/step - loss: 0.3759 - acc: 1.0000\n",
      "Epoch 20/100\n",
      "4/4 [==============================] - 0s 247us/step - loss: 0.3637 - acc: 1.0000\n",
      "Epoch 21/100\n",
      "4/4 [==============================] - 0s 249us/step - loss: 0.3520 - acc: 1.0000\n",
      "Epoch 22/100\n",
      "4/4 [==============================] - 0s 251us/step - loss: 0.3410 - acc: 1.0000\n",
      "Epoch 23/100\n",
      "4/4 [==============================] - 0s 250us/step - loss: 0.3305 - acc: 1.0000\n",
      "Epoch 24/100\n",
      "4/4 [==============================] - 0s 251us/step - loss: 0.3206 - acc: 1.0000\n",
      "Epoch 25/100\n",
      "4/4 [==============================] - 0s 253us/step - loss: 0.3112 - acc: 1.0000\n",
      "Epoch 26/100\n",
      "4/4 [==============================] - 0s 250us/step - loss: 0.3023 - acc: 1.0000\n",
      "Epoch 27/100\n",
      "4/4 [==============================] - 0s 250us/step - loss: 0.2938 - acc: 1.0000\n",
      "Epoch 28/100\n",
      "4/4 [==============================] - 0s 249us/step - loss: 0.2857 - acc: 1.0000\n",
      "Epoch 29/100\n",
      "4/4 [==============================] - 0s 250us/step - loss: 0.2780 - acc: 1.0000\n",
      "Epoch 30/100\n",
      "4/4 [==============================] - 0s 250us/step - loss: 0.2707 - acc: 1.0000\n",
      "Epoch 31/100\n",
      "4/4 [==============================] - 0s 250us/step - loss: 0.2637 - acc: 1.0000\n",
      "Epoch 32/100\n",
      "4/4 [==============================] - 0s 249us/step - loss: 0.2570 - acc: 1.0000\n",
      "Epoch 33/100\n",
      "4/4 [==============================] - 0s 251us/step - loss: 0.2507 - acc: 1.0000\n",
      "Epoch 34/100\n",
      "4/4 [==============================] - 0s 250us/step - loss: 0.2445 - acc: 1.0000\n",
      "Epoch 35/100\n",
      "4/4 [==============================] - 0s 249us/step - loss: 0.2387 - acc: 1.0000\n",
      "Epoch 36/100\n",
      "4/4 [==============================] - 0s 250us/step - loss: 0.2331 - acc: 1.0000\n",
      "Epoch 37/100\n",
      "4/4 [==============================] - 0s 250us/step - loss: 0.2277 - acc: 1.0000\n",
      "Epoch 38/100\n",
      "4/4 [==============================] - 0s 250us/step - loss: 0.2226 - acc: 1.0000\n",
      "Epoch 39/100\n",
      "4/4 [==============================] - 0s 250us/step - loss: 0.2176 - acc: 1.0000\n",
      "Epoch 40/100\n",
      "4/4 [==============================] - 0s 250us/step - loss: 0.2129 - acc: 1.0000\n",
      "Epoch 41/100\n",
      "4/4 [==============================] - 0s 248us/step - loss: 0.2083 - acc: 1.0000\n",
      "Epoch 42/100\n",
      "4/4 [==============================] - 0s 250us/step - loss: 0.2040 - acc: 1.0000\n",
      "Epoch 43/100\n",
      "4/4 [==============================] - 0s 250us/step - loss: 0.1998 - acc: 1.0000\n",
      "Epoch 44/100\n",
      "4/4 [==============================] - 0s 499us/step - loss: 0.1957 - acc: 1.0000\n",
      "Epoch 45/100\n",
      "4/4 [==============================] - 0s 250us/step - loss: 0.1918 - acc: 1.0000\n",
      "Epoch 46/100\n",
      "4/4 [==============================] - 0s 250us/step - loss: 0.1880 - acc: 1.0000\n",
      "Epoch 47/100\n",
      "4/4 [==============================] - 0s 250us/step - loss: 0.1843 - acc: 1.0000\n",
      "Epoch 48/100\n",
      "4/4 [==============================] - 0s 250us/step - loss: 0.1808 - acc: 1.0000\n",
      "Epoch 49/100\n",
      "4/4 [==============================] - 0s 251us/step - loss: 0.1774 - acc: 1.0000\n",
      "Epoch 50/100\n",
      "4/4 [==============================] - 0s 250us/step - loss: 0.1741 - acc: 1.0000\n",
      "Epoch 51/100\n",
      "4/4 [==============================] - 0s 250us/step - loss: 0.1709 - acc: 1.0000\n",
      "Epoch 52/100\n",
      "4/4 [==============================] - 0s 250us/step - loss: 0.1679 - acc: 1.0000\n",
      "Epoch 53/100\n",
      "4/4 [==============================] - 0s 250us/step - loss: 0.1649 - acc: 1.0000\n",
      "Epoch 54/100\n",
      "4/4 [==============================] - 0s 0us/step - loss: 0.1620 - acc: 1.0000\n",
      "Epoch 55/100\n",
      "4/4 [==============================] - 0s 250us/step - loss: 0.1592 - acc: 1.0000\n",
      "Epoch 56/100\n",
      "4/4 [==============================] - 0s 0us/step - loss: 0.1565 - acc: 1.0000\n",
      "Epoch 57/100\n",
      "4/4 [==============================] - 0s 250us/step - loss: 0.1538 - acc: 1.0000\n",
      "Epoch 58/100\n",
      "4/4 [==============================] - 0s 252us/step - loss: 0.1513 - acc: 1.0000\n",
      "Epoch 59/100\n",
      "4/4 [==============================] - 0s 250us/step - loss: 0.1488 - acc: 1.0000\n",
      "Epoch 60/100\n",
      "4/4 [==============================] - 0s 499us/step - loss: 0.1463 - acc: 1.0000\n",
      "Epoch 61/100\n",
      "4/4 [==============================] - 0s 250us/step - loss: 0.1440 - acc: 1.0000\n",
      "Epoch 62/100\n",
      "4/4 [==============================] - 0s 251us/step - loss: 0.1417 - acc: 1.0000\n",
      "Epoch 63/100\n",
      "4/4 [==============================] - 0s 252us/step - loss: 0.1395 - acc: 1.0000\n",
      "Epoch 64/100\n",
      "4/4 [==============================] - 0s 251us/step - loss: 0.1373 - acc: 1.0000\n",
      "Epoch 65/100\n",
      "4/4 [==============================] - 0s 250us/step - loss: 0.1352 - acc: 1.0000\n",
      "Epoch 66/100\n",
      "4/4 [==============================] - 0s 250us/step - loss: 0.1332 - acc: 1.0000\n",
      "Epoch 67/100\n",
      "4/4 [==============================] - 0s 250us/step - loss: 0.1312 - acc: 1.0000\n",
      "Epoch 68/100\n",
      "4/4 [==============================] - 0s 250us/step - loss: 0.1292 - acc: 1.0000\n",
      "Epoch 69/100\n",
      "4/4 [==============================] - 0s 251us/step - loss: 0.1273 - acc: 1.0000\n",
      "Epoch 70/100\n",
      "4/4 [==============================] - 0s 0us/step - loss: 0.1255 - acc: 1.0000\n",
      "Epoch 71/100\n",
      "4/4 [==============================] - 0s 250us/step - loss: 0.1237 - acc: 1.0000\n",
      "Epoch 72/100\n",
      "4/4 [==============================] - 0s 249us/step - loss: 0.1219 - acc: 1.0000\n",
      "Epoch 73/100\n",
      "4/4 [==============================] - 0s 250us/step - loss: 0.1202 - acc: 1.0000\n",
      "Epoch 74/100\n",
      "4/4 [==============================] - 0s 0us/step - loss: 0.1185 - acc: 1.0000\n",
      "Epoch 75/100\n",
      "4/4 [==============================] - 0s 251us/step - loss: 0.1169 - acc: 1.0000\n",
      "Epoch 76/100\n",
      "4/4 [==============================] - 0s 250us/step - loss: 0.1153 - acc: 1.0000\n",
      "Epoch 77/100\n",
      "4/4 [==============================] - 0s 251us/step - loss: 0.1137 - acc: 1.0000\n",
      "Epoch 78/100\n",
      "4/4 [==============================] - 0s 250us/step - loss: 0.1122 - acc: 1.0000\n",
      "Epoch 79/100\n",
      "4/4 [==============================] - 0s 250us/step - loss: 0.1107 - acc: 1.0000\n",
      "Epoch 80/100\n",
      "4/4 [==============================] - 0s 250us/step - loss: 0.1092 - acc: 1.0000\n",
      "Epoch 81/100\n",
      "4/4 [==============================] - 0s 250us/step - loss: 0.1078 - acc: 1.0000\n",
      "Epoch 82/100\n",
      "4/4 [==============================] - 0s 250us/step - loss: 0.1064 - acc: 1.0000\n",
      "Epoch 83/100\n",
      "4/4 [==============================] - 0s 250us/step - loss: 0.1050 - acc: 1.0000\n",
      "Epoch 84/100\n",
      "4/4 [==============================] - 0s 0us/step - loss: 0.1036 - acc: 1.0000\n",
      "Epoch 85/100\n",
      "4/4 [==============================] - 0s 250us/step - loss: 0.1023 - acc: 1.0000\n"
     ]
    },
    {
     "name": "stdout",
     "output_type": "stream",
     "text": [
      "Epoch 86/100\n",
      "4/4 [==============================] - 0s 250us/step - loss: 0.1010 - acc: 1.0000\n",
      "Epoch 87/100\n",
      "4/4 [==============================] - 0s 252us/step - loss: 0.0997 - acc: 1.0000\n",
      "Epoch 88/100\n",
      "4/4 [==============================] - 0s 250us/step - loss: 0.0985 - acc: 1.0000\n",
      "Epoch 89/100\n",
      "4/4 [==============================] - 0s 0us/step - loss: 0.0973 - acc: 1.0000\n",
      "Epoch 90/100\n",
      "4/4 [==============================] - 0s 0us/step - loss: 0.0961 - acc: 1.0000\n",
      "Epoch 91/100\n",
      "4/4 [==============================] - 0s 250us/step - loss: 0.0949 - acc: 1.0000\n",
      "Epoch 92/100\n",
      "4/4 [==============================] - 0s 250us/step - loss: 0.0938 - acc: 1.0000\n",
      "Epoch 93/100\n",
      "4/4 [==============================] - 0s 250us/step - loss: 0.0927 - acc: 1.0000\n",
      "Epoch 94/100\n",
      "4/4 [==============================] - 0s 250us/step - loss: 0.0916 - acc: 1.0000\n",
      "Epoch 95/100\n",
      "4/4 [==============================] - 0s 250us/step - loss: 0.0905 - acc: 1.0000\n",
      "Epoch 96/100\n",
      "4/4 [==============================] - 0s 249us/step - loss: 0.0894 - acc: 1.0000\n",
      "Epoch 97/100\n",
      "4/4 [==============================] - 0s 250us/step - loss: 0.0884 - acc: 1.0000\n",
      "Epoch 98/100\n",
      "4/4 [==============================] - 0s 250us/step - loss: 0.0874 - acc: 1.0000\n",
      "Epoch 99/100\n",
      "4/4 [==============================] - 0s 250us/step - loss: 0.0864 - acc: 1.0000\n",
      "Epoch 100/100\n",
      "4/4 [==============================] - 0s 250us/step - loss: 0.0854 - acc: 1.0000\n"
     ]
    },
    {
     "data": {
      "text/plain": [
       "<keras.callbacks.callbacks.History at 0x2302728fe08>"
      ]
     },
     "execution_count": 12,
     "metadata": {},
     "output_type": "execute_result"
    }
   ],
   "source": [
    "model.fit(X, y, epochs=100)"
   ]
  },
  {
   "cell_type": "code",
   "execution_count": 13,
   "metadata": {},
   "outputs": [
    {
     "data": {
      "text/plain": [
       "array([[0.00162624],\n",
       "       [0.10616067],\n",
       "       [0.09071023],\n",
       "       [0.87913805]], dtype=float32)"
      ]
     },
     "execution_count": 13,
     "metadata": {},
     "output_type": "execute_result"
    }
   ],
   "source": [
    "pred = model.predict(X)\n",
    "pred"
   ]
  },
  {
   "cell_type": "code",
   "execution_count": null,
   "metadata": {},
   "outputs": [],
   "source": [
    "predict01 = np.where(pred > 0.5, 1, 0)\n",
    "print(\"=\" * 30)\n",
    "print(\"predict01\")\n",
    "print(predict01)"
   ]
  },
  {
   "cell_type": "code",
   "execution_count": null,
   "metadata": {},
   "outputs": [],
   "source": [
    "predict02 = predict01.flatten()\n",
    "predict02"
   ]
  },
  {
   "cell_type": "code",
   "execution_count": null,
   "metadata": {},
   "outputs": [],
   "source": [
    "predict03 = (predict02 == y)\n",
    "predict03"
   ]
  },
  {
   "cell_type": "code",
   "execution_count": null,
   "metadata": {},
   "outputs": [],
   "source": [
    "np.sum(predict03)"
   ]
  },
  {
   "cell_type": "code",
   "execution_count": null,
   "metadata": {},
   "outputs": [],
   "source": [
    "acc = np.sum(predict03) / 4\n",
    "acc"
   ]
  },
  {
   "cell_type": "code",
   "execution_count": null,
   "metadata": {},
   "outputs": [],
   "source": [
    "arr=np.array([[0,1]], dtype=\"float32\")\n",
    "pred = model.predict(arr)\n",
    "pred"
   ]
  },
  {
   "cell_type": "code",
   "execution_count": null,
   "metadata": {},
   "outputs": [],
   "source": [
    "predict01 = np.where(pred > 0.5, 1, 0)\n",
    "print(\"=\" * 30)\n",
    "print(\"predict01\")\n",
    "print(predict01)"
   ]
  },
  {
   "cell_type": "code",
   "execution_count": null,
   "metadata": {},
   "outputs": [],
   "source": [
    "arr=np.array([[1,1]], dtype=\"float32\")\n",
    "pred = model.predict(arr)\n",
    "pred"
   ]
  },
  {
   "cell_type": "code",
   "execution_count": null,
   "metadata": {},
   "outputs": [],
   "source": [
    "predict01 = np.where(pred > 0.5, 1, 0)\n",
    "print(\"=\" * 30)\n",
    "print(\"predict01\")\n",
    "print(predict01)"
   ]
  },
  {
   "cell_type": "code",
   "execution_count": null,
   "metadata": {},
   "outputs": [],
   "source": []
  }
 ],
 "metadata": {
  "kernelspec": {
   "display_name": "Python 3",
   "language": "python",
   "name": "python3"
  },
  "language_info": {
   "codemirror_mode": {
    "name": "ipython",
    "version": 3
   },
   "file_extension": ".py",
   "mimetype": "text/x-python",
   "name": "python",
   "nbconvert_exporter": "python",
   "pygments_lexer": "ipython3",
   "version": "3.7.4"
  }
 },
 "nbformat": 4,
 "nbformat_minor": 4
}
