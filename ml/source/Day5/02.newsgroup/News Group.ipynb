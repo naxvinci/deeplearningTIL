{
 "cells": [
  {
   "cell_type": "code",
   "execution_count": 1,
   "metadata": {},
   "outputs": [
    {
     "name": "stderr",
     "output_type": "stream",
     "text": [
      "Using TensorFlow backend.\n"
     ]
    }
   ],
   "source": [
    "import numpy as np\n",
    "\n",
    "from tqdm import tqdm\n",
    "\n",
    "from sklearn.datasets import fetch_20newsgroups\n",
    "\n",
    "from tensorflow.keras.preprocessing.text import Tokenizer\n",
    "from tensorflow.keras.preprocessing.sequence import pad_sequences\n",
    "from keras.utils.np_utils import to_categorical\n",
    "from tensorflow.keras.layers import Dense, Input, Flatten\n",
    "from tensorflow.keras.layers import Conv1D, MaxPooling1D, Embedding, Dropout, Concatenate\n",
    "from tensorflow.keras.models import Model"
   ]
  },
  {
   "cell_type": "code",
   "execution_count": 2,
   "metadata": {},
   "outputs": [
    {
     "name": "stderr",
     "output_type": "stream",
     "text": [
      "Downloading 20news dataset. This may take a few minutes.\n",
      "Downloading dataset from https://ndownloader.figshare.com/files/5975967 (14 MB)\n"
     ]
    },
    {
     "name": "stdout",
     "output_type": "stream",
     "text": [
      "['comp.sys.mac.hardware', 'rec.sport.baseball']\n",
      "1175\n",
      "will tell me whether or not I have the right kind of RAM installed.  I\n",
      "had thought that the problem was the battery connection.\n",
      "\n",
      "Thanks in Advance,\n",
      "\n"
     ]
    }
   ],
   "source": [
    "categories = ['comp.sys.mac.hardware', 'rec.sport.baseball'] \n",
    "\n",
    "newsgroups_train = fetch_20newsgroups(subset='train', shuffle=True, \n",
    "                                      categories=categories,)\n",
    "\n",
    "print (newsgroups_train.target_names)\n",
    "print (len(newsgroups_train.data))\n",
    "\n",
    "#print (newsgroups_train.data[1])\n",
    "print(\"\\n\".join(newsgroups_train.data[0].split(\"\\n\")[10:15]))"
   ]
  },
  {
   "cell_type": "code",
   "execution_count": 3,
   "metadata": {},
   "outputs": [
    {
     "name": "stdout",
     "output_type": "stream",
     "text": [
      "[13, 11119, 1619, 367, 9, 7974, 7975, 23, 460, 220]\n",
      "Wall time: 320 ms\n"
     ]
    }
   ],
   "source": [
    "%%time\n",
    "\n",
    "texts = []\n",
    "\n",
    "labels = newsgroups_train.target\n",
    "texts = newsgroups_train.data\n",
    "\n",
    "MAX_SEQUENCE_LENGTH = 1000\n",
    "MAX_NB_WORDS = 20000\n",
    "\n",
    "tokenizer = Tokenizer(num_words=MAX_NB_WORDS)\n",
    "tokenizer.fit_on_texts(texts)\n",
    "\n",
    "sequences = tokenizer.texts_to_sequences(texts)\n",
    "\n",
    "print (sequences[0][:10])\n",
    "# print(newsgroups_train)"
   ]
  },
  {
   "cell_type": "code",
   "execution_count": 4,
   "metadata": {},
   "outputs": [
    {
     "name": "stdout",
     "output_type": "stream",
     "text": [
      "Found 18002 unique tokens.\n"
     ]
    }
   ],
   "source": [
    "word_index = tokenizer.word_index \n",
    "\n",
    "print('Found %s unique tokens.' % len(word_index)) # 실제 토큰이 몇개인가 알아보자 = 단어 수"
   ]
  },
  {
   "cell_type": "code",
   "execution_count": 5,
   "metadata": {},
   "outputs": [
    {
     "name": "stdout",
     "output_type": "stream",
     "text": [
      "(1175, 1000)\n",
      "[0 0 0 0 0 0 0 0 0 0 0 0 0 0 0 0 0 0 0 0 0 0 0 0 0 0 0 0 0 0 0 0 0 0 0 0 0\n",
      " 0 0 0 0 0 0 0 0 0 0 0 0 0]\n",
      "From: afung@athena.mit.edu (Archon Fung)\n",
      "Subject: wrong RAM in Duo?\n",
      "Organization: Massachusetts Institute of Technology\n",
      "Lines: 9\n",
      "Distribution: world\n",
      "NNTP-Posting-Host: thobbes.mit.edu\n",
      "\n",
      "A few posts back, somebody mentioned that the Duo might crash if it has\n",
      "the wrong kind (non-self refreshing) of RAM in it.  My Duo crashes\n",
      "sometimes after sleep, and I am wondering if there is any software which\n",
      "will tell me whether or not I have the right kind of RAM installed.  I\n",
      "had thought that the problem was the battery connection.\n",
      "\n",
      "Thanks in Advance,\n",
      "\n",
      "Archon Fung\n",
      "\n"
     ]
    }
   ],
   "source": [
    "data = pad_sequences(sequences, maxlen=MAX_SEQUENCE_LENGTH)\n",
    "\n",
    "print (data.shape)\n",
    "print (data[0][200:250])\n",
    "print (texts[0])"
   ]
  },
  {
   "cell_type": "code",
   "execution_count": 6,
   "metadata": {},
   "outputs": [
    {
     "name": "stdout",
     "output_type": "stream",
     "text": [
      "Shape of data tensor: (1175, 1000)\n",
      "Shape of label tensor: (1175, 2)\n"
     ]
    }
   ],
   "source": [
    "labels = to_categorical(np.array(labels))\n",
    "\n",
    "print('Shape of data tensor:', data.shape)\n",
    "print('Shape of label tensor:', labels.shape)"
   ]
  },
  {
   "cell_type": "code",
   "execution_count": 7,
   "metadata": {},
   "outputs": [
    {
     "name": "stdout",
     "output_type": "stream",
     "text": [
      "(940, 1000)\n",
      "(940, 2)\n",
      "Number of positive and negative reviews in traing and validation set \n",
      "[458. 482.]\n",
      "[120. 115.]\n"
     ]
    }
   ],
   "source": [
    "VALIDATION_SPLIT = 0.2\n",
    "\n",
    "indices = np.arange(data.shape[0])\n",
    "np.random.shuffle(indices) \n",
    "data = data[indices] \n",
    "labels = labels[indices] \n",
    "nb_validation_samples = int(VALIDATION_SPLIT * data.shape[0])\n",
    "\n",
    "x_train = data[:-nb_validation_samples] \n",
    "y_train = labels[:-nb_validation_samples] \n",
    "x_val = data[-nb_validation_samples:] \n",
    "y_val = labels[-nb_validation_samples:] \n",
    "\n",
    "print (x_train.shape)\n",
    "print (y_train.shape)\n",
    "\n",
    "print('Number of positive and negative reviews in traing and validation set ') \n",
    "print (y_train.sum(axis=0))\n",
    "print (y_val.sum(axis=0))"
   ]
  },
  {
   "cell_type": "code",
   "execution_count": 11,
   "metadata": {},
   "outputs": [
    {
     "name": "stderr",
     "output_type": "stream",
     "text": [
      "\n",
      "0it [00:00, ?it/s]\u001b[A\n",
      "2914it [00:00, 28851.60it/s]\u001b[A\n",
      "5966it [00:00, 29331.97it/s]\u001b[A\n",
      "9027it [00:00, 29617.82it/s]\u001b[A\n",
      "12048it [00:00, 29792.84it/s]\u001b[A\n",
      "15057it [00:00, 29792.82it/s]\u001b[A\n",
      "18021it [00:00, 28793.26it/s]\u001b[A\n",
      "21054it [00:00, 29154.19it/s]\u001b[A\n",
      "24057it [00:00, 29410.19it/s]\u001b[A\n",
      "27106it [00:00, 29639.73it/s]\u001b[A\n",
      "30157it [00:01, 29807.99it/s]\u001b[A\n",
      "33186it [00:01, 29950.92it/s]\u001b[A\n",
      "36214it [00:01, 29959.71it/s]\u001b[A\n",
      "39172it [00:01, 29665.21it/s]\u001b[A\n",
      "42161it [00:01, 29732.28it/s]\u001b[A\n",
      "45116it [00:01, 29677.28it/s]\u001b[A\n",
      "48071it [00:01, 29461.77it/s]\u001b[A\n",
      "51072it [00:01, 29624.03it/s]\u001b[A\n",
      "54029it [00:01, 29169.42it/s]\u001b[A\n",
      "57109it [00:01, 29555.23it/s]\u001b[A\n",
      "60131it [00:02, 29751.47it/s]\u001b[A\n",
      "63204it [00:02, 29950.48it/s]\u001b[A\n",
      "66216it [00:02, 29911.94it/s]\u001b[A\n",
      "69242it [00:02, 30014.50it/s]\u001b[A\n",
      "72302it [00:02, 30099.61it/s]\u001b[A\n",
      "75364it [00:02, 30164.06it/s]\u001b[A\n",
      "78381it [00:02, 29987.29it/s]\u001b[A\n",
      "81381it [00:02, 29989.81it/s]\u001b[A\n",
      "84411it [00:02, 29993.30it/s]\u001b[A\n",
      "87411it [00:02, 29727.81it/s]\u001b[A\n",
      "90408it [00:03, 29799.98it/s]\u001b[A\n",
      "93437it [00:03, 29945.00it/s]\u001b[A\n",
      "96506it [00:03, 30076.26it/s]\u001b[A\n",
      "99560it [00:03, 30124.61it/s]\u001b[A\n",
      "102573it [00:03, 30035.95it/s]\u001b[A\n",
      "105639it [00:03, 30131.55it/s]\u001b[A\n",
      "108653it [00:03, 29954.01it/s]\u001b[A\n",
      "111686it [00:03, 29978.07it/s]\u001b[A\n",
      "114693it [00:03, 30004.57it/s]\u001b[A\n",
      "117747it [00:03, 30074.00it/s]\u001b[A\n",
      "120812it [00:04, 30155.38it/s]\u001b[A\n",
      "123856it [00:04, 30240.15it/s]\u001b[A\n",
      "126881it [00:04, 30242.70it/s]\u001b[A\n",
      "129906it [00:04, 29537.17it/s]\u001b[A\n",
      "132864it [00:04, 29462.00it/s]\u001b[A\n",
      "135823it [00:04, 29498.92it/s]\u001b[A\n",
      "138865it [00:04, 29682.64it/s]\u001b[A\n",
      "141861it [00:04, 29765.23it/s]\u001b[A\n",
      "144839it [00:04, 29769.29it/s]\u001b[A\n",
      "147817it [00:04, 29683.95it/s]\u001b[A\n",
      "150815it [00:05, 29772.12it/s]\u001b[A\n",
      "153793it [00:05, 29685.29it/s]\u001b[A\n",
      "156767it [00:05, 29613.01it/s]\u001b[A\n",
      "159863it [00:05, 29917.75it/s]\u001b[A\n",
      "162856it [00:05, 29921.33it/s]\u001b[A\n",
      "165849it [00:05, 29745.58it/s]\u001b[A\n",
      "168825it [00:05, 29396.81it/s]\u001b[A\n",
      "171816it [00:05, 29117.84it/s]\u001b[A\n",
      "174763it [00:05, 28710.18it/s]\u001b[A\n",
      "177779it [00:05, 29130.21it/s]\u001b[A\n",
      "180745it [00:06, 29201.36it/s]\u001b[A\n",
      "183705it [00:06, 29319.10it/s]\u001b[A\n",
      "186718it [00:06, 29557.74it/s]\u001b[A\n",
      "189736it [00:06, 29654.09it/s]\u001b[A\n",
      "192805it [00:06, 29870.97it/s]\u001b[A\n",
      "195794it [00:06, 29787.26it/s]\u001b[A\n",
      "198779it [00:06, 29805.15it/s]\u001b[A\n",
      "201762it [00:06, 29723.45it/s]\u001b[A\n",
      "204745it [00:06, 29755.11it/s]\u001b[A\n",
      "207721it [00:06, 29756.44it/s]\u001b[A\n",
      "210720it [00:07, 29737.81it/s]\u001b[A\n",
      "213694it [00:07, 29738.44it/s]\u001b[A\n",
      "216684it [00:07, 29697.98it/s]\u001b[A\n",
      "219654it [00:07, 29433.51it/s]\u001b[A\n",
      "222598it [00:07, 29435.19it/s]\u001b[A\n",
      "225548it [00:07, 29367.66it/s]\u001b[A\n",
      "228571it [00:07, 29533.75it/s]\u001b[A\n",
      "231595it [00:07, 29654.65it/s]\u001b[A\n",
      "234601it [00:07, 29775.05it/s]\u001b[A\n",
      "237634it [00:07, 29851.03it/s]\u001b[A\n",
      "240620it [00:08, 29853.30it/s]\u001b[A\n",
      "243614it [00:08, 29701.77it/s]\u001b[A\n",
      "246612it [00:08, 29784.30it/s]\u001b[A\n",
      "249651it [00:08, 29875.53it/s]\u001b[A\n",
      "252639it [00:08, 29876.86it/s]\u001b[A\n",
      "255637it [00:08, 29818.56it/s]\u001b[A\n",
      "258624it [00:08, 29833.94it/s]\u001b[A\n",
      "261619it [00:08, 29868.63it/s]\u001b[A\n",
      "264606it [00:08, 29779.70it/s]\u001b[A\n",
      "267585it [00:08, 29782.78it/s]\u001b[A\n",
      "270564it [00:09, 29695.89it/s]\u001b[A\n",
      "273534it [00:09, 29609.14it/s]\u001b[A\n",
      "276524it [00:09, 29695.03it/s]\u001b[A\n",
      "279547it [00:09, 29853.47it/s]\u001b[A\n",
      "282533it [00:09, 29855.01it/s]\u001b[A\n",
      "285541it [00:09, 29833.56it/s]\u001b[A\n",
      "288525it [00:09, 29745.79it/s]\u001b[A\n",
      "291555it [00:09, 29821.99it/s]\u001b[A\n",
      "294538it [00:09, 29824.02it/s]\u001b[A\n",
      "297529it [00:10, 29761.10it/s]\u001b[A\n",
      "300524it [00:10, 29728.64it/s]\u001b[A\n",
      "303545it [00:10, 29783.20it/s]\u001b[A\n",
      "306524it [00:10, 29785.23it/s]\u001b[A\n",
      "309503it [00:10, 29786.58it/s]\u001b[A\n",
      "312482it [00:10, 29434.10it/s]\u001b[A\n",
      "315427it [00:10, 29263.75it/s]\u001b[A\n",
      "318378it [00:10, 29250.84it/s]\u001b[A\n",
      "321359it [00:10, 29414.56it/s]\u001b[A\n",
      "324375it [00:10, 29548.99it/s]\u001b[A\n",
      "327366it [00:11, 29655.39it/s]\u001b[A\n",
      "330371it [00:11, 29684.55it/s]\u001b[A\n",
      "333372it [00:11, 29781.34it/s]\u001b[A\n",
      "336405it [00:11, 29855.50it/s]\u001b[A\n",
      "339399it [00:11, 29880.79it/s]\u001b[A\n",
      "342388it [00:11, 29883.41it/s]\u001b[A\n",
      "345381it [00:11, 29808.19it/s]\u001b[A\n",
      "348369it [00:11, 29829.68it/s]\u001b[A\n",
      "351353it [00:11, 28466.67it/s]\u001b[A\n",
      "354302it [00:11, 28765.82it/s]\u001b[A\n",
      "357275it [00:12, 28963.88it/s]\u001b[A\n",
      "360252it [00:12, 29116.41it/s]\u001b[A\n",
      "363216it [00:12, 29269.81it/s]\u001b[A\n",
      "366238it [00:12, 29462.80it/s]\u001b[A\n",
      "369238it [00:12, 29621.58it/s]\u001b[A\n",
      "372277it [00:12, 29760.59it/s]\u001b[A\n",
      "375286it [00:12, 29770.99it/s]\u001b[A\n",
      "378276it [00:12, 29808.76it/s]\u001b[A\n",
      "381265it [00:12, 29833.03it/s]\u001b[A\n",
      "384296it [00:12, 29885.72it/s]\u001b[A\n",
      "387286it [00:13, 29800.86it/s]\u001b[A\n",
      "390288it [00:13, 29866.23it/s]\u001b[A\n",
      "393328it [00:13, 29935.68it/s]\u001b[A\n",
      "396322it [00:13, 29065.16it/s]\u001b[A\n",
      "400000it [00:13, 29678.00it/s]\u001b[A"
     ]
    },
    {
     "name": "stdout",
     "output_type": "stream",
     "text": [
      "\n",
      "Found 400000 word vectors.\n",
      "Wall time: 13.5 s\n"
     ]
    },
    {
     "name": "stderr",
     "output_type": "stream",
     "text": [
      "\n"
     ]
    }
   ],
   "source": [
    "%%time\n",
    "embeddings_index = {}\n",
    "\n",
    "f = open('glove.6B.100d.txt', encoding='utf-8')\n",
    "for line in tqdm(f):\n",
    "    values = line.split(' ')\n",
    "    word = values[0]\n",
    "    coefs = np.asarray(values[1:], dtype='float32')\n",
    "    embeddings_index[word] = coefs\n",
    "f.close()\n",
    "\n",
    "print ()\n",
    "print ('Found %s word vectors.' % len(embeddings_index))"
   ]
  },
  {
   "cell_type": "code",
   "execution_count": 12,
   "metadata": {},
   "outputs": [
    {
     "name": "stdout",
     "output_type": "stream",
     "text": [
      "(18003, 100)\n",
      "[0.98703497 0.50388713 0.10820122 0.91041304 0.41650211 0.56268439\n",
      " 0.20678113 0.3636473  0.7995503  0.53232304]\n"
     ]
    }
   ],
   "source": [
    "EMBEDDING_DIM = 100\n",
    "\n",
    "embedding_matrix = np.random.random((len(word_index) + 1, EMBEDDING_DIM))\n",
    "\n",
    "for word, i in word_index.items():\n",
    "  embedding_vector = embeddings_index.get(word)\n",
    "  if embedding_vector is not None:\n",
    "    # words not found in embedding index will be all-zeros.\n",
    "    embedding_matrix[i] = embedding_vector\n",
    "\n",
    "print (embedding_matrix.shape)\n",
    "\n",
    "print (embedding_matrix[0][:10])"
   ]
  },
  {
   "cell_type": "code",
   "execution_count": 13,
   "metadata": {},
   "outputs": [
    {
     "name": "stdout",
     "output_type": "stream",
     "text": [
      "Model: \"model_1\"\n",
      "_________________________________________________________________\n",
      "Layer (type)                 Output Shape              Param #   \n",
      "=================================================================\n",
      "input_2 (InputLayer)         [(None, 1000)]            0         \n",
      "_________________________________________________________________\n",
      "embedding_1 (Embedding)      (None, 1000, 100)         1800300   \n",
      "_________________________________________________________________\n",
      "conv1d_3 (Conv1D)            (None, 996, 128)          64128     \n",
      "_________________________________________________________________\n",
      "max_pooling1d_3 (MaxPooling1 (None, 199, 128)          0         \n",
      "_________________________________________________________________\n",
      "conv1d_4 (Conv1D)            (None, 195, 128)          82048     \n",
      "_________________________________________________________________\n",
      "max_pooling1d_4 (MaxPooling1 (None, 39, 128)           0         \n",
      "_________________________________________________________________\n",
      "conv1d_5 (Conv1D)            (None, 35, 128)           82048     \n",
      "_________________________________________________________________\n",
      "max_pooling1d_5 (MaxPooling1 (None, 1, 128)            0         \n",
      "_________________________________________________________________\n",
      "flatten_1 (Flatten)          (None, 128)               0         \n",
      "_________________________________________________________________\n",
      "dense_2 (Dense)              (None, 128)               16512     \n",
      "_________________________________________________________________\n",
      "dense_3 (Dense)              (None, 2)                 258       \n",
      "=================================================================\n",
      "Total params: 2,045,294\n",
      "Trainable params: 244,994\n",
      "Non-trainable params: 1,800,300\n",
      "_________________________________________________________________\n"
     ]
    }
   ],
   "source": [
    "embedding_layer = Embedding(len(word_index) + 1, EMBEDDING_DIM,\n",
    "                            weights=[embedding_matrix], \n",
    "                            input_length=MAX_SEQUENCE_LENGTH, \n",
    "                            trainable=False)\n",
    "\n",
    "sequence_input = Input(shape=(MAX_SEQUENCE_LENGTH,), dtype='int32') \n",
    "embedded_sequences = embedding_layer(sequence_input) \n",
    "l_cov1= Conv1D(128, 5, activation='relu')(embedded_sequences) \n",
    "l_pool1 = MaxPooling1D(5)(l_cov1) \n",
    "l_cov2 = Conv1D(128, 5, activation='relu')(l_pool1) \n",
    "l_pool2 = MaxPooling1D(5)(l_cov2) \n",
    "l_cov3 = Conv1D(128, 5, activation='relu')(l_pool2) \n",
    "l_pool3 = MaxPooling1D(35)(l_cov3)  # global max pooling\n",
    "\n",
    "l_flat = Flatten()(l_pool3) \n",
    "l_dense = Dense(128, activation='relu')(l_flat) \n",
    "preds = Dense(2, activation='softmax')(l_dense)\n",
    "\n",
    "model = Model(sequence_input, preds)\n",
    "\n",
    "model.summary()"
   ]
  },
  {
   "cell_type": "code",
   "execution_count": 14,
   "metadata": {},
   "outputs": [
    {
     "name": "stdout",
     "output_type": "stream",
     "text": [
      "Train on 940 samples, validate on 235 samples\n",
      "Epoch 1/10\n",
      "940/940 [==============================] - 4s 4ms/sample - loss: 0.7922 - acc: 0.5287 - val_loss: 0.6730 - val_acc: 0.5574\n",
      "Epoch 2/10\n",
      "940/940 [==============================] - 3s 3ms/sample - loss: 0.6439 - acc: 0.6277 - val_loss: 0.5808 - val_acc: 0.8340\n",
      "Epoch 3/10\n",
      "940/940 [==============================] - 3s 3ms/sample - loss: 0.4666 - acc: 0.8606 - val_loss: 0.3328 - val_acc: 0.9021\n",
      "Epoch 4/10\n",
      "940/940 [==============================] - 3s 3ms/sample - loss: 0.1912 - acc: 0.9543 - val_loss: 0.1004 - val_acc: 0.9617\n",
      "Epoch 5/10\n",
      "940/940 [==============================] - 3s 3ms/sample - loss: 0.0715 - acc: 0.9809 - val_loss: 0.0411 - val_acc: 0.9872\n",
      "Epoch 6/10\n",
      "940/940 [==============================] - 3s 3ms/sample - loss: 0.0465 - acc: 0.9851 - val_loss: 0.0208 - val_acc: 0.9957\n",
      "Epoch 7/10\n",
      "940/940 [==============================] - 3s 4ms/sample - loss: 0.0308 - acc: 0.9904 - val_loss: 0.1144 - val_acc: 0.9574\n",
      "Epoch 8/10\n",
      "940/940 [==============================] - 3s 3ms/sample - loss: 0.0298 - acc: 0.9894 - val_loss: 0.1961 - val_acc: 0.9277\n",
      "Epoch 9/10\n",
      "940/940 [==============================] - 3s 3ms/sample - loss: 0.0500 - acc: 0.9777 - val_loss: 0.1216 - val_acc: 0.9617\n",
      "Epoch 10/10\n",
      "940/940 [==============================] - 3s 3ms/sample - loss: 0.0157 - acc: 0.9915 - val_loss: 0.0114 - val_acc: 0.9957\n"
     ]
    }
   ],
   "source": [
    "model.compile(loss='categorical_crossentropy', optimizer='adam',metrics=['acc'])\n",
    "\n",
    "history = model.fit(x_train, y_train, validation_data=(x_val, y_val),\n",
    "                    epochs=10, batch_size=128) "
   ]
  },
  {
   "cell_type": "code",
   "execution_count": 15,
   "metadata": {},
   "outputs": [
    {
     "data": {
      "image/png": "[encoded data removed]",
      "text/plain": [
       "<Figure size 360x216 with 1 Axes>"
      ]
     },
     "metadata": {
      "needs_background": "light"
     },
     "output_type": "display_data"
    },
    {
     "data": {
      "image/png": "[encoded data removed]",
      "text/plain": [
       "<Figure size 360x216 with 1 Axes>"
      ]
     },
     "metadata": {
      "needs_background": "light"
     },
     "output_type": "display_data"
    }
   ],
   "source": [
    "import matplotlib.pyplot as plt\n",
    "plt.figure(figsize =(5,3))\n",
    "plt.plot(history.history['loss'], marker='.', label='train')\n",
    "plt.plot(history.history['val_loss'], marker='.', label='validation')\n",
    "plt.title('Loss')\n",
    "plt.grid(True)\n",
    "plt.xlabel('epoch')\n",
    "plt.ylabel('loss')\n",
    "plt.legend(loc='best')\n",
    "plt.show()\n",
    "\n",
    "plt.figure(figsize =(5,3))\n",
    "plt.plot(history.history['acc'], marker='.', label='train')\n",
    "plt.plot(history.history['val_acc'], marker='.', label='validation')\n",
    "plt.title('Accuracy')\n",
    "plt.grid(True)\n",
    "plt.xlabel('epoch')\n",
    "plt.ylabel('accuracy')\n",
    "plt.legend(loc='best')\n",
    "plt.show()"
   ]
  },
  {
   "cell_type": "markdown",
   "metadata": {},
   "source": [
    "## Model 2"
   ]
  },
  {
   "cell_type": "code",
   "execution_count": 16,
   "metadata": {},
   "outputs": [
    {
     "name": "stdout",
     "output_type": "stream",
     "text": [
      "Model: \"model_2\"\n",
      "__________________________________________________________________________________________________\n",
      "Layer (type)                    Output Shape         Param #     Connected to                     \n",
      "==================================================================================================\n",
      "input_3 (InputLayer)            [(None, 1000)]       0                                            \n",
      "__________________________________________________________________________________________________\n",
      "embedding_2 (Embedding)         (None, 1000, 100)    1800300     input_3[0][0]                    \n",
      "__________________________________________________________________________________________________\n",
      "conv1d_6 (Conv1D)               (None, 998, 128)     38528       embedding_2[0][0]                \n",
      "__________________________________________________________________________________________________\n",
      "conv1d_7 (Conv1D)               (None, 997, 128)     51328       embedding_2[0][0]                \n",
      "__________________________________________________________________________________________________\n",
      "conv1d_8 (Conv1D)               (None, 996, 128)     64128       embedding_2[0][0]                \n",
      "__________________________________________________________________________________________________\n",
      "max_pooling1d_6 (MaxPooling1D)  (None, 199, 128)     0           conv1d_6[0][0]                   \n",
      "__________________________________________________________________________________________________\n",
      "max_pooling1d_7 (MaxPooling1D)  (None, 199, 128)     0           conv1d_7[0][0]                   \n",
      "__________________________________________________________________________________________________\n",
      "max_pooling1d_8 (MaxPooling1D)  (None, 199, 128)     0           conv1d_8[0][0]                   \n",
      "__________________________________________________________________________________________________\n",
      "concatenate (Concatenate)       (None, 597, 128)     0           max_pooling1d_6[0][0]            \n",
      "                                                                 max_pooling1d_7[0][0]            \n",
      "                                                                 max_pooling1d_8[0][0]            \n",
      "__________________________________________________________________________________________________\n",
      "conv1d_9 (Conv1D)               (None, 593, 128)     82048       concatenate[0][0]                \n",
      "__________________________________________________________________________________________________\n",
      "max_pooling1d_9 (MaxPooling1D)  (None, 118, 128)     0           conv1d_9[0][0]                   \n",
      "__________________________________________________________________________________________________\n",
      "conv1d_10 (Conv1D)              (None, 114, 128)     82048       max_pooling1d_9[0][0]            \n",
      "__________________________________________________________________________________________________\n",
      "max_pooling1d_10 (MaxPooling1D) (None, 3, 128)       0           conv1d_10[0][0]                  \n",
      "__________________________________________________________________________________________________\n",
      "flatten_2 (Flatten)             (None, 384)          0           max_pooling1d_10[0][0]           \n",
      "__________________________________________________________________________________________________\n",
      "dense_4 (Dense)                 (None, 128)          49280       flatten_2[0][0]                  \n",
      "__________________________________________________________________________________________________\n",
      "dense_5 (Dense)                 (None, 2)            258         dense_4[0][0]                    \n",
      "==================================================================================================\n",
      "Total params: 2,167,918\n",
      "Trainable params: 2,167,918\n",
      "Non-trainable params: 0\n",
      "__________________________________________________________________________________________________\n"
     ]
    }
   ],
   "source": [
    "convs = [] \n",
    "filter_sizes = [3,4,5]\n",
    "\n",
    "embedding_layer = Embedding(len(word_index) + 1, EMBEDDING_DIM,\n",
    "                            weights=[embedding_matrix], \n",
    "                            input_length=MAX_SEQUENCE_LENGTH, \n",
    "                            trainable=True)\n",
    "\n",
    "sequence_input = Input(shape=(MAX_SEQUENCE_LENGTH,), dtype='int32') \n",
    "embedded_sequences = embedding_layer(sequence_input)\n",
    "\n",
    "for fsz in filter_sizes:\n",
    "  l_conv = Conv1D(filters=128, kernel_size=fsz, activation='relu')(embedded_sequences)\n",
    "  l_pool = MaxPooling1D(5)(l_conv)\n",
    "  convs.append(l_pool)\n",
    "\n",
    "l_merge = Concatenate(axis=1)(convs) \n",
    "l_cov1= Conv1D(128, 5, activation='relu')(l_merge) \n",
    "l_pool1 = MaxPooling1D(5)(l_cov1) \n",
    "l_cov2 = Conv1D(128, 5, activation='relu')(l_pool1) \n",
    "l_pool2 = MaxPooling1D(30)(l_cov2) \n",
    "l_flat = Flatten()(l_pool2) \n",
    "l_dense = Dense(128, activation='relu')(l_flat) \n",
    "preds = Dense(2, activation='softmax')(l_dense)\n",
    "\n",
    "model = Model(sequence_input, preds) \n",
    "\n",
    "model.summary()"
   ]
  },
  {
   "cell_type": "code",
   "execution_count": null,
   "metadata": {},
   "outputs": [],
   "source": [
    "model.compile(loss='categorical_crossentropy', optimizer='adam', \n",
    "              metrics=['acc'])\n",
    "\n",
    "history = model.fit(x_train, y_train, validation_data=(x_val, y_val),\n",
    "                    epochs=10, batch_size=128)\n",
    "\n",
    "plt.figure(figsize =(5,3))\n",
    "plt.plot(history.history['loss'], marker='.', label='train')\n",
    "plt.plot(history.history['val_loss'], marker='.', label='validation')\n",
    "plt.title('Loss')\n",
    "plt.grid(True)\n",
    "plt.xlabel('epoch')\n",
    "plt.ylabel('loss')\n",
    "plt.legend(loc='best')\n",
    "plt.show()\n",
    "\n",
    "plt.figure(figsize =(5,3))\n",
    "plt.plot(history.history['acc'], marker='.', label='train')\n",
    "plt.plot(history.history['val_acc'], marker='.', label='validation')\n",
    "plt.title('Accuracy')\n",
    "plt.grid(True)\n",
    "plt.xlabel('epoch')\n",
    "plt.ylabel('accuracy')\n",
    "plt.legend(loc='best')\n",
    "plt.show()"
   ]
  },
  {
   "cell_type": "code",
   "execution_count": null,
   "metadata": {},
   "outputs": [],
   "source": []
  }
 ],
 "metadata": {
  "kernelspec": {
   "display_name": "Python 3",
   "language": "python",
   "name": "python3"
  },
  "language_info": {
   "codemirror_mode": {
    "name": "ipython",
    "version": 3
   },
   "file_extension": ".py",
   "mimetype": "text/x-python",
   "name": "python",
   "nbconvert_exporter": "python",
   "pygments_lexer": "ipython3",
   "version": "3.7.4"
  }
 },
 "nbformat": 4,
 "nbformat_minor": 4
}
