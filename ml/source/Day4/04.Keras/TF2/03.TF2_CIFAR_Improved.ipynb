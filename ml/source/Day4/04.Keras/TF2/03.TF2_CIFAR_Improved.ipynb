{
 "cells": [
  {
   "cell_type": "code",
   "execution_count": 1,
   "metadata": {},
   "outputs": [],
   "source": [
    "import numpy as np\n",
    "import tensorflow as tf\n",
    "import matplotlib.pyplot as plt\n",
    "from tensorflow.keras.layers import Input, Conv2D, Dense, Flatten, Dropout, GlobalMaxPooling2D, MaxPooling2D, BatchNormalization\n",
    "from tensorflow.keras.models import Model"
   ]
  },
  {
   "cell_type": "code",
   "execution_count": 3,
   "metadata": {},
   "outputs": [
    {
     "name": "stdout",
     "output_type": "stream",
     "text": [
      "x_train.shape: (50000, 32, 32, 3)\n",
      "y_train.shape: (50000,)\n"
     ]
    }
   ],
   "source": [
    "# Load in the data\n",
    "cifar10 = tf.keras.datasets.cifar10\n",
    "\n",
    "(x_train, y_train), (x_test, y_test) = cifar10.load_data()\n",
    "x_train, x_test = x_train / 255.0, x_test / 255.0\n",
    "y_train, y_test = y_train.flatten(), y_test.flatten()\n",
    "print(\"x_train.shape:\", x_train.shape)\n",
    "print(\"y_train.shape:\", y_train.shape)"
   ]
  },
  {
   "cell_type": "code",
   "execution_count": 4,
   "metadata": {},
   "outputs": [
    {
     "name": "stdout",
     "output_type": "stream",
     "text": [
      "number of classes:  10\n"
     ]
    }
   ],
   "source": [
    "# number of classes\n",
    "K = len(set(y_train))\n",
    "print(\"number of classes: \", K)"
   ]
  },
  {
   "cell_type": "code",
   "execution_count": 19,
   "metadata": {},
   "outputs": [
    {
     "data": {
      "text/plain": [
       "(32, 32, 3)"
      ]
     },
     "execution_count": 19,
     "metadata": {},
     "output_type": "execute_result"
    }
   ],
   "source": [
    "x_train[0].shape"
   ]
  },
  {
   "cell_type": "code",
   "execution_count": 6,
   "metadata": {},
   "outputs": [
    {
     "name": "stdout",
     "output_type": "stream",
     "text": [
      "WARNING:tensorflow:From C:\\Users\\student\\Anaconda3\\lib\\site-packages\\tensorflow_core\\python\\ops\\resource_variable_ops.py:1630: calling BaseResourceVariable.__init__ (from tensorflow.python.ops.resource_variable_ops) with constraint is deprecated and will be removed in a future version.\n",
      "Instructions for updating:\n",
      "If using Keras pass *_constraint arguments to layers.\n",
      "Model: \"model\"\n",
      "_________________________________________________________________\n",
      "Layer (type)                 Output Shape              Param #   \n",
      "=================================================================\n",
      "input_1 (InputLayer)         [(None, 32, 32, 3)]       0         \n",
      "_________________________________________________________________\n",
      "conv2d (Conv2D)              (None, 15, 15, 32)        896       \n",
      "_________________________________________________________________\n",
      "conv2d_1 (Conv2D)            (None, 7, 7, 64)          18496     \n",
      "_________________________________________________________________\n",
      "conv2d_2 (Conv2D)            (None, 3, 3, 128)         73856     \n",
      "_________________________________________________________________\n",
      "flatten (Flatten)            (None, 1152)              0         \n",
      "_________________________________________________________________\n",
      "dropout (Dropout)            (None, 1152)              0         \n",
      "_________________________________________________________________\n",
      "dense (Dense)                (None, 1024)              1180672   \n",
      "_________________________________________________________________\n",
      "dropout_1 (Dropout)          (None, 1024)              0         \n",
      "_________________________________________________________________\n",
      "dense_1 (Dense)              (None, 10)                10250     \n",
      "=================================================================\n",
      "Total params: 1,284,170\n",
      "Trainable params: 1,284,170\n",
      "Non-trainable params: 0\n",
      "_________________________________________________________________\n"
     ]
    }
   ],
   "source": [
    "# Build the model using the functional API\n",
    "i = Input(shape=x_train[0].shape)\n",
    "x = Conv2D(32, (3, 3), strides=2, activation='relu')(i)\n",
    "x = Conv2D(64, (3, 3), strides=2, activation='relu')(x)\n",
    "x = Conv2D(128, (3, 3), strides=2, activation='relu')(x)\n",
    "x = Flatten()(x)\n",
    "x = Dropout(0.25)(x)\n",
    "x = Dense(1024, activation='relu')(x)\n",
    "x = Dropout(0.25)(x)\n",
    "x = Dense(K, activation='softmax')(x)\n",
    "\n",
    "model = Model(i, x)\n",
    "model.summary()\n",
    "\n",
    "# x = Conv2D(32, (3, 3), strides=2, activation='relu')(i)\n",
    "# x = Conv2D(64, (3, 3), strides=2, activation='relu')(x)\n",
    "# x = Conv2D(128, (3, 3), strides=2, activation='relu')(x)\n"
   ]
  },
  {
   "cell_type": "code",
   "execution_count": 7,
   "metadata": {},
   "outputs": [
    {
     "name": "stdout",
     "output_type": "stream",
     "text": [
      "Train on 50000 samples, validate on 10000 samples\n",
      "Epoch 1/10\n",
      "50000/50000 [==============================] - 24s 489us/sample - loss: 1.5146 - acc: 0.4510 - val_loss: 1.2354 - val_acc: 0.5544\n",
      "Epoch 2/10\n",
      "50000/50000 [==============================] - 24s 486us/sample - loss: 1.1820 - acc: 0.5781 - val_loss: 1.1000 - val_acc: 0.5995\n",
      "Epoch 3/10\n",
      "50000/50000 [==============================] - 24s 481us/sample - loss: 1.0259 - acc: 0.6337 - val_loss: 1.0176 - val_acc: 0.6339\n",
      "Epoch 4/10\n",
      "50000/50000 [==============================] - 24s 484us/sample - loss: 0.9091 - acc: 0.6777 - val_loss: 0.9388 - val_acc: 0.6662\n",
      "Epoch 5/10\n",
      "50000/50000 [==============================] - 24s 473us/sample - loss: 0.8130 - acc: 0.7099 - val_loss: 0.8953 - val_acc: 0.6889\n",
      "Epoch 6/10\n",
      "50000/50000 [==============================] - 24s 478us/sample - loss: 0.7319 - acc: 0.7397 - val_loss: 0.8732 - val_acc: 0.6956\n",
      "Epoch 7/10\n",
      "50000/50000 [==============================] - 24s 473us/sample - loss: 0.6563 - acc: 0.7673 - val_loss: 0.8822 - val_acc: 0.6992\n",
      "Epoch 8/10\n",
      "50000/50000 [==============================] - 24s 474us/sample - loss: 0.5939 - acc: 0.7897 - val_loss: 0.8785 - val_acc: 0.7020\n",
      "Epoch 9/10\n",
      "50000/50000 [==============================] - 24s 473us/sample - loss: 0.5353 - acc: 0.8102 - val_loss: 0.8842 - val_acc: 0.7050\n",
      "Epoch 10/10\n",
      "50000/50000 [==============================] - 24s 482us/sample - loss: 0.4841 - acc: 0.8256 - val_loss: 0.9123 - val_acc: 0.7037\n"
     ]
    }
   ],
   "source": [
    "# Compile and fit\n",
    "# Note: make sure you are using hte GPU for this!\n",
    "model.compile(optimizer='adam',\n",
    "             loss='sparse_categorical_crossentropy',\n",
    "             metrics=['accuracy'])\n",
    "\n",
    "result = model.fit(x_train, y_train,\n",
    "                  validation_data=(x_test, y_test),\n",
    "                  epochs=10)"
   ]
  },
  {
   "cell_type": "code",
   "execution_count": null,
   "metadata": {},
   "outputs": [],
   "source": []
  },
  {
   "cell_type": "code",
   "execution_count": 14,
   "metadata": {},
   "outputs": [
    {
     "name": "stdout",
     "output_type": "stream",
     "text": [
      "50000\n",
      "1562\n"
     ]
    }
   ],
   "source": [
    "# Fit with data augmentation\n",
    "# Node: if you run this AFTER calling the previous model.fit(), it will CONTINUE training where it left off\n",
    "# data_generator = tf.keras.preprocessing.image.ImageDataGenerator(width_shift_range=0.1, height_shift_range=0.1, horizontal_flip=True)\n",
    "from tensorflow.keras.preprocessing.image import ImageDataGenerator\n",
    "batch_size = 32\n",
    "data_generator = ImageDataGenerator(\n",
    "    width_shift_range=0.1,\n",
    "    height_shift_range=0.1,\n",
    "    horizontal_flip=True)\n",
    "\n",
    "print(x_train.shape[0])\n",
    "print(x_train.shape[0] // batch_size)"
   ]
  },
  {
   "cell_type": "code",
   "execution_count": 18,
   "metadata": {},
   "outputs": [
    {
     "name": "stdout",
     "output_type": "stream",
     "text": [
      "Epoch 1/10\n",
      "1560/1562 [============================>.] - ETA: 0s - loss: 1.0108 - acc: 0.6480Epoch 1/10\n",
      "10000/1562 [================================================================================================================================================================================================] - 1s 129us/sample - loss: 0.7461 - acc: 0.7065\n",
      "1562/1562 [==============================] - 34s 22ms/step - loss: 1.0108 - acc: 0.6481 - val_loss: 0.8432 - val_acc: 0.7065\n",
      "Epoch 2/10\n",
      "1561/1562 [============================>.] - ETA: 0s - loss: 0.9440 - acc: 0.6678Epoch 1/10\n",
      "10000/1562 [================================================================================================================================================================================================] - 1s 128us/sample - loss: 0.7331 - acc: 0.7137\n",
      "1562/1562 [==============================] - 34s 22ms/step - loss: 0.9441 - acc: 0.6677 - val_loss: 0.8336 - val_acc: 0.7137\n",
      "Epoch 3/10\n",
      "1560/1562 [============================>.] - ETA: 0s - loss: 0.9188 - acc: 0.6774Epoch 1/10\n",
      "10000/1562 [================================================================================================================================================================================================] - 1s 129us/sample - loss: 0.7278 - acc: 0.7124\n",
      "1562/1562 [==============================] - 34s 22ms/step - loss: 0.9188 - acc: 0.6774 - val_loss: 0.8241 - val_acc: 0.7124\n",
      "Epoch 4/10\n",
      "1560/1562 [============================>.] - ETA: 0s - loss: 0.9011 - acc: 0.6850Epoch 1/10\n",
      "10000/1562 [================================================================================================================================================================================================] - 1s 128us/sample - loss: 0.7638 - acc: 0.7132\n",
      "1562/1562 [==============================] - 34s 22ms/step - loss: 0.9014 - acc: 0.6849 - val_loss: 0.8264 - val_acc: 0.7132\n",
      "Epoch 5/10\n",
      "1559/1562 [============================>.] - ETA: 0s - loss: 0.8767 - acc: 0.6910Epoch 1/10\n",
      "10000/1562 [================================================================================================================================================================================================] - 1s 135us/sample - loss: 0.7518 - acc: 0.7216\n",
      "1562/1562 [==============================] - 34s 22ms/step - loss: 0.8765 - acc: 0.6911 - val_loss: 0.8094 - val_acc: 0.7216\n",
      "Epoch 6/10\n",
      "1559/1562 [============================>.] - ETA: 0s - loss: 0.8615 - acc: 0.6987Epoch 1/10\n",
      "10000/1562 [================================================================================================================================================================================================] - 1s 128us/sample - loss: 0.7305 - acc: 0.7317\n",
      "1562/1562 [==============================] - 34s 22ms/step - loss: 0.8614 - acc: 0.6987 - val_loss: 0.7842 - val_acc: 0.7317\n",
      "Epoch 7/10\n",
      "1560/1562 [============================>.] - ETA: 0s - loss: 0.8505 - acc: 0.7025Epoch 1/10\n",
      "10000/1562 [================================================================================================================================================================================================] - 1s 130us/sample - loss: 0.7356 - acc: 0.7293\n",
      "1562/1562 [==============================] - 34s 22ms/step - loss: 0.8508 - acc: 0.7025 - val_loss: 0.7832 - val_acc: 0.7293\n",
      "Epoch 8/10\n",
      "1560/1562 [============================>.] - ETA: 0s - loss: 0.8314 - acc: 0.7071Epoch 1/10\n",
      "10000/1562 [================================================================================================================================================================================================] - 1s 131us/sample - loss: 0.7137 - acc: 0.7275\n",
      "1562/1562 [==============================] - 34s 22ms/step - loss: 0.8313 - acc: 0.7071 - val_loss: 0.7908 - val_acc: 0.7275\n",
      "Epoch 9/10\n",
      "1559/1562 [============================>.] - ETA: 0s - loss: 0.8239 - acc: 0.7110Epoch 1/10\n",
      "10000/1562 [================================================================================================================================================================================================] - 1s 133us/sample - loss: 0.7528 - acc: 0.7444\n",
      "1562/1562 [==============================] - 35s 22ms/step - loss: 0.8245 - acc: 0.7109 - val_loss: 0.7275 - val_acc: 0.7444\n",
      "Epoch 10/10\n",
      "1559/1562 [============================>.] - ETA: 0s - loss: 0.8084 - acc: 0.7173Epoch 1/10\n",
      "10000/1562 [================================================================================================================================================================================================] - 1s 136us/sample - loss: 0.7243 - acc: 0.7389\n",
      "1562/1562 [==============================] - 35s 22ms/step - loss: 0.8083 - acc: 0.7174 - val_loss: 0.7391 - val_acc: 0.7389\n"
     ]
    }
   ],
   "source": [
    "train_generator = data_generator.flow(x_train, y_train, batch_size)\n",
    "steps_per_epochs = x_train.shape[0] // batch_size\n",
    "result = model.fit_generator(train_generator,\n",
    "                            validation_data=(x_test, y_test),\n",
    "                            steps_per_epoch=steps_per_epochs,\n",
    "                            epochs=10)"
   ]
  },
  {
   "cell_type": "code",
   "execution_count": 15,
   "metadata": {},
   "outputs": [
    {
     "data": {
      "text/plain": [
       "<matplotlib.legend.Legend at 0x18f88f09d88>"
      ]
     },
     "execution_count": 15,
     "metadata": {},
     "output_type": "execute_result"
    },
    {
     "data": {
      "image/png": "[encoded data removed]",
      "text/plain": [
       "<Figure size 432x288 with 1 Axes>"
      ]
     },
     "metadata": {
      "needs_background": "light"
     },
     "output_type": "display_data"
    }
   ],
   "source": [
    "# Plot loss per iteration\n",
    "plt.plot(result.history['loss'], label='loss')\n",
    "plt.plot(result.history['val_loss'], label='val_loss')\n",
    "plt.legend()"
   ]
  },
  {
   "cell_type": "code",
   "execution_count": 16,
   "metadata": {},
   "outputs": [
    {
     "data": {
      "text/plain": [
       "<matplotlib.legend.Legend at 0x18f88fa1fc8>"
      ]
     },
     "execution_count": 16,
     "metadata": {},
     "output_type": "execute_result"
    },
    {
     "data": {
      "image/png": "[encoded data removed]",
      "text/plain": [
       "<Figure size 432x288 with 1 Axes>"
      ]
     },
     "metadata": {
      "needs_background": "light"
     },
     "output_type": "display_data"
    }
   ],
   "source": [
    "# Plot accuracy per iteration\n",
    "plt.plot(result.history['acc'], label='acc')\n",
    "plt.plot(result.history['val_acc'], label='val_acc')\n",
    "plt.legend()"
   ]
  },
  {
   "cell_type": "code",
   "execution_count": null,
   "metadata": {},
   "outputs": [],
   "source": [
    "from sklearn.metrics import confusion_matrix\n",
    "import itertools\n",
    "def plot_confusion_matrix(cm, classes, \n",
    "                          normalize=False, \n",
    "                          title='Confusion matrix',\n",
    "                          cmap=plt.cm.Blues):\n",
    "  \"\"\"\n",
    "  This function prints and plots the confusion matrix.\n",
    "  Normalization can be appled by setting `normalize=True`.\n",
    "  \"\"\"\n",
    "  if normalize:\n",
    "    cm = cm.astype('float') / cm.sum(axis=1)[:, np.newaxis]\n",
    "    print(\"normalized confusion matrix\")\n",
    "  else:\n",
    "    print('Consusion matrix, without normalization')\n",
    "  print(cm)\n",
    "\n",
    "  plt.imshow(cm, interpolation='nearest', cmap=cmap)\n",
    "  plt.title(title)\n",
    "  plt.colorbar()\n",
    "  tick_marks = np.arange(len(classes))\n",
    "  plt.xticks(tick_marks, classes, rotation=45)\n",
    "  plt.yticks(tick_marks, classes)\n",
    "\n",
    "  fmt = '.2f' if normalize else 'd'\n",
    "  thresh = cm.max() / 2.\n",
    "  for i, j in itertools.product(range(cm.shape[0]), range(cm.shape[1])):\n",
    "    plt.text(j, i, format(cm[i, j], fmt),\n",
    "             horizontalalignment=\"center\",\n",
    "             color=\"white\" if cm[i, j] > thresh else \"black\")\n",
    "  \n",
    "  plt.tight_layout()\n",
    "  plt.ylabel('True label')\n",
    "  plt.xlabel('Predicted label')\n",
    "  plt.show()\n",
    "\n",
    "p_test = model.predict(x_test).argmax(axis=1)\n",
    "cm = confusion_matrix(y_test, p_test)\n",
    "plot_confusion_matrix(cm, list(range(10)))"
   ]
  },
  {
   "cell_type": "code",
   "execution_count": null,
   "metadata": {},
   "outputs": [],
   "source": [
    "# Label mapping\n"
   ]
  },
  {
   "cell_type": "code",
   "execution_count": null,
   "metadata": {},
   "outputs": [],
   "source": [
    "# Show some misclassified examples\n",
    "misclassified_idx = np.where(p_test != y_test)[0]\n",
    "temp_idx = np.random.choice(misclassified_idx)\n",
    "plt.imshow(x_test[temp_idx]) # 원래 쉐입과 동일해서 reshape해주지 않아도 됨\n",
    "plt.title('True label: %s, Predicted label: %s' % (labels[y_test[temp_idx]], labels[p_test[temp_idx]]))"
   ]
  },
  {
   "cell_type": "code",
   "execution_count": null,
   "metadata": {},
   "outputs": [],
   "source": [
    "# Now that the model is so large, it's useful to summarie it\n"
   ]
  },
  {
   "cell_type": "code",
   "execution_count": null,
   "metadata": {},
   "outputs": [],
   "source": []
  }
 ],
 "metadata": {
  "kernelspec": {
   "display_name": "Python 3",
   "language": "python",
   "name": "python3"
  },
  "language_info": {
   "codemirror_mode": {
    "name": "ipython",
    "version": 3
   },
   "file_extension": ".py",
   "mimetype": "text/x-python",
   "name": "python",
   "nbconvert_exporter": "python",
   "pygments_lexer": "ipython3",
   "version": "3.7.4"
  }
 },
 "nbformat": 4,
 "nbformat_minor": 4
}
