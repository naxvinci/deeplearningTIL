{
 "cells": [
  {
   "cell_type": "code",
   "execution_count": 1,
   "metadata": {
    "colab": {},
    "colab_type": "code",
    "id": "HyVGJx6wQwOR"
   },
   "outputs": [],
   "source": [
    "from tensorflow.keras.layers import Input, SimpleRNN, GRU, LSTM, Dense, GlobalMaxPool1D\n",
    "from tensorflow.keras.models import Model\n",
    "from tensorflow.keras.optimizers import SGD, Adam\n",
    "\n",
    "import numpy as np\n",
    "import pandas as pd\n",
    "import matplotlib.pyplot as plt\n",
    "from sklearn.preprocessing import StandardScaler"
   ]
  },
  {
   "cell_type": "code",
   "execution_count": 0,
   "metadata": {
    "colab": {
     "base_uri": "https://localhost:8080/",
     "height": 71,
     "resources": {
      "http://localhost:8080/nbextensions/google.colab/files.js": {
       "data": "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",
       "headers": [
        [
         "content-type",
         "application/javascript"
        ]
       ],
       "ok": true,
       "status": 200,
       "status_text": ""
      }
     }
    },
    "colab_type": "code",
    "id": "An-C2MemR7J1",
    "outputId": "454134b2-ba62-404d-af2c-ba3365f8d7b5"
   },
   "outputs": [
    {
     "data": {
      "text/html": [
       "\n",
       "     <input type=\"file\" id=\"files-c9f1d1b6-e0e3-4b82-9369-9bbd6ce7a751\" name=\"files[]\" multiple disabled />\n",
       "     <output id=\"result-c9f1d1b6-e0e3-4b82-9369-9bbd6ce7a751\">\n",
       "      Upload widget is only available when the cell has been executed in the\n",
       "      current browser session. Please rerun this cell to enable.\n",
       "      </output>\n",
       "      <script src=\"/nbextensions/google.colab/files.js\"></script> "
      ],
      "text/plain": [
       "<IPython.core.display.HTML object>"
      ]
     },
     "metadata": {
      "tags": []
     },
     "output_type": "display_data"
    },
    {
     "name": "stdout",
     "output_type": "stream",
     "text": [
      "Saving sbux.csv to sbux.csv\n"
     ]
    }
   ],
   "source": [
    "# yes, you can read dataframes from URLs!\n",
    "# from google.colab import files\n",
    "# uploaded = files.upload()\n",
    "# colab에서 실행 할 때 가능.."
   ]
  },
  {
   "cell_type": "code",
   "execution_count": 0,
   "metadata": {
    "colab": {
     "base_uri": "https://localhost:8080/",
     "height": 34
    },
    "colab_type": "code",
    "id": "daocLBzgVKDu",
    "outputId": "4460f303-ffbf-48b0-8cf4-b563eced0b1a"
   },
   "outputs": [
    {
     "name": "stdout",
     "output_type": "stream",
     "text": [
      "sample_data  sbux.csv\n"
     ]
    }
   ],
   "source": [
    "# !ls"
   ]
  },
  {
   "cell_type": "code",
   "execution_count": 2,
   "metadata": {
    "colab": {
     "base_uri": "https://localhost:8080/",
     "height": 204
    },
    "colab_type": "code",
    "id": "mip90i1wU-Q7",
    "outputId": "57a0c5e4-0a1a-4bd4-eaec-e5c105de873f"
   },
   "outputs": [
    {
     "data": {
      "text/html": [
       "<div>\n",
       "<style scoped>\n",
       "    .dataframe tbody tr th:only-of-type {\n",
       "        vertical-align: middle;\n",
       "    }\n",
       "\n",
       "    .dataframe tbody tr th {\n",
       "        vertical-align: top;\n",
       "    }\n",
       "\n",
       "    .dataframe thead th {\n",
       "        text-align: right;\n",
       "    }\n",
       "</style>\n",
       "<table border=\"1\" class=\"dataframe\">\n",
       "  <thead>\n",
       "    <tr style=\"text-align: right;\">\n",
       "      <th></th>\n",
       "      <th>date</th>\n",
       "      <th>open</th>\n",
       "      <th>high</th>\n",
       "      <th>low</th>\n",
       "      <th>close</th>\n",
       "      <th>volume</th>\n",
       "      <th>Name</th>\n",
       "    </tr>\n",
       "  </thead>\n",
       "  <tbody>\n",
       "    <tr>\n",
       "      <th>0</th>\n",
       "      <td>2013-02-08</td>\n",
       "      <td>27.920</td>\n",
       "      <td>28.325</td>\n",
       "      <td>27.920</td>\n",
       "      <td>28.185</td>\n",
       "      <td>7146296</td>\n",
       "      <td>SBUX</td>\n",
       "    </tr>\n",
       "    <tr>\n",
       "      <th>1</th>\n",
       "      <td>2013-02-11</td>\n",
       "      <td>28.260</td>\n",
       "      <td>28.260</td>\n",
       "      <td>27.930</td>\n",
       "      <td>28.070</td>\n",
       "      <td>5457354</td>\n",
       "      <td>SBUX</td>\n",
       "    </tr>\n",
       "    <tr>\n",
       "      <th>2</th>\n",
       "      <td>2013-02-12</td>\n",
       "      <td>28.000</td>\n",
       "      <td>28.275</td>\n",
       "      <td>27.975</td>\n",
       "      <td>28.130</td>\n",
       "      <td>8665592</td>\n",
       "      <td>SBUX</td>\n",
       "    </tr>\n",
       "    <tr>\n",
       "      <th>3</th>\n",
       "      <td>2013-02-13</td>\n",
       "      <td>28.230</td>\n",
       "      <td>28.230</td>\n",
       "      <td>27.750</td>\n",
       "      <td>27.915</td>\n",
       "      <td>7022056</td>\n",
       "      <td>SBUX</td>\n",
       "    </tr>\n",
       "    <tr>\n",
       "      <th>4</th>\n",
       "      <td>2013-02-14</td>\n",
       "      <td>27.765</td>\n",
       "      <td>27.905</td>\n",
       "      <td>27.675</td>\n",
       "      <td>27.775</td>\n",
       "      <td>8899188</td>\n",
       "      <td>SBUX</td>\n",
       "    </tr>\n",
       "  </tbody>\n",
       "</table>\n",
       "</div>"
      ],
      "text/plain": [
       "         date    open    high     low   close   volume  Name\n",
       "0  2013-02-08  27.920  28.325  27.920  28.185  7146296  SBUX\n",
       "1  2013-02-11  28.260  28.260  27.930  28.070  5457354  SBUX\n",
       "2  2013-02-12  28.000  28.275  27.975  28.130  8665592  SBUX\n",
       "3  2013-02-13  28.230  28.230  27.750  27.915  7022056  SBUX\n",
       "4  2013-02-14  27.765  27.905  27.675  27.775  8899188  SBUX"
      ]
     },
     "execution_count": 2,
     "metadata": {},
     "output_type": "execute_result"
    }
   ],
   "source": [
    "#df = pd.read_csv('https://raw.githubusercontent.com/lazyprogrammer/machine_learning_examples')\n",
    "df = pd.read_csv('sbux.csv')\n",
    "df.head()"
   ]
  },
  {
   "cell_type": "code",
   "execution_count": 3,
   "metadata": {
    "colab": {
     "base_uri": "https://localhost:8080/",
     "height": 204
    },
    "colab_type": "code",
    "id": "lF-f342-VXFh",
    "outputId": "436edb9d-8c4c-4592-c99c-8ecedd8d8ab2"
   },
   "outputs": [
    {
     "data": {
      "text/html": [
       "<div>\n",
       "<style scoped>\n",
       "    .dataframe tbody tr th:only-of-type {\n",
       "        vertical-align: middle;\n",
       "    }\n",
       "\n",
       "    .dataframe tbody tr th {\n",
       "        vertical-align: top;\n",
       "    }\n",
       "\n",
       "    .dataframe thead th {\n",
       "        text-align: right;\n",
       "    }\n",
       "</style>\n",
       "<table border=\"1\" class=\"dataframe\">\n",
       "  <thead>\n",
       "    <tr style=\"text-align: right;\">\n",
       "      <th></th>\n",
       "      <th>date</th>\n",
       "      <th>open</th>\n",
       "      <th>high</th>\n",
       "      <th>low</th>\n",
       "      <th>close</th>\n",
       "      <th>volume</th>\n",
       "      <th>Name</th>\n",
       "    </tr>\n",
       "  </thead>\n",
       "  <tbody>\n",
       "    <tr>\n",
       "      <th>1254</th>\n",
       "      <td>2018-02-01</td>\n",
       "      <td>56.280</td>\n",
       "      <td>56.42</td>\n",
       "      <td>55.89</td>\n",
       "      <td>56.00</td>\n",
       "      <td>14690146</td>\n",
       "      <td>SBUX</td>\n",
       "    </tr>\n",
       "    <tr>\n",
       "      <th>1255</th>\n",
       "      <td>2018-02-02</td>\n",
       "      <td>55.900</td>\n",
       "      <td>56.32</td>\n",
       "      <td>55.70</td>\n",
       "      <td>55.77</td>\n",
       "      <td>15358909</td>\n",
       "      <td>SBUX</td>\n",
       "    </tr>\n",
       "    <tr>\n",
       "      <th>1256</th>\n",
       "      <td>2018-02-05</td>\n",
       "      <td>55.530</td>\n",
       "      <td>56.26</td>\n",
       "      <td>54.57</td>\n",
       "      <td>54.69</td>\n",
       "      <td>16059955</td>\n",
       "      <td>SBUX</td>\n",
       "    </tr>\n",
       "    <tr>\n",
       "      <th>1257</th>\n",
       "      <td>2018-02-06</td>\n",
       "      <td>53.685</td>\n",
       "      <td>56.06</td>\n",
       "      <td>53.56</td>\n",
       "      <td>55.61</td>\n",
       "      <td>17415065</td>\n",
       "      <td>SBUX</td>\n",
       "    </tr>\n",
       "    <tr>\n",
       "      <th>1258</th>\n",
       "      <td>2018-02-07</td>\n",
       "      <td>55.080</td>\n",
       "      <td>55.43</td>\n",
       "      <td>54.44</td>\n",
       "      <td>54.46</td>\n",
       "      <td>13927022</td>\n",
       "      <td>SBUX</td>\n",
       "    </tr>\n",
       "  </tbody>\n",
       "</table>\n",
       "</div>"
      ],
      "text/plain": [
       "            date    open   high    low  close    volume  Name\n",
       "1254  2018-02-01  56.280  56.42  55.89  56.00  14690146  SBUX\n",
       "1255  2018-02-02  55.900  56.32  55.70  55.77  15358909  SBUX\n",
       "1256  2018-02-05  55.530  56.26  54.57  54.69  16059955  SBUX\n",
       "1257  2018-02-06  53.685  56.06  53.56  55.61  17415065  SBUX\n",
       "1258  2018-02-07  55.080  55.43  54.44  54.46  13927022  SBUX"
      ]
     },
     "execution_count": 3,
     "metadata": {},
     "output_type": "execute_result"
    }
   ],
   "source": [
    "df.tail()"
   ]
  },
  {
   "cell_type": "code",
   "execution_count": 4,
   "metadata": {
    "colab": {},
    "colab_type": "code",
    "id": "g4BqZZKVVa9Y"
   },
   "outputs": [],
   "source": [
    "# Start by doing the WRONG thing - trying to predict the price itself\n",
    "series = df['close'].values.reshape(-1, 1)\n",
    "# 과거 데이터 가지고 과거 데이터 예측...당연히 맞을 수 밖에"
   ]
  },
  {
   "cell_type": "code",
   "execution_count": 5,
   "metadata": {},
   "outputs": [
    {
     "data": {
      "text/plain": [
       "array([[28.185],\n",
       "       [28.07 ],\n",
       "       [28.13 ],\n",
       "       ...,\n",
       "       [54.69 ],\n",
       "       [55.61 ],\n",
       "       [54.46 ]])"
      ]
     },
     "execution_count": 5,
     "metadata": {},
     "output_type": "execute_result"
    }
   ],
   "source": [
    "series"
   ]
  },
  {
   "cell_type": "code",
   "execution_count": 6,
   "metadata": {
    "colab": {},
    "colab_type": "code",
    "id": "9QZl4EZbV8bl"
   },
   "outputs": [],
   "source": [
    "# Normalize the data\n",
    "# Note: I didn't think about where the true boundary is, this is just approx.\n",
    "# scaler을 활용하지 않으면 숫자 연산 크기가 커져서 가능한 줄이기 위해 사용하는 것\n",
    "scaler = StandardScaler()\n",
    "scaler.fit(series[:len(series) // 2])\n",
    "series = scaler.transform(series).flatten()"
   ]
  },
  {
   "cell_type": "code",
   "execution_count": 8,
   "metadata": {
    "colab": {
     "base_uri": "https://localhost:8080/",
     "height": 34
    },
    "colab_type": "code",
    "id": "2A0AKHVsWMlz",
    "outputId": "4085a62b-8fd1-43ab-de6d-eae22efb1d17"
   },
   "outputs": [
    {
     "name": "stdout",
     "output_type": "stream",
     "text": [
      "X.shape (1249, 10, 1) Y.shape (1249,)\n"
     ]
    }
   ],
   "source": [
    "### build the dataset\n",
    "# let's see if we can use T past values to predict the next value\n",
    "T = 10\n",
    "D = 1\n",
    "X = []\n",
    "Y = []\n",
    "for t in range(len(series) - T): # 시퀀스가 이동하다보면 마지막에 이동할 수가 없어서 빼주는 것\n",
    "  x = series[t:t+T]\n",
    "  X.append(x)\n",
    "  y = series[t+T]\n",
    "  Y.append(y)\n",
    "\n",
    "X = np.array(X).reshape(-1, T, 1) # Now the data should be N x T x D\n",
    "Y = np.array(Y)\n",
    "N = len(X)\n",
    "print(\"X.shape\", X.shape, \"Y.shape\", Y.shape) # 인덱스1258에서 10개를 뺀 개수가 1249개"
   ]
  },
  {
   "cell_type": "code",
   "execution_count": 9,
   "metadata": {
    "colab": {
     "base_uri": "https://localhost:8080/",
     "height": 1000
    },
    "colab_type": "code",
    "id": "0ZNh2cqFW76z",
    "outputId": "e62c6ff9-3ad5-4d6a-a952-fff6a415ffcf"
   },
   "outputs": [
    {
     "name": "stdout",
     "output_type": "stream",
     "text": [
      "WARNING:tensorflow:From C:\\Users\\student\\Anaconda3\\lib\\site-packages\\tensorflow_core\\python\\ops\\resource_variable_ops.py:1630: calling BaseResourceVariable.__init__ (from tensorflow.python.ops.resource_variable_ops) with constraint is deprecated and will be removed in a future version.\n",
      "Instructions for updating:\n",
      "If using Keras pass *_constraint arguments to layers.\n",
      "WARNING:tensorflow:From C:\\Users\\student\\Anaconda3\\lib\\site-packages\\tensorflow_core\\python\\ops\\math_grad.py:1424: where (from tensorflow.python.ops.array_ops) is deprecated and will be removed in a future version.\n",
      "Instructions for updating:\n",
      "Use tf.where in 2.0, which has the same broadcast rule as np.where\n",
      "Train on 624 samples, validate on 625 samples\n",
      "Epoch 1/80\n",
      "624/624 [==============================] - 1s 840us/sample - loss: 0.3206 - acc: 0.0000e+00 - val_loss: 0.5021 - val_acc: 0.0000e+00\n",
      "Epoch 2/80\n",
      "624/624 [==============================] - 0s 268us/sample - loss: 0.0201 - acc: 0.0000e+00 - val_loss: 0.2387 - val_acc: 0.0000e+00\n",
      "Epoch 3/80\n",
      "624/624 [==============================] - 0s 266us/sample - loss: 0.0107 - acc: 0.0000e+00 - val_loss: 0.0329 - val_acc: 0.0000e+00\n",
      "Epoch 4/80\n",
      "624/624 [==============================] - 0s 263us/sample - loss: 0.0067 - acc: 0.0000e+00 - val_loss: 0.0331 - val_acc: 0.0000e+00\n",
      "Epoch 5/80\n",
      "624/624 [==============================] - 0s 264us/sample - loss: 0.0078 - acc: 0.0000e+00 - val_loss: 0.0247 - val_acc: 0.0000e+00\n",
      "Epoch 6/80\n",
      "624/624 [==============================] - 0s 263us/sample - loss: 0.0058 - acc: 0.0000e+00 - val_loss: 0.0242 - val_acc: 0.0000e+00\n",
      "Epoch 7/80\n",
      "624/624 [==============================] - 0s 263us/sample - loss: 0.0061 - acc: 0.0000e+00 - val_loss: 0.0257 - val_acc: 0.0000e+00\n",
      "Epoch 8/80\n",
      "624/624 [==============================] - 0s 264us/sample - loss: 0.0064 - acc: 0.0000e+00 - val_loss: 0.0227 - val_acc: 0.0000e+00\n",
      "Epoch 9/80\n",
      "624/624 [==============================] - 0s 263us/sample - loss: 0.0062 - acc: 0.0000e+00 - val_loss: 0.0347 - val_acc: 0.0000e+00\n",
      "Epoch 10/80\n",
      "624/624 [==============================] - 0s 261us/sample - loss: 0.0073 - acc: 0.0000e+00 - val_loss: 0.0554 - val_acc: 0.0000e+00\n",
      "Epoch 11/80\n",
      "624/624 [==============================] - 0s 260us/sample - loss: 0.0071 - acc: 0.0000e+00 - val_loss: 0.0283 - val_acc: 0.0000e+00\n",
      "Epoch 12/80\n",
      "624/624 [==============================] - 0s 263us/sample - loss: 0.0062 - acc: 0.0000e+00 - val_loss: 0.0362 - val_acc: 0.0000e+00\n",
      "Epoch 13/80\n",
      "624/624 [==============================] - 0s 263us/sample - loss: 0.0055 - acc: 0.0000e+00 - val_loss: 0.0342 - val_acc: 0.0000e+00\n",
      "Epoch 14/80\n",
      "624/624 [==============================] - 0s 264us/sample - loss: 0.0060 - acc: 0.0000e+00 - val_loss: 0.0243 - val_acc: 0.0000e+00\n",
      "Epoch 15/80\n",
      "624/624 [==============================] - 0s 264us/sample - loss: 0.0056 - acc: 0.0000e+00 - val_loss: 0.0282 - val_acc: 0.0000e+00\n",
      "Epoch 16/80\n",
      "624/624 [==============================] - 0s 261us/sample - loss: 0.0062 - acc: 0.0000e+00 - val_loss: 0.0364 - val_acc: 0.0000e+00\n",
      "Epoch 17/80\n",
      "624/624 [==============================] - 0s 263us/sample - loss: 0.0057 - acc: 0.0000e+00 - val_loss: 0.0284 - val_acc: 0.0000e+00\n",
      "Epoch 18/80\n",
      "624/624 [==============================] - 0s 261us/sample - loss: 0.0056 - acc: 0.0000e+00 - val_loss: 0.0461 - val_acc: 0.0000e+00\n",
      "Epoch 19/80\n",
      "624/624 [==============================] - 0s 263us/sample - loss: 0.0052 - acc: 0.0000e+00 - val_loss: 0.0248 - val_acc: 0.0000e+00\n",
      "Epoch 20/80\n",
      "624/624 [==============================] - 0s 263us/sample - loss: 0.0057 - acc: 0.0000e+00 - val_loss: 0.0272 - val_acc: 0.0000e+00\n",
      "Epoch 21/80\n",
      "624/624 [==============================] - 0s 269us/sample - loss: 0.0059 - acc: 0.0000e+00 - val_loss: 0.0461 - val_acc: 0.0000e+00\n",
      "Epoch 22/80\n",
      "624/624 [==============================] - 0s 263us/sample - loss: 0.0062 - acc: 0.0000e+00 - val_loss: 0.0446 - val_acc: 0.0000e+00\n",
      "Epoch 23/80\n",
      "624/624 [==============================] - 0s 263us/sample - loss: 0.0068 - acc: 0.0000e+00 - val_loss: 0.0546 - val_acc: 0.0000e+00\n",
      "Epoch 24/80\n",
      "624/624 [==============================] - 0s 269us/sample - loss: 0.0083 - acc: 0.0000e+00 - val_loss: 0.0525 - val_acc: 0.0000e+00\n",
      "Epoch 25/80\n",
      "624/624 [==============================] - 0s 263us/sample - loss: 0.0079 - acc: 0.0000e+00 - val_loss: 0.0407 - val_acc: 0.0000e+00\n",
      "Epoch 26/80\n",
      "624/624 [==============================] - 0s 261us/sample - loss: 0.0059 - acc: 0.0000e+00 - val_loss: 0.0353 - val_acc: 0.0000e+00\n",
      "Epoch 27/80\n",
      "624/624 [==============================] - 0s 264us/sample - loss: 0.0074 - acc: 0.0000e+00 - val_loss: 0.0333 - val_acc: 0.0000e+00\n",
      "Epoch 28/80\n",
      "624/624 [==============================] - 0s 280us/sample - loss: 0.0062 - acc: 0.0000e+00 - val_loss: 0.0308 - val_acc: 0.0000e+00\n",
      "Epoch 29/80\n",
      "624/624 [==============================] - 0s 266us/sample - loss: 0.0053 - acc: 0.0000e+00 - val_loss: 0.0298 - val_acc: 0.0000e+00\n",
      "Epoch 30/80\n",
      "624/624 [==============================] - 0s 264us/sample - loss: 0.0052 - acc: 0.0000e+00 - val_loss: 0.0355 - val_acc: 0.0000e+00\n",
      "Epoch 31/80\n",
      "624/624 [==============================] - 0s 288us/sample - loss: 0.0062 - acc: 0.0000e+00 - val_loss: 0.0274 - val_acc: 0.0000e+00\n",
      "Epoch 32/80\n",
      "624/624 [==============================] - 0s 271us/sample - loss: 0.0056 - acc: 0.0000e+00 - val_loss: 0.0570 - val_acc: 0.0000e+00\n",
      "Epoch 33/80\n",
      "624/624 [==============================] - 0s 268us/sample - loss: 0.0054 - acc: 0.0000e+00 - val_loss: 0.0257 - val_acc: 0.0000e+00\n",
      "Epoch 34/80\n",
      "624/624 [==============================] - 0s 274us/sample - loss: 0.0090 - acc: 0.0000e+00 - val_loss: 0.0332 - val_acc: 0.0000e+00\n",
      "Epoch 35/80\n",
      "624/624 [==============================] - 0s 266us/sample - loss: 0.0088 - acc: 0.0000e+00 - val_loss: 0.0311 - val_acc: 0.0000e+00\n",
      "Epoch 36/80\n",
      "624/624 [==============================] - 0s 264us/sample - loss: 0.0070 - acc: 0.0000e+00 - val_loss: 0.0437 - val_acc: 0.0000e+00\n",
      "Epoch 37/80\n",
      "624/624 [==============================] - 0s 260us/sample - loss: 0.0063 - acc: 0.0000e+00 - val_loss: 0.0558 - val_acc: 0.0000e+00\n",
      "Epoch 38/80\n",
      "624/624 [==============================] - 0s 260us/sample - loss: 0.0068 - acc: 0.0000e+00 - val_loss: 0.0780 - val_acc: 0.0000e+00\n",
      "Epoch 39/80\n",
      "624/624 [==============================] - 0s 271us/sample - loss: 0.0070 - acc: 0.0000e+00 - val_loss: 0.0469 - val_acc: 0.0000e+00\n",
      "Epoch 40/80\n",
      "624/624 [==============================] - 0s 266us/sample - loss: 0.0057 - acc: 0.0000e+00 - val_loss: 0.0552 - val_acc: 0.0000e+00\n",
      "Epoch 41/80\n",
      "624/624 [==============================] - 0s 260us/sample - loss: 0.0058 - acc: 0.0000e+00 - val_loss: 0.0421 - val_acc: 0.0000e+00\n",
      "Epoch 42/80\n",
      "624/624 [==============================] - 0s 261us/sample - loss: 0.0060 - acc: 0.0000e+00 - val_loss: 0.0298 - val_acc: 0.0000e+00\n",
      "Epoch 43/80\n",
      "624/624 [==============================] - 0s 261us/sample - loss: 0.0068 - acc: 0.0000e+00 - val_loss: 0.0617 - val_acc: 0.0000e+00\n",
      "Epoch 44/80\n",
      "624/624 [==============================] - 0s 266us/sample - loss: 0.0063 - acc: 0.0000e+00 - val_loss: 0.0279 - val_acc: 0.0000e+00\n",
      "Epoch 45/80\n",
      "624/624 [==============================] - 0s 266us/sample - loss: 0.0054 - acc: 0.0000e+00 - val_loss: 0.0548 - val_acc: 0.0000e+00\n",
      "Epoch 46/80\n",
      "624/624 [==============================] - 0s 266us/sample - loss: 0.0059 - acc: 0.0000e+00 - val_loss: 0.0594 - val_acc: 0.0000e+00\n",
      "Epoch 47/80\n",
      "624/624 [==============================] - 0s 269us/sample - loss: 0.0059 - acc: 0.0000e+00 - val_loss: 0.0190 - val_acc: 0.0000e+00\n",
      "Epoch 48/80\n",
      "624/624 [==============================] - 0s 266us/sample - loss: 0.0052 - acc: 0.0000e+00 - val_loss: 0.0281 - val_acc: 0.0000e+00\n",
      "Epoch 49/80\n",
      "624/624 [==============================] - 0s 268us/sample - loss: 0.0051 - acc: 0.0000e+00 - val_loss: 0.0326 - val_acc: 0.0000e+00\n",
      "Epoch 50/80\n",
      "624/624 [==============================] - 0s 287us/sample - loss: 0.0052 - acc: 0.0000e+00 - val_loss: 0.0378 - val_acc: 0.0000e+00\n",
      "Epoch 51/80\n",
      "624/624 [==============================] - 0s 295us/sample - loss: 0.0053 - acc: 0.0000e+00 - val_loss: 0.0243 - val_acc: 0.0000e+00\n",
      "Epoch 52/80\n"
     ]
    },
    {
     "name": "stdout",
     "output_type": "stream",
     "text": [
      "624/624 [==============================] - 0s 285us/sample - loss: 0.0061 - acc: 0.0000e+00 - val_loss: 0.0396 - val_acc: 0.0000e+00\n",
      "Epoch 53/80\n",
      "624/624 [==============================] - 0s 288us/sample - loss: 0.0066 - acc: 0.0000e+00 - val_loss: 0.0226 - val_acc: 0.0000e+00\n",
      "Epoch 54/80\n",
      "624/624 [==============================] - 0s 280us/sample - loss: 0.0082 - acc: 0.0000e+00 - val_loss: 0.0373 - val_acc: 0.0000e+00\n",
      "Epoch 55/80\n",
      "624/624 [==============================] - 0s 279us/sample - loss: 0.0060 - acc: 0.0000e+00 - val_loss: 0.0277 - val_acc: 0.0000e+00\n",
      "Epoch 56/80\n",
      "624/624 [==============================] - 0s 271us/sample - loss: 0.0055 - acc: 0.0000e+00 - val_loss: 0.0215 - val_acc: 0.0000e+00\n",
      "Epoch 57/80\n",
      "624/624 [==============================] - 0s 269us/sample - loss: 0.0057 - acc: 0.0000e+00 - val_loss: 0.0609 - val_acc: 0.0000e+00\n",
      "Epoch 58/80\n",
      "624/624 [==============================] - 0s 266us/sample - loss: 0.0062 - acc: 0.0000e+00 - val_loss: 0.0205 - val_acc: 0.0000e+00\n",
      "Epoch 59/80\n",
      "624/624 [==============================] - 0s 268us/sample - loss: 0.0055 - acc: 0.0000e+00 - val_loss: 0.0290 - val_acc: 0.0000e+00\n",
      "Epoch 60/80\n",
      "624/624 [==============================] - 0s 263us/sample - loss: 0.0056 - acc: 0.0000e+00 - val_loss: 0.0252 - val_acc: 0.0000e+00\n",
      "Epoch 61/80\n",
      "624/624 [==============================] - 0s 264us/sample - loss: 0.0061 - acc: 0.0000e+00 - val_loss: 0.0389 - val_acc: 0.0000e+00\n",
      "Epoch 62/80\n",
      "624/624 [==============================] - 0s 258us/sample - loss: 0.0087 - acc: 0.0000e+00 - val_loss: 0.0258 - val_acc: 0.0000e+00\n",
      "Epoch 63/80\n",
      "624/624 [==============================] - 0s 264us/sample - loss: 0.0061 - acc: 0.0000e+00 - val_loss: 0.0158 - val_acc: 0.0000e+00\n",
      "Epoch 64/80\n",
      "624/624 [==============================] - 0s 264us/sample - loss: 0.0061 - acc: 0.0000e+00 - val_loss: 0.0175 - val_acc: 0.0000e+00\n",
      "Epoch 65/80\n",
      "624/624 [==============================] - 0s 263us/sample - loss: 0.0059 - acc: 0.0000e+00 - val_loss: 0.0251 - val_acc: 0.0000e+00\n",
      "Epoch 66/80\n",
      "624/624 [==============================] - 0s 264us/sample - loss: 0.0055 - acc: 0.0000e+00 - val_loss: 0.0236 - val_acc: 0.0000e+00\n",
      "Epoch 67/80\n",
      "624/624 [==============================] - 0s 266us/sample - loss: 0.0067 - acc: 0.0000e+00 - val_loss: 0.0178 - val_acc: 0.0000e+00\n",
      "Epoch 68/80\n",
      "624/624 [==============================] - 0s 271us/sample - loss: 0.0074 - acc: 0.0000e+00 - val_loss: 0.0222 - val_acc: 0.0000e+00\n",
      "Epoch 69/80\n",
      "624/624 [==============================] - 0s 263us/sample - loss: 0.0061 - acc: 0.0000e+00 - val_loss: 0.0273 - val_acc: 0.0000e+00\n",
      "Epoch 70/80\n",
      "624/624 [==============================] - 0s 266us/sample - loss: 0.0057 - acc: 0.0000e+00 - val_loss: 0.0162 - val_acc: 0.0000e+00\n",
      "Epoch 71/80\n",
      "624/624 [==============================] - 0s 261us/sample - loss: 0.0071 - acc: 0.0000e+00 - val_loss: 0.0272 - val_acc: 0.0000e+00\n",
      "Epoch 72/80\n",
      "624/624 [==============================] - 0s 264us/sample - loss: 0.0069 - acc: 0.0000e+00 - val_loss: 0.0245 - val_acc: 0.0000e+00\n",
      "Epoch 73/80\n",
      "624/624 [==============================] - 0s 263us/sample - loss: 0.0062 - acc: 0.0000e+00 - val_loss: 0.0219 - val_acc: 0.0000e+00\n",
      "Epoch 74/80\n",
      "624/624 [==============================] - 0s 264us/sample - loss: 0.0060 - acc: 0.0000e+00 - val_loss: 0.0186 - val_acc: 0.0000e+00\n",
      "Epoch 75/80\n",
      "624/624 [==============================] - 0s 263us/sample - loss: 0.0053 - acc: 0.0000e+00 - val_loss: 0.0255 - val_acc: 0.0000e+00\n",
      "Epoch 76/80\n",
      "624/624 [==============================] - 0s 263us/sample - loss: 0.0067 - acc: 0.0000e+00 - val_loss: 0.0774 - val_acc: 0.0000e+00\n",
      "Epoch 77/80\n",
      "624/624 [==============================] - 0s 261us/sample - loss: 0.0077 - acc: 0.0000e+00 - val_loss: 0.0179 - val_acc: 0.0000e+00\n",
      "Epoch 78/80\n",
      "624/624 [==============================] - 0s 261us/sample - loss: 0.0050 - acc: 0.0000e+00 - val_loss: 0.0186 - val_acc: 0.0000e+00\n",
      "Epoch 79/80\n",
      "624/624 [==============================] - 0s 263us/sample - loss: 0.0057 - acc: 0.0000e+00 - val_loss: 0.0203 - val_acc: 0.0000e+00\n",
      "Epoch 80/80\n",
      "624/624 [==============================] - 0s 264us/sample - loss: 0.0053 - acc: 0.0000e+00 - val_loss: 0.0207 - val_acc: 0.0000e+00\n"
     ]
    }
   ],
   "source": [
    "### try autoregressive RNN model\n",
    "i = Input(shape=(T, 1))\n",
    "x = LSTM(5)(i)\n",
    "x = Dense(1)(x)\n",
    "model = Model(i, x)\n",
    "model.compile(\n",
    "    loss='mse',\n",
    "    optimizer=Adam(lr=0.1),\n",
    "    metrics=['accuracy']\n",
    ")\n",
    "\n",
    "# train the RNN\n",
    "r = model.fit(\n",
    "    X[:-N//2], Y[:-N//2],\n",
    "    epochs=80,\n",
    "    validation_data=(X[-N//2:], Y[-N//2:]),\n",
    ")  # classification이 아니라서 acc는 의미가 없다.."
   ]
  },
  {
   "cell_type": "code",
   "execution_count": 10,
   "metadata": {
    "colab": {
     "base_uri": "https://localhost:8080/",
     "height": 282
    },
    "colab_type": "code",
    "id": "QdEwztT-Xt_J",
    "outputId": "b47939f0-0720-465f-a3bf-facba6e87605"
   },
   "outputs": [
    {
     "data": {
      "text/plain": [
       "<matplotlib.legend.Legend at 0x216c4b50cc8>"
      ]
     },
     "execution_count": 10,
     "metadata": {},
     "output_type": "execute_result"
    },
    {
     "data": {
      "image/png": "[encoded data removed]",
      "text/plain": [
       "<Figure size 432x288 with 1 Axes>"
      ]
     },
     "metadata": {
      "needs_background": "light"
     },
     "output_type": "display_data"
    }
   ],
   "source": [
    "# plot accuracy per iteration\n",
    "plt.plot(r.history['loss'], label='loss')\n",
    "plt.plot(r.history['val_loss'], label='val_loss')\n",
    "plt.legend()"
   ]
  },
  {
   "cell_type": "code",
   "execution_count": 11,
   "metadata": {
    "colab": {
     "base_uri": "https://localhost:8080/",
     "height": 282
    },
    "colab_type": "code",
    "id": "zJh3b-H2YMwJ",
    "outputId": "5a007836-2e84-4bc5-9d1e-8ecd33aeae6f"
   },
   "outputs": [
    {
     "name": "stdout",
     "output_type": "stream",
     "text": [
      "(1249, 1)\n"
     ]
    },
    {
     "data": {
      "image/png": "[encoded data removed]",
      "text/plain": [
       "<Figure size 432x288 with 1 Axes>"
      ]
     },
     "metadata": {
      "needs_background": "light"
     },
     "output_type": "display_data"
    }
   ],
   "source": [
    "# One-step forecast using true targets\n",
    "outputs = model.predict(X)\n",
    "print(outputs.shape)\n",
    "predictions = outputs[:, 0]\n",
    "\n",
    "plt.plot(Y, label='targets')\n",
    "plt.plot(predictions, label='predictions')\n",
    "plt.legend()\n",
    "plt.show()"
   ]
  },
  {
   "cell_type": "code",
   "execution_count": 12,
   "metadata": {
    "colab": {
     "base_uri": "https://localhost:8080/",
     "height": 282
    },
    "colab_type": "code",
    "id": "1uhcJG1xYo8w",
    "outputId": "369b1919-7797-4999-b43f-04cfdc3ab785"
   },
   "outputs": [
    {
     "data": {
      "text/plain": [
       "<matplotlib.legend.Legend at 0x216c5d76c48>"
      ]
     },
     "execution_count": 12,
     "metadata": {},
     "output_type": "execute_result"
    },
    {
     "data": {
      "image/png": "[encoded data removed]",
      "text/plain": [
       "<Figure size 432x288 with 1 Axes>"
      ]
     },
     "metadata": {
      "needs_background": "light"
     },
     "output_type": "display_data"
    }
   ],
   "source": [
    "# Multi-step forecast # 바른 방법\n",
    "validation_target = Y[-N//2:]\n",
    "validation_predictions = []\n",
    "\n",
    "# last train input\n",
    "last_x = X[-N//2] # 1-D array of length T\n",
    "\n",
    "while len(validation_predictions) < len(validation_target):\n",
    "    p = model.predict(last_x.reshape(1, T, 1))[0,0] # 1x1 array -> scalar\n",
    "\n",
    "    # update the predictions list\n",
    "    validation_predictions.append(p)\n",
    "\n",
    "    # make the new input\n",
    "    last_x = np.roll(last_x, -1)\n",
    "    last_x[-1] = p\n",
    "\n",
    "plt.plot(validation_target, label='forecast target')\n",
    "plt.plot(validation_predictions, label='forecast prediction')\n",
    "plt.legend()"
   ]
  },
  {
   "cell_type": "code",
   "execution_count": 13,
   "metadata": {
    "colab": {},
    "colab_type": "code",
    "id": "KoVi99tUZqY6"
   },
   "outputs": [],
   "source": [
    "# calculate returns by first shifting the data\n",
    "df['PrevClose'] = df['close'].shift(1)  # move everything up 1\n",
    "\n",
    "# so now it's like\n",
    "# close / prev close\n",
    "# x[2] x[1]\n",
    "# x[3] x[2]\n",
    "# x[4] x[3]\n",
    "# ...\n",
    "# x[t] x[t-1]"
   ]
  },
  {
   "cell_type": "code",
   "execution_count": 14,
   "metadata": {
    "colab": {
     "base_uri": "https://localhost:8080/",
     "height": 204
    },
    "colab_type": "code",
    "id": "0Pku3KzlbUhE",
    "outputId": "123235d2-329c-4e86-94b7-98dfcb425893"
   },
   "outputs": [
    {
     "data": {
      "text/html": [
       "<div>\n",
       "<style scoped>\n",
       "    .dataframe tbody tr th:only-of-type {\n",
       "        vertical-align: middle;\n",
       "    }\n",
       "\n",
       "    .dataframe tbody tr th {\n",
       "        vertical-align: top;\n",
       "    }\n",
       "\n",
       "    .dataframe thead th {\n",
       "        text-align: right;\n",
       "    }\n",
       "</style>\n",
       "<table border=\"1\" class=\"dataframe\">\n",
       "  <thead>\n",
       "    <tr style=\"text-align: right;\">\n",
       "      <th></th>\n",
       "      <th>date</th>\n",
       "      <th>open</th>\n",
       "      <th>high</th>\n",
       "      <th>low</th>\n",
       "      <th>close</th>\n",
       "      <th>volume</th>\n",
       "      <th>Name</th>\n",
       "      <th>PrevClose</th>\n",
       "    </tr>\n",
       "  </thead>\n",
       "  <tbody>\n",
       "    <tr>\n",
       "      <th>0</th>\n",
       "      <td>2013-02-08</td>\n",
       "      <td>27.920</td>\n",
       "      <td>28.325</td>\n",
       "      <td>27.920</td>\n",
       "      <td>28.185</td>\n",
       "      <td>7146296</td>\n",
       "      <td>SBUX</td>\n",
       "      <td>NaN</td>\n",
       "    </tr>\n",
       "    <tr>\n",
       "      <th>1</th>\n",
       "      <td>2013-02-11</td>\n",
       "      <td>28.260</td>\n",
       "      <td>28.260</td>\n",
       "      <td>27.930</td>\n",
       "      <td>28.070</td>\n",
       "      <td>5457354</td>\n",
       "      <td>SBUX</td>\n",
       "      <td>28.185</td>\n",
       "    </tr>\n",
       "    <tr>\n",
       "      <th>2</th>\n",
       "      <td>2013-02-12</td>\n",
       "      <td>28.000</td>\n",
       "      <td>28.275</td>\n",
       "      <td>27.975</td>\n",
       "      <td>28.130</td>\n",
       "      <td>8665592</td>\n",
       "      <td>SBUX</td>\n",
       "      <td>28.070</td>\n",
       "    </tr>\n",
       "    <tr>\n",
       "      <th>3</th>\n",
       "      <td>2013-02-13</td>\n",
       "      <td>28.230</td>\n",
       "      <td>28.230</td>\n",
       "      <td>27.750</td>\n",
       "      <td>27.915</td>\n",
       "      <td>7022056</td>\n",
       "      <td>SBUX</td>\n",
       "      <td>28.130</td>\n",
       "    </tr>\n",
       "    <tr>\n",
       "      <th>4</th>\n",
       "      <td>2013-02-14</td>\n",
       "      <td>27.765</td>\n",
       "      <td>27.905</td>\n",
       "      <td>27.675</td>\n",
       "      <td>27.775</td>\n",
       "      <td>8899188</td>\n",
       "      <td>SBUX</td>\n",
       "      <td>27.915</td>\n",
       "    </tr>\n",
       "  </tbody>\n",
       "</table>\n",
       "</div>"
      ],
      "text/plain": [
       "         date    open    high     low   close   volume  Name  PrevClose\n",
       "0  2013-02-08  27.920  28.325  27.920  28.185  7146296  SBUX        NaN\n",
       "1  2013-02-11  28.260  28.260  27.930  28.070  5457354  SBUX     28.185\n",
       "2  2013-02-12  28.000  28.275  27.975  28.130  8665592  SBUX     28.070\n",
       "3  2013-02-13  28.230  28.230  27.750  27.915  7022056  SBUX     28.130\n",
       "4  2013-02-14  27.765  27.905  27.675  27.775  8899188  SBUX     27.915"
      ]
     },
     "execution_count": 14,
     "metadata": {},
     "output_type": "execute_result"
    }
   ],
   "source": [
    "df.head()"
   ]
  },
  {
   "cell_type": "code",
   "execution_count": 15,
   "metadata": {
    "colab": {},
    "colab_type": "code",
    "id": "CDuOu9KYbXMq"
   },
   "outputs": [],
   "source": [
    "# then the return is\n",
    "# (x[t] - x[t-1]) / x[t-1]\n",
    "df['Return'] = (df['close'] - df['PrevClose']) / df['PrevClose'] \n",
    "#변동폭... 마이너스면 종가대비 하락이고 반대는 상승이란 의미"
   ]
  },
  {
   "cell_type": "code",
   "execution_count": 16,
   "metadata": {
    "colab": {
     "base_uri": "https://localhost:8080/",
     "height": 204
    },
    "colab_type": "code",
    "id": "z7NLxxeQbxKf",
    "outputId": "47702fff-af93-452f-94ab-03923e8b8a0c"
   },
   "outputs": [
    {
     "data": {
      "text/html": [
       "<div>\n",
       "<style scoped>\n",
       "    .dataframe tbody tr th:only-of-type {\n",
       "        vertical-align: middle;\n",
       "    }\n",
       "\n",
       "    .dataframe tbody tr th {\n",
       "        vertical-align: top;\n",
       "    }\n",
       "\n",
       "    .dataframe thead th {\n",
       "        text-align: right;\n",
       "    }\n",
       "</style>\n",
       "<table border=\"1\" class=\"dataframe\">\n",
       "  <thead>\n",
       "    <tr style=\"text-align: right;\">\n",
       "      <th></th>\n",
       "      <th>date</th>\n",
       "      <th>open</th>\n",
       "      <th>high</th>\n",
       "      <th>low</th>\n",
       "      <th>close</th>\n",
       "      <th>volume</th>\n",
       "      <th>Name</th>\n",
       "      <th>PrevClose</th>\n",
       "      <th>Return</th>\n",
       "    </tr>\n",
       "  </thead>\n",
       "  <tbody>\n",
       "    <tr>\n",
       "      <th>0</th>\n",
       "      <td>2013-02-08</td>\n",
       "      <td>27.920</td>\n",
       "      <td>28.325</td>\n",
       "      <td>27.920</td>\n",
       "      <td>28.185</td>\n",
       "      <td>7146296</td>\n",
       "      <td>SBUX</td>\n",
       "      <td>NaN</td>\n",
       "      <td>NaN</td>\n",
       "    </tr>\n",
       "    <tr>\n",
       "      <th>1</th>\n",
       "      <td>2013-02-11</td>\n",
       "      <td>28.260</td>\n",
       "      <td>28.260</td>\n",
       "      <td>27.930</td>\n",
       "      <td>28.070</td>\n",
       "      <td>5457354</td>\n",
       "      <td>SBUX</td>\n",
       "      <td>28.185</td>\n",
       "      <td>-0.004080</td>\n",
       "    </tr>\n",
       "    <tr>\n",
       "      <th>2</th>\n",
       "      <td>2013-02-12</td>\n",
       "      <td>28.000</td>\n",
       "      <td>28.275</td>\n",
       "      <td>27.975</td>\n",
       "      <td>28.130</td>\n",
       "      <td>8665592</td>\n",
       "      <td>SBUX</td>\n",
       "      <td>28.070</td>\n",
       "      <td>0.002138</td>\n",
       "    </tr>\n",
       "    <tr>\n",
       "      <th>3</th>\n",
       "      <td>2013-02-13</td>\n",
       "      <td>28.230</td>\n",
       "      <td>28.230</td>\n",
       "      <td>27.750</td>\n",
       "      <td>27.915</td>\n",
       "      <td>7022056</td>\n",
       "      <td>SBUX</td>\n",
       "      <td>28.130</td>\n",
       "      <td>-0.007643</td>\n",
       "    </tr>\n",
       "    <tr>\n",
       "      <th>4</th>\n",
       "      <td>2013-02-14</td>\n",
       "      <td>27.765</td>\n",
       "      <td>27.905</td>\n",
       "      <td>27.675</td>\n",
       "      <td>27.775</td>\n",
       "      <td>8899188</td>\n",
       "      <td>SBUX</td>\n",
       "      <td>27.915</td>\n",
       "      <td>-0.005015</td>\n",
       "    </tr>\n",
       "  </tbody>\n",
       "</table>\n",
       "</div>"
      ],
      "text/plain": [
       "         date    open    high     low   close   volume  Name  PrevClose  \\\n",
       "0  2013-02-08  27.920  28.325  27.920  28.185  7146296  SBUX        NaN   \n",
       "1  2013-02-11  28.260  28.260  27.930  28.070  5457354  SBUX     28.185   \n",
       "2  2013-02-12  28.000  28.275  27.975  28.130  8665592  SBUX     28.070   \n",
       "3  2013-02-13  28.230  28.230  27.750  27.915  7022056  SBUX     28.130   \n",
       "4  2013-02-14  27.765  27.905  27.675  27.775  8899188  SBUX     27.915   \n",
       "\n",
       "     Return  \n",
       "0       NaN  \n",
       "1 -0.004080  \n",
       "2  0.002138  \n",
       "3 -0.007643  \n",
       "4 -0.005015  "
      ]
     },
     "execution_count": 16,
     "metadata": {},
     "output_type": "execute_result"
    }
   ],
   "source": [
    "df.head()"
   ]
  },
  {
   "cell_type": "code",
   "execution_count": 17,
   "metadata": {
    "colab": {
     "base_uri": "https://localhost:8080/",
     "height": 282
    },
    "colab_type": "code",
    "id": "qNSxm76qbyR3",
    "outputId": "495b53bd-197a-456e-e50d-9588e3009d67"
   },
   "outputs": [
    {
     "data": {
      "text/plain": [
       "<matplotlib.axes._subplots.AxesSubplot at 0x216c5db9e08>"
      ]
     },
     "execution_count": 17,
     "metadata": {},
     "output_type": "execute_result"
    },
    {
     "data": {
      "image/png": "[encoded data removed]",
      "text/plain": [
       "<Figure size 432x288 with 1 Axes>"
      ]
     },
     "metadata": {
      "needs_background": "light"
     },
     "output_type": "display_data"
    }
   ],
   "source": [
    "# Now let's try an LSTM to predict returns\n",
    "df['Return'].hist()"
   ]
  },
  {
   "cell_type": "code",
   "execution_count": 18,
   "metadata": {
    "colab": {},
    "colab_type": "code",
    "id": "H5W6_7Gvb-Xv"
   },
   "outputs": [],
   "source": [
    "series = df['Return'].values[1:].reshape(-1, 1)\n",
    "\n",
    "# Normalize the data\n",
    "# Note: I didn't think about where the true boundary is, this is just approx.\n",
    "scaler = StandardScaler()\n",
    "scaler.fit(series[:len(series) // 2])\n",
    "series = scaler.transform(series).flatten()"
   ]
  },
  {
   "cell_type": "code",
   "execution_count": 19,
   "metadata": {
    "colab": {
     "base_uri": "https://localhost:8080/",
     "height": 34
    },
    "colab_type": "code",
    "id": "R9J8-4MJceL6",
    "outputId": "80e9558a-67a1-4deb-f9e4-eea97e9307d3"
   },
   "outputs": [
    {
     "name": "stdout",
     "output_type": "stream",
     "text": [
      "X.shape (1248, 10, 1) Y.shape (1248,)\n"
     ]
    }
   ],
   "source": [
    "### build the dataset\n",
    "# let's see if we can use T past values to predict the next value\n",
    "T = 10\n",
    "D = 1\n",
    "X = []\n",
    "Y = []\n",
    "\n",
    "for t in range(len(series) - T):\n",
    "  x = series[t:t+T]\n",
    "  X.append(x)\n",
    "  y = series[t+T]\n",
    "  Y.append(y)\n",
    "\n",
    "X = np.array(X).reshape(-1, T, 1) # Now the data should be N x T x D\n",
    "Y = np.array(Y)\n",
    "N = len(X)\n",
    "print(\"X.shape\", X.shape, \"Y.shape\", Y.shape)"
   ]
  },
  {
   "cell_type": "code",
   "execution_count": 20,
   "metadata": {
    "colab": {
     "base_uri": "https://localhost:8080/",
     "height": 1000
    },
    "colab_type": "code",
    "id": "Nxy2hjRgdKD5",
    "outputId": "45c3377a-b3be-40a5-8cdc-001376c3d010"
   },
   "outputs": [
    {
     "name": "stdout",
     "output_type": "stream",
     "text": [
      "Train on 624 samples, validate on 624 samples\n",
      "Epoch 1/80\n",
      "624/624 [==============================] - 1s 1ms/sample - loss: 1.0087 - val_loss: 1.1369\n",
      "Epoch 2/80\n",
      "624/624 [==============================] - 0s 277us/sample - loss: 0.9897 - val_loss: 1.1665\n",
      "Epoch 3/80\n",
      "624/624 [==============================] - 0s 274us/sample - loss: 0.9876 - val_loss: 1.1610\n",
      "Epoch 4/80\n",
      "624/624 [==============================] - 0s 268us/sample - loss: 0.9758 - val_loss: 1.1762\n",
      "Epoch 5/80\n",
      "624/624 [==============================] - 0s 271us/sample - loss: 0.9809 - val_loss: 1.1527\n",
      "Epoch 6/80\n",
      "624/624 [==============================] - 0s 269us/sample - loss: 0.9734 - val_loss: 1.1745\n",
      "Epoch 7/80\n",
      "624/624 [==============================] - 0s 272us/sample - loss: 0.9701 - val_loss: 1.2244\n",
      "Epoch 8/80\n",
      "624/624 [==============================] - 0s 272us/sample - loss: 0.9650 - val_loss: 1.1896\n",
      "Epoch 9/80\n",
      "624/624 [==============================] - 0s 269us/sample - loss: 0.9698 - val_loss: 1.1692\n",
      "Epoch 10/80\n",
      "624/624 [==============================] - 0s 269us/sample - loss: 0.9648 - val_loss: 1.1469\n",
      "Epoch 11/80\n",
      "624/624 [==============================] - 0s 269us/sample - loss: 0.9830 - val_loss: 1.2192\n",
      "Epoch 12/80\n",
      "624/624 [==============================] - 0s 271us/sample - loss: 0.9742 - val_loss: 1.1990\n",
      "Epoch 13/80\n",
      "624/624 [==============================] - 0s 268us/sample - loss: 0.9474 - val_loss: 1.1858\n",
      "Epoch 14/80\n",
      "624/624 [==============================] - 0s 271us/sample - loss: 0.9745 - val_loss: 1.2317\n",
      "Epoch 15/80\n",
      "624/624 [==============================] - 0s 269us/sample - loss: 0.9665 - val_loss: 1.1662\n",
      "Epoch 16/80\n",
      "624/624 [==============================] - 0s 269us/sample - loss: 0.9703 - val_loss: 1.1587\n",
      "Epoch 17/80\n",
      "624/624 [==============================] - 0s 269us/sample - loss: 0.9717 - val_loss: 1.1742\n",
      "Epoch 18/80\n",
      "624/624 [==============================] - 0s 269us/sample - loss: 0.9547 - val_loss: 1.2388\n",
      "Epoch 19/80\n",
      "624/624 [==============================] - 0s 268us/sample - loss: 0.9694 - val_loss: 1.2070\n",
      "Epoch 20/80\n",
      "624/624 [==============================] - 0s 269us/sample - loss: 0.9724 - val_loss: 1.1616\n",
      "Epoch 21/80\n",
      "624/624 [==============================] - 0s 269us/sample - loss: 0.9801 - val_loss: 1.1699\n",
      "Epoch 22/80\n",
      "624/624 [==============================] - 0s 269us/sample - loss: 0.9655 - val_loss: 1.1777\n",
      "Epoch 23/80\n",
      "624/624 [==============================] - 0s 279us/sample - loss: 0.9523 - val_loss: 1.2036\n",
      "Epoch 24/80\n",
      "624/624 [==============================] - 0s 282us/sample - loss: 0.9405 - val_loss: 1.2116\n",
      "Epoch 25/80\n",
      "624/624 [==============================] - 0s 279us/sample - loss: 0.9361 - val_loss: 1.1939\n",
      "Epoch 26/80\n",
      "624/624 [==============================] - 0s 269us/sample - loss: 0.9439 - val_loss: 1.2054\n",
      "Epoch 27/80\n",
      "624/624 [==============================] - 0s 269us/sample - loss: 0.9366 - val_loss: 1.1960\n",
      "Epoch 28/80\n",
      "624/624 [==============================] - 0s 268us/sample - loss: 0.9262 - val_loss: 1.2651\n",
      "Epoch 29/80\n",
      "624/624 [==============================] - 0s 268us/sample - loss: 0.9063 - val_loss: 1.2536\n",
      "Epoch 30/80\n",
      "624/624 [==============================] - 0s 271us/sample - loss: 0.9131 - val_loss: 1.3362\n",
      "Epoch 31/80\n",
      "624/624 [==============================] - 0s 269us/sample - loss: 0.9441 - val_loss: 1.2077\n",
      "Epoch 32/80\n",
      "624/624 [==============================] - 0s 268us/sample - loss: 0.9875 - val_loss: 1.1482\n",
      "Epoch 33/80\n",
      "624/624 [==============================] - 0s 272us/sample - loss: 0.9722 - val_loss: 1.1856\n",
      "Epoch 34/80\n",
      "624/624 [==============================] - 0s 271us/sample - loss: 0.9367 - val_loss: 1.1850\n",
      "Epoch 35/80\n",
      "624/624 [==============================] - 0s 271us/sample - loss: 0.9439 - val_loss: 1.2391\n",
      "Epoch 36/80\n",
      "624/624 [==============================] - 0s 280us/sample - loss: 0.9356 - val_loss: 1.2393\n",
      "Epoch 37/80\n",
      "624/624 [==============================] - 0s 271us/sample - loss: 0.9477 - val_loss: 1.2010\n",
      "Epoch 38/80\n",
      "624/624 [==============================] - 0s 268us/sample - loss: 0.9317 - val_loss: 1.2436\n",
      "Epoch 39/80\n",
      "624/624 [==============================] - 0s 268us/sample - loss: 0.9441 - val_loss: 1.2915\n",
      "Epoch 40/80\n",
      "624/624 [==============================] - 0s 269us/sample - loss: 0.9421 - val_loss: 1.2592\n",
      "Epoch 41/80\n",
      "624/624 [==============================] - 0s 268us/sample - loss: 0.9685 - val_loss: 1.3475\n",
      "Epoch 42/80\n",
      "624/624 [==============================] - 0s 274us/sample - loss: 0.9620 - val_loss: 1.3116\n",
      "Epoch 43/80\n",
      "624/624 [==============================] - 0s 271us/sample - loss: 0.9305 - val_loss: 1.3064\n",
      "Epoch 44/80\n",
      "624/624 [==============================] - 0s 271us/sample - loss: 0.9292 - val_loss: 1.2617\n",
      "Epoch 45/80\n",
      "624/624 [==============================] - 0s 271us/sample - loss: 0.9349 - val_loss: 1.2351\n",
      "Epoch 46/80\n",
      "624/624 [==============================] - 0s 271us/sample - loss: 0.9475 - val_loss: 1.2497\n",
      "Epoch 47/80\n",
      "624/624 [==============================] - 0s 271us/sample - loss: 0.9340 - val_loss: 1.2461\n",
      "Epoch 48/80\n",
      "624/624 [==============================] - 0s 268us/sample - loss: 0.9262 - val_loss: 1.2422\n",
      "Epoch 49/80\n",
      "624/624 [==============================] - 0s 268us/sample - loss: 0.9297 - val_loss: 1.2307\n",
      "Epoch 50/80\n",
      "624/624 [==============================] - 0s 268us/sample - loss: 0.9319 - val_loss: 1.3173\n",
      "Epoch 51/80\n",
      "624/624 [==============================] - 0s 269us/sample - loss: 0.9560 - val_loss: 1.2340\n",
      "Epoch 52/80\n",
      "624/624 [==============================] - 0s 269us/sample - loss: 0.9607 - val_loss: 1.1892\n",
      "Epoch 53/80\n",
      "624/624 [==============================] - 0s 269us/sample - loss: 0.9307 - val_loss: 1.2337\n",
      "Epoch 54/80\n",
      "624/624 [==============================] - 0s 269us/sample - loss: 0.9386 - val_loss: 1.2965\n",
      "Epoch 55/80\n",
      "624/624 [==============================] - 0s 271us/sample - loss: 0.9698 - val_loss: 1.1833\n",
      "Epoch 56/80\n",
      "624/624 [==============================] - 0s 269us/sample - loss: 0.9601 - val_loss: 1.1965\n",
      "Epoch 57/80\n",
      "624/624 [==============================] - 0s 266us/sample - loss: 0.9322 - val_loss: 1.2039\n",
      "Epoch 58/80\n",
      "624/624 [==============================] - 0s 266us/sample - loss: 0.9383 - val_loss: 1.2888\n",
      "Epoch 59/80\n",
      "624/624 [==============================] - 0s 271us/sample - loss: 0.9189 - val_loss: 1.2589\n",
      "Epoch 60/80\n",
      "624/624 [==============================] - 0s 268us/sample - loss: 0.9114 - val_loss: 1.2770\n",
      "Epoch 61/80\n",
      "624/624 [==============================] - 0s 266us/sample - loss: 0.9070 - val_loss: 1.3053\n",
      "Epoch 62/80\n",
      "624/624 [==============================] - 0s 264us/sample - loss: 0.8922 - val_loss: 1.2711\n",
      "Epoch 63/80\n",
      "624/624 [==============================] - 0s 277us/sample - loss: 0.9024 - val_loss: 1.2806\n",
      "Epoch 64/80\n",
      "624/624 [==============================] - 0s 266us/sample - loss: 0.9078 - val_loss: 1.2755\n",
      "Epoch 65/80\n",
      "624/624 [==============================] - 0s 269us/sample - loss: 0.9081 - val_loss: 1.3148\n",
      "Epoch 66/80\n",
      "624/624 [==============================] - 0s 266us/sample - loss: 0.8913 - val_loss: 1.2503\n",
      "Epoch 67/80\n",
      "624/624 [==============================] - 0s 264us/sample - loss: 0.9126 - val_loss: 1.2107\n",
      "Epoch 68/80\n",
      "624/624 [==============================] - 0s 266us/sample - loss: 0.9520 - val_loss: 1.2758\n",
      "Epoch 69/80\n",
      "624/624 [==============================] - 0s 277us/sample - loss: 0.9910 - val_loss: 1.1427\n",
      "Epoch 70/80\n",
      "624/624 [==============================] - 0s 282us/sample - loss: 0.9876 - val_loss: 1.1833\n",
      "Epoch 71/80\n",
      "624/624 [==============================] - 0s 288us/sample - loss: 0.9798 - val_loss: 1.2145\n",
      "Epoch 72/80\n",
      "624/624 [==============================] - 0s 295us/sample - loss: 0.9569 - val_loss: 1.2504\n",
      "Epoch 73/80\n",
      "624/624 [==============================] - 0s 292us/sample - loss: 0.9577 - val_loss: 1.2115\n",
      "Epoch 74/80\n",
      "624/624 [==============================] - 0s 280us/sample - loss: 0.9522 - val_loss: 1.2541\n",
      "Epoch 75/80\n",
      "624/624 [==============================] - 0s 264us/sample - loss: 0.9326 - val_loss: 1.2312\n",
      "Epoch 76/80\n",
      "624/624 [==============================] - 0s 269us/sample - loss: 0.9487 - val_loss: 1.2277\n",
      "Epoch 77/80\n",
      "624/624 [==============================] - 0s 269us/sample - loss: 0.9702 - val_loss: 1.2288\n",
      "Epoch 78/80\n"
     ]
    },
    {
     "name": "stdout",
     "output_type": "stream",
     "text": [
      "624/624 [==============================] - 0s 266us/sample - loss: 0.9221 - val_loss: 1.2449\n",
      "Epoch 79/80\n",
      "624/624 [==============================] - 0s 269us/sample - loss: 0.9286 - val_loss: 1.2628\n",
      "Epoch 80/80\n",
      "624/624 [==============================] - 0s 269us/sample - loss: 0.9016 - val_loss: 1.2379\n"
     ]
    }
   ],
   "source": [
    "### try autoregressive RNN model\n",
    "i = Input(shape=(T, 1))\n",
    "x = LSTM(5)(i)\n",
    "x = Dense(1)(x)\n",
    "model = Model(i, x)\n",
    "model.compile(\n",
    "    loss='mse',\n",
    "    optimizer=Adam(lr=0.1)\n",
    ")\n",
    "\n",
    "# train the RNN\n",
    "r = model.fit(\n",
    "    X[:-N//2], Y[:-N//2],\n",
    "    epochs=80,\n",
    "    validation_data=(X[-N//2:], Y[-N//2:]),\n",
    ")"
   ]
  },
  {
   "cell_type": "code",
   "execution_count": 21,
   "metadata": {
    "colab": {
     "base_uri": "https://localhost:8080/",
     "height": 282
    },
    "colab_type": "code",
    "id": "vYacDLhxdgua",
    "outputId": "f71e71e9-6b71-4093-e83d-91a441336ecc"
   },
   "outputs": [
    {
     "data": {
      "text/plain": [
       "<matplotlib.legend.Legend at 0x216c6209f88>"
      ]
     },
     "execution_count": 21,
     "metadata": {},
     "output_type": "execute_result"
    },
    {
     "data": {
      "image/png": "[encoded data removed]",
      "text/plain": [
       "<Figure size 432x288 with 1 Axes>"
      ]
     },
     "metadata": {
      "needs_background": "light"
     },
     "output_type": "display_data"
    }
   ],
   "source": [
    "# plot accuracy per iteration\n",
    "plt.plot(r.history['loss'], label='loss')\n",
    "plt.plot(r.history['val_loss'], label='val_loss')\n",
    "plt.legend()\n",
    "# return 값으로 한 것에 비해 loss 값의 오차가 있다"
   ]
  },
  {
   "cell_type": "code",
   "execution_count": 22,
   "metadata": {
    "colab": {
     "base_uri": "https://localhost:8080/",
     "height": 282
    },
    "colab_type": "code",
    "id": "LhocvdXqdroK",
    "outputId": "797fc1b0-8454-4510-8d39-53b311c0035e"
   },
   "outputs": [
    {
     "name": "stdout",
     "output_type": "stream",
     "text": [
      "(1248, 1)\n"
     ]
    },
    {
     "data": {
      "image/png": "[encoded data removed]",
      "text/plain": [
       "<Figure size 432x288 with 1 Axes>"
      ]
     },
     "metadata": {
      "needs_background": "light"
     },
     "output_type": "display_data"
    }
   ],
   "source": [
    "# One-step forecast using true targets\n",
    "outputs = model.predict(X)\n",
    "print(outputs.shape)\n",
    "predictions = outputs[:, 0]\n",
    "\n",
    "plt.plot(Y, label='targets')\n",
    "plt.plot(predictions, label='predictions')\n",
    "plt.legend()\n",
    "plt.show()\n",
    "# 거의 못맞추넹"
   ]
  },
  {
   "cell_type": "code",
   "execution_count": 23,
   "metadata": {
    "colab": {
     "base_uri": "https://localhost:8080/",
     "height": 282
    },
    "colab_type": "code",
    "id": "4UHl9Vikd7s3",
    "outputId": "a3764a7d-5017-4805-c0f6-62db81d83cf5"
   },
   "outputs": [
    {
     "data": {
      "text/plain": [
       "<matplotlib.legend.Legend at 0x216c82acc08>"
      ]
     },
     "execution_count": 23,
     "metadata": {},
     "output_type": "execute_result"
    },
    {
     "data": {
      "image/png": "[encoded data removed]",
      "text/plain": [
       "<Figure size 432x288 with 1 Axes>"
      ]
     },
     "metadata": {
      "needs_background": "light"
     },
     "output_type": "display_data"
    }
   ],
   "source": [
    "# Multi-step forecast\n",
    "validation_target = Y[-N//2:]\n",
    "validation_predictions = []\n",
    "\n",
    "# last train input\n",
    "last_x = X[-N//2] # 1-D array of length T\n",
    "\n",
    "while len(validation_predictions) < len(validation_target):\n",
    "    p = model.predict(last_x.reshape(1, T, 1))[0,0] # 1x1 array -> scalar\n",
    "\n",
    "    # update the predictions list\n",
    "    validation_predictions.append(p)\n",
    "\n",
    "    # make the new input\n",
    "    last_x = np.roll(last_x, -1)\n",
    "    last_x[-1] = p\n",
    "\n",
    "plt.plot(validation_target, label='forecast target')\n",
    "plt.plot(validation_predictions, label='forecast prediction')\n",
    "plt.legend()"
   ]
  },
  {
   "cell_type": "code",
   "execution_count": 24,
   "metadata": {
    "colab": {},
    "colab_type": "code",
    "id": "4coM4e0GeMtV"
   },
   "outputs": [],
   "source": [
    "# Now turn the full data into numpy arrays\n",
    "\n",
    "# Not yet in the final \"X\" format\n",
    "input_data = df[['open', 'high', 'low', 'close', 'volume']].values\n",
    "targets = df['Return'].values"
   ]
  },
  {
   "cell_type": "code",
   "execution_count": 25,
   "metadata": {
    "colab": {},
    "colab_type": "code",
    "id": "rsg9kR83fD4J"
   },
   "outputs": [],
   "source": [
    "# Now make the actual data which will go into the nerual network\n",
    "T = 10 # the number of time steps to look at to make a prediction for the next day\n",
    "D = input_data.shape[1]\n",
    "N = len(input_data) - T # (e.g. if T=10 and you have 11 data points then you'd only have 1 same thing)"
   ]
  },
  {
   "cell_type": "code",
   "execution_count": 26,
   "metadata": {
    "colab": {},
    "colab_type": "code",
    "id": "J6FffWSmf7KH"
   },
   "outputs": [],
   "source": [
    "# normalize the inputs\n",
    "Ntrain = len(input_data) * 2// 3\n",
    "scaler = StandardScaler()\n",
    "scaler.fit(input_data[:Ntrain + T])\n",
    "input_data = scaler.transform(input_data)"
   ]
  },
  {
   "cell_type": "code",
   "execution_count": 27,
   "metadata": {
    "colab": {},
    "colab_type": "code",
    "id": "r-O-nVBXgMCO"
   },
   "outputs": [],
   "source": [
    "# Setup X_train and Y_train\n",
    "X_train = np.zeros((Ntrain, T, D))\n",
    "Y_train = np.zeros(Ntrain) # zero를 채우고 하는게 더 빨라서\n",
    "\n",
    "for t in range(Ntrain):\n",
    "  X_train[t, :, :] = input_data[t:t+T]\n",
    "  Y_train[t] = (targets[t+T] > 0)"
   ]
  },
  {
   "cell_type": "code",
   "execution_count": 28,
   "metadata": {
    "colab": {},
    "colab_type": "code",
    "id": "iIku2lEmgcaU"
   },
   "outputs": [],
   "source": [
    "# Setup X_test and Y_test\n",
    "X_test = np.zeros((N - Ntrain, T, D))\n",
    "Y_test = np.zeros(N -Ntrain)\n",
    "\n",
    "for u in range(N - Ntrain):\n",
    "  # u counts from 0...(N-Ntrain)\n",
    "  # t counts from Ntrain...N\n",
    "  t = u + Ntrain\n",
    "  X_test[u, :, :] = input_data[t:t+T]\n",
    "  Y_test[u] = (targets[t+T] > 0)"
   ]
  },
  {
   "cell_type": "code",
   "execution_count": 29,
   "metadata": {
    "colab": {},
    "colab_type": "code",
    "id": "vWQ7JNCThCGy"
   },
   "outputs": [],
   "source": [
    "# make the RNN\n",
    "i = Input(shape=(T, D))\n",
    "x = LSTM(50)(i)\n",
    "x = Dense(1, activation='sigmoid')(x)\n",
    "model = Model(i, x)\n",
    "model.compile(\n",
    "    loss='binary_crossentropy',\n",
    "    optimizer=Adam(lr=0.001),\n",
    "    metrics=['accuracy']\n",
    ")\n"
   ]
  },
  {
   "cell_type": "code",
   "execution_count": 30,
   "metadata": {
    "colab": {
     "base_uri": "https://localhost:8080/",
     "height": 1000
    },
    "colab_type": "code",
    "id": "N3jE4YxLhk29",
    "outputId": "fd09563f-0f32-49bc-815f-2ab579e741c0"
   },
   "outputs": [
    {
     "name": "stdout",
     "output_type": "stream",
     "text": [
      "Train on 839 samples, validate on 410 samples\n",
      "Epoch 1/300\n",
      "839/839 [==============================] - 1s 805us/sample - loss: 0.6956 - acc: 0.4827 - val_loss: 0.6908 - val_acc: 0.5171\n",
      "Epoch 2/300\n",
      "839/839 [==============================] - 0s 263us/sample - loss: 0.6941 - acc: 0.5066 - val_loss: 0.6937 - val_acc: 0.4854\n",
      "Epoch 3/300\n",
      "839/839 [==============================] - 0s 260us/sample - loss: 0.6920 - acc: 0.5221 - val_loss: 0.6936 - val_acc: 0.4854\n",
      "Epoch 4/300\n",
      "839/839 [==============================] - 0s 263us/sample - loss: 0.6918 - acc: 0.5197 - val_loss: 0.6914 - val_acc: 0.5317\n",
      "Epoch 5/300\n",
      "839/839 [==============================] - 0s 263us/sample - loss: 0.6914 - acc: 0.5292 - val_loss: 0.6913 - val_acc: 0.5317\n",
      "Epoch 6/300\n",
      "839/839 [==============================] - 0s 260us/sample - loss: 0.6913 - acc: 0.5268 - val_loss: 0.6922 - val_acc: 0.4927\n",
      "Epoch 7/300\n",
      "839/839 [==============================] - 0s 262us/sample - loss: 0.6920 - acc: 0.5018 - val_loss: 0.6949 - val_acc: 0.4878\n",
      "Epoch 8/300\n",
      "839/839 [==============================] - 0s 262us/sample - loss: 0.6898 - acc: 0.5340 - val_loss: 0.6938 - val_acc: 0.4951\n",
      "Epoch 9/300\n",
      "839/839 [==============================] - 0s 271us/sample - loss: 0.6894 - acc: 0.5364 - val_loss: 0.6940 - val_acc: 0.4976\n",
      "Epoch 10/300\n",
      "839/839 [==============================] - 0s 277us/sample - loss: 0.6887 - acc: 0.5435 - val_loss: 0.6905 - val_acc: 0.5220\n",
      "Epoch 11/300\n",
      "839/839 [==============================] - 0s 274us/sample - loss: 0.6881 - acc: 0.5423 - val_loss: 0.6913 - val_acc: 0.5024\n",
      "Epoch 12/300\n",
      "839/839 [==============================] - 0s 280us/sample - loss: 0.6873 - acc: 0.5364 - val_loss: 0.6934 - val_acc: 0.4878\n",
      "Epoch 13/300\n",
      "839/839 [==============================] - 0s 273us/sample - loss: 0.6875 - acc: 0.5447 - val_loss: 0.6898 - val_acc: 0.5341\n",
      "Epoch 14/300\n",
      "839/839 [==============================] - 0s 277us/sample - loss: 0.6882 - acc: 0.5352 - val_loss: 0.6975 - val_acc: 0.5000\n",
      "Epoch 15/300\n",
      "839/839 [==============================] - 0s 263us/sample - loss: 0.6881 - acc: 0.5292 - val_loss: 0.6915 - val_acc: 0.5268\n",
      "Epoch 16/300\n",
      "839/839 [==============================] - 0s 263us/sample - loss: 0.6866 - acc: 0.5435 - val_loss: 0.6945 - val_acc: 0.4878\n",
      "Epoch 17/300\n",
      "839/839 [==============================] - 0s 260us/sample - loss: 0.6883 - acc: 0.5221 - val_loss: 0.6921 - val_acc: 0.5146\n",
      "Epoch 18/300\n",
      "839/839 [==============================] - 0s 255us/sample - loss: 0.6877 - acc: 0.5530 - val_loss: 0.6942 - val_acc: 0.4902\n",
      "Epoch 19/300\n",
      "839/839 [==============================] - 0s 255us/sample - loss: 0.6869 - acc: 0.5387 - val_loss: 0.6919 - val_acc: 0.5244\n",
      "Epoch 20/300\n",
      "839/839 [==============================] - 0s 268us/sample - loss: 0.6863 - acc: 0.5387 - val_loss: 0.6960 - val_acc: 0.4902\n",
      "Epoch 21/300\n",
      "839/839 [==============================] - 0s 261us/sample - loss: 0.6849 - acc: 0.5483 - val_loss: 0.6916 - val_acc: 0.5244\n",
      "Epoch 22/300\n",
      "839/839 [==============================] - 0s 257us/sample - loss: 0.6858 - acc: 0.5721 - val_loss: 0.6927 - val_acc: 0.5293\n",
      "Epoch 23/300\n",
      "839/839 [==============================] - 0s 260us/sample - loss: 0.6848 - acc: 0.5459 - val_loss: 0.6940 - val_acc: 0.5146\n",
      "Epoch 24/300\n",
      "839/839 [==============================] - 0s 267us/sample - loss: 0.6857 - acc: 0.5518 - val_loss: 0.6923 - val_acc: 0.5195\n",
      "Epoch 25/300\n",
      "839/839 [==============================] - 0s 261us/sample - loss: 0.6838 - acc: 0.5721 - val_loss: 0.6902 - val_acc: 0.5415\n",
      "Epoch 26/300\n",
      "839/839 [==============================] - 0s 265us/sample - loss: 0.6834 - acc: 0.5733 - val_loss: 0.6956 - val_acc: 0.5000\n",
      "Epoch 27/300\n",
      "839/839 [==============================] - 0s 250us/sample - loss: 0.6834 - acc: 0.5697 - val_loss: 0.7022 - val_acc: 0.4976\n",
      "Epoch 28/300\n",
      "839/839 [==============================] - 0s 254us/sample - loss: 0.6836 - acc: 0.5554 - val_loss: 0.6948 - val_acc: 0.5268\n",
      "Epoch 29/300\n",
      "839/839 [==============================] - 0s 262us/sample - loss: 0.6819 - acc: 0.5673 - val_loss: 0.6927 - val_acc: 0.5220\n",
      "Epoch 30/300\n",
      "839/839 [==============================] - 0s 257us/sample - loss: 0.6831 - acc: 0.5697 - val_loss: 0.6944 - val_acc: 0.5268\n",
      "Epoch 31/300\n",
      "839/839 [==============================] - 0s 268us/sample - loss: 0.6824 - acc: 0.5685 - val_loss: 0.6938 - val_acc: 0.5317\n",
      "Epoch 32/300\n",
      "839/839 [==============================] - 0s 275us/sample - loss: 0.6808 - acc: 0.5721 - val_loss: 0.6955 - val_acc: 0.5293\n",
      "Epoch 33/300\n",
      "839/839 [==============================] - 0s 256us/sample - loss: 0.6809 - acc: 0.5864 - val_loss: 0.6989 - val_acc: 0.5024\n",
      "Epoch 34/300\n",
      "839/839 [==============================] - 0s 257us/sample - loss: 0.6791 - acc: 0.5757 - val_loss: 0.6940 - val_acc: 0.5293\n",
      "Epoch 35/300\n",
      "839/839 [==============================] - 0s 263us/sample - loss: 0.6800 - acc: 0.5697 - val_loss: 0.6974 - val_acc: 0.5220\n",
      "Epoch 36/300\n",
      "839/839 [==============================] - 0s 262us/sample - loss: 0.6804 - acc: 0.5733 - val_loss: 0.7037 - val_acc: 0.4878\n",
      "Epoch 37/300\n",
      "839/839 [==============================] - 0s 261us/sample - loss: 0.6809 - acc: 0.5733 - val_loss: 0.6963 - val_acc: 0.5268\n",
      "Epoch 38/300\n",
      "839/839 [==============================] - 0s 255us/sample - loss: 0.6801 - acc: 0.5602 - val_loss: 0.6961 - val_acc: 0.5317\n",
      "Epoch 39/300\n",
      "839/839 [==============================] - 0s 251us/sample - loss: 0.6792 - acc: 0.5590 - val_loss: 0.6983 - val_acc: 0.5073\n",
      "Epoch 40/300\n",
      "839/839 [==============================] - 0s 251us/sample - loss: 0.6791 - acc: 0.5781 - val_loss: 0.6990 - val_acc: 0.5171\n",
      "Epoch 41/300\n",
      "839/839 [==============================] - 0s 259us/sample - loss: 0.6773 - acc: 0.5721 - val_loss: 0.6959 - val_acc: 0.5195\n",
      "Epoch 42/300\n",
      "839/839 [==============================] - 0s 266us/sample - loss: 0.6765 - acc: 0.5721 - val_loss: 0.6973 - val_acc: 0.5268\n",
      "Epoch 43/300\n",
      "839/839 [==============================] - 0s 255us/sample - loss: 0.6757 - acc: 0.5566 - val_loss: 0.6956 - val_acc: 0.5317\n",
      "Epoch 44/300\n",
      "839/839 [==============================] - 0s 255us/sample - loss: 0.6756 - acc: 0.5685 - val_loss: 0.6969 - val_acc: 0.5317\n",
      "Epoch 45/300\n",
      "839/839 [==============================] - 0s 256us/sample - loss: 0.6770 - acc: 0.5769 - val_loss: 0.6986 - val_acc: 0.5195\n",
      "Epoch 46/300\n",
      "839/839 [==============================] - 0s 260us/sample - loss: 0.6740 - acc: 0.5626 - val_loss: 0.6971 - val_acc: 0.5293\n",
      "Epoch 47/300\n",
      "839/839 [==============================] - 0s 256us/sample - loss: 0.6748 - acc: 0.5721 - val_loss: 0.7004 - val_acc: 0.5024\n",
      "Epoch 48/300\n",
      "839/839 [==============================] - 0s 259us/sample - loss: 0.6746 - acc: 0.5757 - val_loss: 0.7004 - val_acc: 0.5098\n",
      "Epoch 49/300\n",
      "839/839 [==============================] - 0s 256us/sample - loss: 0.6726 - acc: 0.5793 - val_loss: 0.7008 - val_acc: 0.5049\n",
      "Epoch 50/300\n",
      "839/839 [==============================] - 0s 261us/sample - loss: 0.6725 - acc: 0.5673 - val_loss: 0.7001 - val_acc: 0.5073\n",
      "Epoch 51/300\n",
      "839/839 [==============================] - 0s 255us/sample - loss: 0.6715 - acc: 0.5793 - val_loss: 0.7053 - val_acc: 0.5049\n",
      "Epoch 52/300\n",
      "839/839 [==============================] - 0s 250us/sample - loss: 0.6709 - acc: 0.5805 - val_loss: 0.6975 - val_acc: 0.5195\n",
      "Epoch 53/300\n",
      "839/839 [==============================] - 0s 260us/sample - loss: 0.6705 - acc: 0.5709 - val_loss: 0.7020 - val_acc: 0.5244\n",
      "Epoch 54/300\n",
      "839/839 [==============================] - 0s 269us/sample - loss: 0.6681 - acc: 0.5709 - val_loss: 0.7026 - val_acc: 0.5195\n",
      "Epoch 55/300\n",
      "839/839 [==============================] - 0s 269us/sample - loss: 0.6682 - acc: 0.5781 - val_loss: 0.6985 - val_acc: 0.5024\n",
      "Epoch 56/300\n",
      "839/839 [==============================] - 0s 267us/sample - loss: 0.6674 - acc: 0.5781 - val_loss: 0.6976 - val_acc: 0.5171\n",
      "Epoch 57/300\n",
      "839/839 [==============================] - 0s 274us/sample - loss: 0.6685 - acc: 0.5828 - val_loss: 0.7031 - val_acc: 0.5098\n",
      "Epoch 58/300\n",
      "839/839 [==============================] - 0s 267us/sample - loss: 0.6692 - acc: 0.5781 - val_loss: 0.7007 - val_acc: 0.4927\n",
      "Epoch 59/300\n",
      "839/839 [==============================] - 0s 260us/sample - loss: 0.6644 - acc: 0.5876 - val_loss: 0.7078 - val_acc: 0.5073\n",
      "Epoch 60/300\n"
     ]
    },
    {
     "name": "stdout",
     "output_type": "stream",
     "text": [
      "839/839 [==============================] - 0s 260us/sample - loss: 0.6669 - acc: 0.5805 - val_loss: 0.7031 - val_acc: 0.5049\n",
      "Epoch 61/300\n",
      "839/839 [==============================] - 0s 253us/sample - loss: 0.6626 - acc: 0.5864 - val_loss: 0.7059 - val_acc: 0.4927\n",
      "Epoch 62/300\n",
      "839/839 [==============================] - 0s 255us/sample - loss: 0.6637 - acc: 0.5912 - val_loss: 0.7029 - val_acc: 0.4927\n",
      "Epoch 63/300\n",
      "839/839 [==============================] - 0s 255us/sample - loss: 0.6626 - acc: 0.6007 - val_loss: 0.7031 - val_acc: 0.4927\n",
      "Epoch 64/300\n",
      "839/839 [==============================] - 0s 256us/sample - loss: 0.6605 - acc: 0.5971 - val_loss: 0.7050 - val_acc: 0.4878\n",
      "Epoch 65/300\n",
      "839/839 [==============================] - 0s 253us/sample - loss: 0.6595 - acc: 0.5900 - val_loss: 0.7074 - val_acc: 0.5024\n",
      "Epoch 66/300\n",
      "839/839 [==============================] - 0s 259us/sample - loss: 0.6577 - acc: 0.5924 - val_loss: 0.7042 - val_acc: 0.5024\n",
      "Epoch 67/300\n",
      "839/839 [==============================] - 0s 259us/sample - loss: 0.6584 - acc: 0.5948 - val_loss: 0.7067 - val_acc: 0.5000\n",
      "Epoch 68/300\n",
      "839/839 [==============================] - 0s 257us/sample - loss: 0.6575 - acc: 0.6007 - val_loss: 0.7027 - val_acc: 0.4976\n",
      "Epoch 69/300\n",
      "839/839 [==============================] - 0s 257us/sample - loss: 0.6556 - acc: 0.5971 - val_loss: 0.7091 - val_acc: 0.4976\n",
      "Epoch 70/300\n",
      "839/839 [==============================] - 0s 271us/sample - loss: 0.6504 - acc: 0.6019 - val_loss: 0.7084 - val_acc: 0.4976\n",
      "Epoch 71/300\n",
      "839/839 [==============================] - 0s 260us/sample - loss: 0.6504 - acc: 0.6186 - val_loss: 0.7030 - val_acc: 0.4902\n",
      "Epoch 72/300\n",
      "839/839 [==============================] - 0s 256us/sample - loss: 0.6472 - acc: 0.6091 - val_loss: 0.7078 - val_acc: 0.4951\n",
      "Epoch 73/300\n",
      "839/839 [==============================] - 0s 260us/sample - loss: 0.6483 - acc: 0.6162 - val_loss: 0.7107 - val_acc: 0.4927\n",
      "Epoch 74/300\n",
      "839/839 [==============================] - 0s 255us/sample - loss: 0.6518 - acc: 0.5995 - val_loss: 0.7121 - val_acc: 0.5000\n",
      "Epoch 75/300\n",
      "839/839 [==============================] - 0s 257us/sample - loss: 0.6468 - acc: 0.6234 - val_loss: 0.7107 - val_acc: 0.4902\n",
      "Epoch 76/300\n",
      "839/839 [==============================] - 0s 260us/sample - loss: 0.6478 - acc: 0.6103 - val_loss: 0.7212 - val_acc: 0.4976\n",
      "Epoch 77/300\n",
      "839/839 [==============================] - 0s 254us/sample - loss: 0.6416 - acc: 0.6234 - val_loss: 0.7131 - val_acc: 0.4902\n",
      "Epoch 78/300\n",
      "839/839 [==============================] - 0s 259us/sample - loss: 0.6401 - acc: 0.6222 - val_loss: 0.7133 - val_acc: 0.4829\n",
      "Epoch 79/300\n",
      "839/839 [==============================] - 0s 259us/sample - loss: 0.6378 - acc: 0.6234 - val_loss: 0.7139 - val_acc: 0.4878\n",
      "Epoch 80/300\n",
      "839/839 [==============================] - 0s 257us/sample - loss: 0.6396 - acc: 0.6246 - val_loss: 0.7143 - val_acc: 0.4780\n",
      "Epoch 81/300\n",
      "839/839 [==============================] - 0s 256us/sample - loss: 0.6363 - acc: 0.6079 - val_loss: 0.7144 - val_acc: 0.4951\n",
      "Epoch 82/300\n",
      "839/839 [==============================] - 0s 278us/sample - loss: 0.6357 - acc: 0.6293 - val_loss: 0.7181 - val_acc: 0.4683\n",
      "Epoch 83/300\n",
      "839/839 [==============================] - 0s 278us/sample - loss: 0.6311 - acc: 0.6305 - val_loss: 0.7253 - val_acc: 0.4805\n",
      "Epoch 84/300\n",
      "839/839 [==============================] - 0s 274us/sample - loss: 0.6300 - acc: 0.6210 - val_loss: 0.7260 - val_acc: 0.4756\n",
      "Epoch 85/300\n",
      "839/839 [==============================] - 0s 278us/sample - loss: 0.6299 - acc: 0.6341 - val_loss: 0.7275 - val_acc: 0.4707\n",
      "Epoch 86/300\n",
      "839/839 [==============================] - 0s 267us/sample - loss: 0.6277 - acc: 0.6317 - val_loss: 0.7208 - val_acc: 0.4780\n",
      "Epoch 87/300\n",
      "839/839 [==============================] - 0s 260us/sample - loss: 0.6249 - acc: 0.6365 - val_loss: 0.7196 - val_acc: 0.4683\n",
      "Epoch 88/300\n",
      "839/839 [==============================] - 0s 256us/sample - loss: 0.6247 - acc: 0.6281 - val_loss: 0.7220 - val_acc: 0.4707\n",
      "Epoch 89/300\n",
      "839/839 [==============================] - 0s 259us/sample - loss: 0.6238 - acc: 0.6377 - val_loss: 0.7274 - val_acc: 0.4585\n",
      "Epoch 90/300\n",
      "839/839 [==============================] - 0s 260us/sample - loss: 0.6210 - acc: 0.6353 - val_loss: 0.7251 - val_acc: 0.4561\n",
      "Epoch 91/300\n",
      "839/839 [==============================] - 0s 259us/sample - loss: 0.6184 - acc: 0.6424 - val_loss: 0.7286 - val_acc: 0.4537\n",
      "Epoch 92/300\n",
      "839/839 [==============================] - 0s 257us/sample - loss: 0.6217 - acc: 0.6305 - val_loss: 0.7412 - val_acc: 0.4829\n",
      "Epoch 93/300\n",
      "839/839 [==============================] - 0s 260us/sample - loss: 0.6196 - acc: 0.6400 - val_loss: 0.7226 - val_acc: 0.4707\n",
      "Epoch 94/300\n",
      "839/839 [==============================] - 0s 257us/sample - loss: 0.6112 - acc: 0.6496 - val_loss: 0.7271 - val_acc: 0.4610\n",
      "Epoch 95/300\n",
      "839/839 [==============================] - 0s 260us/sample - loss: 0.6170 - acc: 0.6341 - val_loss: 0.7343 - val_acc: 0.4634\n",
      "Epoch 96/300\n",
      "839/839 [==============================] - 0s 260us/sample - loss: 0.6107 - acc: 0.6412 - val_loss: 0.7325 - val_acc: 0.4683\n",
      "Epoch 97/300\n",
      "839/839 [==============================] - 0s 259us/sample - loss: 0.6123 - acc: 0.6353 - val_loss: 0.7313 - val_acc: 0.4659\n",
      "Epoch 98/300\n",
      "839/839 [==============================] - 0s 269us/sample - loss: 0.6093 - acc: 0.6377 - val_loss: 0.7360 - val_acc: 0.4561\n",
      "Epoch 99/300\n",
      "839/839 [==============================] - 0s 255us/sample - loss: 0.6024 - acc: 0.6579 - val_loss: 0.7327 - val_acc: 0.4756\n",
      "Epoch 100/300\n",
      "839/839 [==============================] - 0s 259us/sample - loss: 0.6053 - acc: 0.6424 - val_loss: 0.7415 - val_acc: 0.4732\n",
      "Epoch 101/300\n",
      "839/839 [==============================] - 0s 257us/sample - loss: 0.5983 - acc: 0.6484 - val_loss: 0.7416 - val_acc: 0.4732\n",
      "Epoch 102/300\n",
      "839/839 [==============================] - 0s 260us/sample - loss: 0.5963 - acc: 0.6710 - val_loss: 0.7602 - val_acc: 0.4390\n",
      "Epoch 103/300\n",
      "839/839 [==============================] - 0s 257us/sample - loss: 0.5943 - acc: 0.6651 - val_loss: 0.7581 - val_acc: 0.4659\n",
      "Epoch 104/300\n",
      "839/839 [==============================] - 0s 260us/sample - loss: 0.5913 - acc: 0.6687 - val_loss: 0.7553 - val_acc: 0.4683\n",
      "Epoch 105/300\n",
      "839/839 [==============================] - 0s 256us/sample - loss: 0.5890 - acc: 0.6555 - val_loss: 0.7609 - val_acc: 0.4585\n",
      "Epoch 106/300\n",
      "839/839 [==============================] - 0s 256us/sample - loss: 0.5828 - acc: 0.6639 - val_loss: 0.7609 - val_acc: 0.4512\n",
      "Epoch 107/300\n",
      "839/839 [==============================] - 0s 256us/sample - loss: 0.5815 - acc: 0.6698 - val_loss: 0.7652 - val_acc: 0.4537\n",
      "Epoch 108/300\n",
      "839/839 [==============================] - 0s 261us/sample - loss: 0.5884 - acc: 0.6615 - val_loss: 0.7582 - val_acc: 0.4756\n",
      "Epoch 109/300\n",
      "839/839 [==============================] - 0s 260us/sample - loss: 0.5881 - acc: 0.6603 - val_loss: 0.7747 - val_acc: 0.4439\n",
      "Epoch 110/300\n",
      "839/839 [==============================] - 0s 255us/sample - loss: 0.5758 - acc: 0.6830 - val_loss: 0.7662 - val_acc: 0.4512\n",
      "Epoch 111/300\n",
      "839/839 [==============================] - 0s 256us/sample - loss: 0.5763 - acc: 0.6746 - val_loss: 0.7625 - val_acc: 0.4463\n",
      "Epoch 112/300\n",
      "839/839 [==============================] - 0s 260us/sample - loss: 0.5705 - acc: 0.6746 - val_loss: 0.7764 - val_acc: 0.4561\n",
      "Epoch 113/300\n",
      "839/839 [==============================] - 0s 260us/sample - loss: 0.5705 - acc: 0.6818 - val_loss: 0.7852 - val_acc: 0.4683\n",
      "Epoch 114/300\n",
      "839/839 [==============================] - 0s 261us/sample - loss: 0.5668 - acc: 0.6830 - val_loss: 0.7814 - val_acc: 0.4634\n",
      "Epoch 115/300\n",
      "839/839 [==============================] - 0s 257us/sample - loss: 0.5629 - acc: 0.6877 - val_loss: 0.7893 - val_acc: 0.4463\n",
      "Epoch 116/300\n",
      "839/839 [==============================] - 0s 257us/sample - loss: 0.5636 - acc: 0.6782 - val_loss: 0.8074 - val_acc: 0.4561\n",
      "Epoch 117/300\n",
      "839/839 [==============================] - 0s 260us/sample - loss: 0.5613 - acc: 0.6901 - val_loss: 0.7977 - val_acc: 0.4610\n",
      "Epoch 118/300\n",
      "839/839 [==============================] - 0s 259us/sample - loss: 0.5584 - acc: 0.6818 - val_loss: 0.7956 - val_acc: 0.4659\n",
      "Epoch 119/300\n"
     ]
    },
    {
     "name": "stdout",
     "output_type": "stream",
     "text": [
      "839/839 [==============================] - 0s 255us/sample - loss: 0.5558 - acc: 0.6949 - val_loss: 0.8011 - val_acc: 0.4439\n",
      "Epoch 120/300\n",
      "839/839 [==============================] - 0s 261us/sample - loss: 0.5541 - acc: 0.6913 - val_loss: 0.8035 - val_acc: 0.4610\n",
      "Epoch 121/300\n",
      "839/839 [==============================] - 0s 259us/sample - loss: 0.5480 - acc: 0.6889 - val_loss: 0.8056 - val_acc: 0.4659\n",
      "Epoch 122/300\n",
      "839/839 [==============================] - 0s 254us/sample - loss: 0.5456 - acc: 0.6985 - val_loss: 0.8079 - val_acc: 0.4561\n",
      "Epoch 123/300\n",
      "839/839 [==============================] - 0s 257us/sample - loss: 0.5397 - acc: 0.7044 - val_loss: 0.8079 - val_acc: 0.4561\n",
      "Epoch 124/300\n",
      "839/839 [==============================] - 0s 253us/sample - loss: 0.5411 - acc: 0.7056 - val_loss: 0.8053 - val_acc: 0.4610\n",
      "Epoch 125/300\n",
      "839/839 [==============================] - 0s 253us/sample - loss: 0.5367 - acc: 0.7104 - val_loss: 0.8302 - val_acc: 0.4634\n",
      "Epoch 126/300\n",
      "839/839 [==============================] - 0s 265us/sample - loss: 0.5388 - acc: 0.7020 - val_loss: 0.8232 - val_acc: 0.4415\n",
      "Epoch 127/300\n",
      "839/839 [==============================] - 0s 257us/sample - loss: 0.5362 - acc: 0.7068 - val_loss: 0.8367 - val_acc: 0.4537\n",
      "Epoch 128/300\n",
      "839/839 [==============================] - 0s 251us/sample - loss: 0.5320 - acc: 0.7175 - val_loss: 0.8195 - val_acc: 0.4732\n",
      "Epoch 129/300\n",
      "839/839 [==============================] - 0s 254us/sample - loss: 0.5276 - acc: 0.7151 - val_loss: 0.8265 - val_acc: 0.4707\n",
      "Epoch 130/300\n",
      "839/839 [==============================] - 0s 254us/sample - loss: 0.5201 - acc: 0.7199 - val_loss: 0.8365 - val_acc: 0.4561\n",
      "Epoch 131/300\n",
      "839/839 [==============================] - 0s 253us/sample - loss: 0.5300 - acc: 0.7175 - val_loss: 0.8354 - val_acc: 0.4634\n",
      "Epoch 132/300\n",
      "839/839 [==============================] - 0s 255us/sample - loss: 0.5202 - acc: 0.7187 - val_loss: 0.8506 - val_acc: 0.4561\n",
      "Epoch 133/300\n",
      "839/839 [==============================] - 0s 257us/sample - loss: 0.5221 - acc: 0.7199 - val_loss: 0.8374 - val_acc: 0.4659\n",
      "Epoch 134/300\n",
      "839/839 [==============================] - 0s 255us/sample - loss: 0.5137 - acc: 0.7175 - val_loss: 0.8419 - val_acc: 0.4512\n",
      "Epoch 135/300\n",
      "839/839 [==============================] - 0s 256us/sample - loss: 0.5106 - acc: 0.7271 - val_loss: 0.8520 - val_acc: 0.4756\n",
      "Epoch 136/300\n",
      "839/839 [==============================] - 0s 257us/sample - loss: 0.5046 - acc: 0.7271 - val_loss: 0.8408 - val_acc: 0.4902\n",
      "Epoch 137/300\n",
      "839/839 [==============================] - 0s 254us/sample - loss: 0.5148 - acc: 0.7056 - val_loss: 0.8390 - val_acc: 0.4707\n",
      "Epoch 138/300\n",
      "839/839 [==============================] - 0s 257us/sample - loss: 0.5077 - acc: 0.7056 - val_loss: 0.8663 - val_acc: 0.4707\n",
      "Epoch 139/300\n",
      "839/839 [==============================] - 0s 260us/sample - loss: 0.5067 - acc: 0.7294 - val_loss: 0.8482 - val_acc: 0.4610\n",
      "Epoch 140/300\n",
      "839/839 [==============================] - 0s 259us/sample - loss: 0.5065 - acc: 0.7259 - val_loss: 0.8785 - val_acc: 0.4659\n",
      "Epoch 141/300\n",
      "839/839 [==============================] - 0s 257us/sample - loss: 0.4918 - acc: 0.7378 - val_loss: 0.8466 - val_acc: 0.4659\n",
      "Epoch 142/300\n",
      "839/839 [==============================] - 0s 257us/sample - loss: 0.4974 - acc: 0.7282 - val_loss: 0.8777 - val_acc: 0.4683\n",
      "Epoch 143/300\n",
      "839/839 [==============================] - 0s 257us/sample - loss: 0.4945 - acc: 0.7402 - val_loss: 0.8658 - val_acc: 0.4829\n",
      "Epoch 144/300\n",
      "839/839 [==============================] - 0s 257us/sample - loss: 0.4917 - acc: 0.7330 - val_loss: 0.9025 - val_acc: 0.4537\n",
      "Epoch 145/300\n",
      "839/839 [==============================] - 0s 255us/sample - loss: 0.4885 - acc: 0.7533 - val_loss: 0.9029 - val_acc: 0.4463\n",
      "Epoch 146/300\n",
      "839/839 [==============================] - 0s 261us/sample - loss: 0.4894 - acc: 0.7437 - val_loss: 0.8764 - val_acc: 0.4732\n",
      "Epoch 147/300\n",
      "839/839 [==============================] - 0s 256us/sample - loss: 0.4812 - acc: 0.7449 - val_loss: 0.8927 - val_acc: 0.4610\n",
      "Epoch 148/300\n",
      "839/839 [==============================] - 0s 254us/sample - loss: 0.4853 - acc: 0.7426 - val_loss: 0.8984 - val_acc: 0.4585\n",
      "Epoch 149/300\n",
      "839/839 [==============================] - 0s 260us/sample - loss: 0.4795 - acc: 0.7414 - val_loss: 0.9005 - val_acc: 0.4463\n",
      "Epoch 150/300\n",
      "839/839 [==============================] - 0s 257us/sample - loss: 0.4799 - acc: 0.7485 - val_loss: 0.9183 - val_acc: 0.4537\n",
      "Epoch 151/300\n",
      "839/839 [==============================] - 0s 256us/sample - loss: 0.4829 - acc: 0.7342 - val_loss: 0.9042 - val_acc: 0.4537\n",
      "Epoch 152/300\n",
      "839/839 [==============================] - 0s 254us/sample - loss: 0.4749 - acc: 0.7497 - val_loss: 0.9446 - val_acc: 0.4537\n",
      "Epoch 153/300\n",
      "839/839 [==============================] - 0s 256us/sample - loss: 0.4661 - acc: 0.7640 - val_loss: 0.9137 - val_acc: 0.4537\n",
      "Epoch 154/300\n",
      "839/839 [==============================] - 0s 261us/sample - loss: 0.4704 - acc: 0.7497 - val_loss: 0.9420 - val_acc: 0.4634\n",
      "Epoch 155/300\n",
      "839/839 [==============================] - 0s 277us/sample - loss: 0.4653 - acc: 0.7569 - val_loss: 0.9381 - val_acc: 0.4439\n",
      "Epoch 156/300\n",
      "839/839 [==============================] - 0s 274us/sample - loss: 0.4580 - acc: 0.7676 - val_loss: 0.9386 - val_acc: 0.4756\n",
      "Epoch 157/300\n",
      "839/839 [==============================] - 0s 268us/sample - loss: 0.4622 - acc: 0.7640 - val_loss: 0.9496 - val_acc: 0.4561\n",
      "Epoch 158/300\n",
      "839/839 [==============================] - 0s 275us/sample - loss: 0.4650 - acc: 0.7485 - val_loss: 0.9592 - val_acc: 0.4512\n",
      "Epoch 159/300\n",
      "839/839 [==============================] - 0s 265us/sample - loss: 0.4572 - acc: 0.7533 - val_loss: 0.9896 - val_acc: 0.4707\n",
      "Epoch 160/300\n",
      "839/839 [==============================] - 0s 260us/sample - loss: 0.4616 - acc: 0.7604 - val_loss: 0.9716 - val_acc: 0.4585\n",
      "Epoch 161/300\n",
      "839/839 [==============================] - 0s 256us/sample - loss: 0.4493 - acc: 0.7747 - val_loss: 0.9810 - val_acc: 0.4512\n",
      "Epoch 162/300\n",
      "839/839 [==============================] - 0s 259us/sample - loss: 0.4491 - acc: 0.7700 - val_loss: 0.9781 - val_acc: 0.4561\n",
      "Epoch 163/300\n",
      "839/839 [==============================] - 0s 255us/sample - loss: 0.4482 - acc: 0.7747 - val_loss: 0.9876 - val_acc: 0.4537\n",
      "Epoch 164/300\n",
      "839/839 [==============================] - 0s 257us/sample - loss: 0.4507 - acc: 0.7664 - val_loss: 0.9783 - val_acc: 0.4585\n",
      "Epoch 165/300\n",
      "839/839 [==============================] - 0s 259us/sample - loss: 0.4394 - acc: 0.7795 - val_loss: 1.0147 - val_acc: 0.4463\n",
      "Epoch 166/300\n",
      "839/839 [==============================] - 0s 256us/sample - loss: 0.4388 - acc: 0.7747 - val_loss: 1.0335 - val_acc: 0.4634\n",
      "Epoch 167/300\n",
      "839/839 [==============================] - 0s 253us/sample - loss: 0.4602 - acc: 0.7557 - val_loss: 1.0418 - val_acc: 0.4561\n",
      "Epoch 168/300\n",
      "839/839 [==============================] - 0s 251us/sample - loss: 0.4342 - acc: 0.7902 - val_loss: 1.0156 - val_acc: 0.4488\n",
      "Epoch 169/300\n",
      "839/839 [==============================] - 0s 251us/sample - loss: 0.4314 - acc: 0.7831 - val_loss: 1.0272 - val_acc: 0.4512\n",
      "Epoch 170/300\n",
      "839/839 [==============================] - 0s 253us/sample - loss: 0.4359 - acc: 0.7747 - val_loss: 1.0506 - val_acc: 0.4561\n",
      "Epoch 171/300\n",
      "839/839 [==============================] - 0s 254us/sample - loss: 0.4403 - acc: 0.7664 - val_loss: 1.0368 - val_acc: 0.4488\n",
      "Epoch 172/300\n",
      "839/839 [==============================] - 0s 254us/sample - loss: 0.4325 - acc: 0.7676 - val_loss: 1.0329 - val_acc: 0.4561\n",
      "Epoch 173/300\n",
      "839/839 [==============================] - 0s 253us/sample - loss: 0.4227 - acc: 0.7914 - val_loss: 1.0415 - val_acc: 0.4585\n",
      "Epoch 174/300\n",
      "839/839 [==============================] - 0s 253us/sample - loss: 0.4227 - acc: 0.8010 - val_loss: 1.0488 - val_acc: 0.4512\n",
      "Epoch 175/300\n",
      "839/839 [==============================] - 0s 253us/sample - loss: 0.4206 - acc: 0.7926 - val_loss: 1.0590 - val_acc: 0.4512\n",
      "Epoch 176/300\n",
      "839/839 [==============================] - 0s 256us/sample - loss: 0.4188 - acc: 0.7926 - val_loss: 1.0679 - val_acc: 0.4512\n",
      "Epoch 177/300\n",
      "839/839 [==============================] - 0s 253us/sample - loss: 0.4149 - acc: 0.7950 - val_loss: 1.0525 - val_acc: 0.4561\n",
      "Epoch 178/300\n"
     ]
    },
    {
     "name": "stdout",
     "output_type": "stream",
     "text": [
      "839/839 [==============================] - 0s 257us/sample - loss: 0.4125 - acc: 0.7974 - val_loss: 1.0678 - val_acc: 0.4512\n",
      "Epoch 179/300\n",
      "839/839 [==============================] - 0s 255us/sample - loss: 0.4084 - acc: 0.7914 - val_loss: 1.0826 - val_acc: 0.4415\n",
      "Epoch 180/300\n",
      "839/839 [==============================] - 0s 255us/sample - loss: 0.4199 - acc: 0.7878 - val_loss: 1.0811 - val_acc: 0.4537\n",
      "Epoch 181/300\n",
      "839/839 [==============================] - 0s 256us/sample - loss: 0.4092 - acc: 0.7974 - val_loss: 1.0995 - val_acc: 0.4610\n",
      "Epoch 182/300\n",
      "839/839 [==============================] - 0s 255us/sample - loss: 0.4113 - acc: 0.8021 - val_loss: 1.0855 - val_acc: 0.4390\n",
      "Epoch 183/300\n",
      "839/839 [==============================] - 0s 265us/sample - loss: 0.4215 - acc: 0.7843 - val_loss: 1.0930 - val_acc: 0.4707\n",
      "Epoch 184/300\n",
      "839/839 [==============================] - 0s 256us/sample - loss: 0.4090 - acc: 0.8093 - val_loss: 1.1056 - val_acc: 0.4439\n",
      "Epoch 185/300\n",
      "839/839 [==============================] - 0s 253us/sample - loss: 0.4062 - acc: 0.8033 - val_loss: 1.1151 - val_acc: 0.4634\n",
      "Epoch 186/300\n",
      "839/839 [==============================] - 0s 251us/sample - loss: 0.4013 - acc: 0.8010 - val_loss: 1.1070 - val_acc: 0.4707\n",
      "Epoch 187/300\n",
      "839/839 [==============================] - 0s 255us/sample - loss: 0.3911 - acc: 0.8117 - val_loss: 1.1181 - val_acc: 0.4732\n",
      "Epoch 188/300\n",
      "839/839 [==============================] - 0s 253us/sample - loss: 0.3916 - acc: 0.8141 - val_loss: 1.1281 - val_acc: 0.4439\n",
      "Epoch 189/300\n",
      "839/839 [==============================] - 0s 254us/sample - loss: 0.3854 - acc: 0.8212 - val_loss: 1.1316 - val_acc: 0.4537\n",
      "Epoch 190/300\n",
      "839/839 [==============================] - 0s 249us/sample - loss: 0.3834 - acc: 0.8164 - val_loss: 1.1165 - val_acc: 0.4634\n",
      "Epoch 191/300\n",
      "839/839 [==============================] - 0s 253us/sample - loss: 0.3784 - acc: 0.8200 - val_loss: 1.1285 - val_acc: 0.4561\n",
      "Epoch 192/300\n",
      "839/839 [==============================] - 0s 255us/sample - loss: 0.3931 - acc: 0.8045 - val_loss: 1.1268 - val_acc: 0.4512\n",
      "Epoch 193/300\n",
      "839/839 [==============================] - 0s 259us/sample - loss: 0.3840 - acc: 0.8212 - val_loss: 1.1552 - val_acc: 0.4512\n",
      "Epoch 194/300\n",
      "839/839 [==============================] - 0s 257us/sample - loss: 0.3760 - acc: 0.8248 - val_loss: 1.1609 - val_acc: 0.4585\n",
      "Epoch 195/300\n",
      "839/839 [==============================] - 0s 251us/sample - loss: 0.3713 - acc: 0.8284 - val_loss: 1.1586 - val_acc: 0.4439\n",
      "Epoch 196/300\n",
      "839/839 [==============================] - 0s 251us/sample - loss: 0.3779 - acc: 0.8176 - val_loss: 1.1619 - val_acc: 0.4488\n",
      "Epoch 197/300\n",
      "839/839 [==============================] - 0s 254us/sample - loss: 0.3907 - acc: 0.8057 - val_loss: 1.1656 - val_acc: 0.4732\n",
      "Epoch 198/300\n",
      "839/839 [==============================] - 0s 256us/sample - loss: 0.3830 - acc: 0.8164 - val_loss: 1.2006 - val_acc: 0.4415\n",
      "Epoch 199/300\n",
      "839/839 [==============================] - 0s 259us/sample - loss: 0.3652 - acc: 0.8343 - val_loss: 1.1915 - val_acc: 0.4659\n",
      "Epoch 200/300\n",
      "839/839 [==============================] - 0s 256us/sample - loss: 0.3631 - acc: 0.8284 - val_loss: 1.1958 - val_acc: 0.4585\n",
      "Epoch 201/300\n",
      "839/839 [==============================] - 0s 254us/sample - loss: 0.3556 - acc: 0.8296 - val_loss: 1.2096 - val_acc: 0.4683\n",
      "Epoch 202/300\n",
      "839/839 [==============================] - 0s 255us/sample - loss: 0.3580 - acc: 0.8296 - val_loss: 1.2155 - val_acc: 0.4634\n",
      "Epoch 203/300\n",
      "839/839 [==============================] - 0s 253us/sample - loss: 0.3524 - acc: 0.8343 - val_loss: 1.2279 - val_acc: 0.4634\n",
      "Epoch 204/300\n",
      "839/839 [==============================] - 0s 251us/sample - loss: 0.3504 - acc: 0.8403 - val_loss: 1.2421 - val_acc: 0.4634\n",
      "Epoch 205/300\n",
      "839/839 [==============================] - 0s 255us/sample - loss: 0.3413 - acc: 0.8439 - val_loss: 1.2489 - val_acc: 0.4561\n",
      "Epoch 206/300\n",
      "839/839 [==============================] - 0s 256us/sample - loss: 0.3439 - acc: 0.8355 - val_loss: 1.2446 - val_acc: 0.4634\n",
      "Epoch 207/300\n",
      "839/839 [==============================] - 0s 253us/sample - loss: 0.3521 - acc: 0.8296 - val_loss: 1.2682 - val_acc: 0.4488\n",
      "Epoch 208/300\n",
      "839/839 [==============================] - 0s 257us/sample - loss: 0.3516 - acc: 0.8391 - val_loss: 1.2884 - val_acc: 0.4488\n",
      "Epoch 209/300\n",
      "839/839 [==============================] - 0s 255us/sample - loss: 0.3448 - acc: 0.8343 - val_loss: 1.2625 - val_acc: 0.4561\n",
      "Epoch 210/300\n",
      "839/839 [==============================] - 0s 254us/sample - loss: 0.3374 - acc: 0.8486 - val_loss: 1.2812 - val_acc: 0.4732\n",
      "Epoch 211/300\n",
      "839/839 [==============================] - 0s 262us/sample - loss: 0.3244 - acc: 0.8474 - val_loss: 1.2887 - val_acc: 0.4659\n",
      "Epoch 212/300\n",
      "839/839 [==============================] - 0s 261us/sample - loss: 0.3352 - acc: 0.8415 - val_loss: 1.2853 - val_acc: 0.4659\n",
      "Epoch 213/300\n",
      "839/839 [==============================] - 0s 255us/sample - loss: 0.3305 - acc: 0.8474 - val_loss: 1.3124 - val_acc: 0.4610\n",
      "Epoch 214/300\n",
      "839/839 [==============================] - 0s 255us/sample - loss: 0.3350 - acc: 0.8486 - val_loss: 1.3012 - val_acc: 0.4610\n",
      "Epoch 215/300\n",
      "839/839 [==============================] - 0s 257us/sample - loss: 0.3266 - acc: 0.8451 - val_loss: 1.3149 - val_acc: 0.4488\n",
      "Epoch 216/300\n",
      "839/839 [==============================] - 0s 256us/sample - loss: 0.3221 - acc: 0.8510 - val_loss: 1.2960 - val_acc: 0.4707\n",
      "Epoch 217/300\n",
      "839/839 [==============================] - 0s 259us/sample - loss: 0.3230 - acc: 0.8558 - val_loss: 1.3135 - val_acc: 0.4634\n",
      "Epoch 218/300\n",
      "839/839 [==============================] - 0s 257us/sample - loss: 0.3124 - acc: 0.8582 - val_loss: 1.3526 - val_acc: 0.4610\n",
      "Epoch 219/300\n",
      "839/839 [==============================] - 0s 257us/sample - loss: 0.3103 - acc: 0.8713 - val_loss: 1.3775 - val_acc: 0.4341\n",
      "Epoch 220/300\n",
      "839/839 [==============================] - 0s 257us/sample - loss: 0.3123 - acc: 0.8641 - val_loss: 1.3649 - val_acc: 0.4659\n",
      "Epoch 221/300\n",
      "839/839 [==============================] - 0s 260us/sample - loss: 0.3170 - acc: 0.8582 - val_loss: 1.3364 - val_acc: 0.4610\n",
      "Epoch 222/300\n",
      "839/839 [==============================] - 0s 266us/sample - loss: 0.3113 - acc: 0.8629 - val_loss: 1.3459 - val_acc: 0.4634\n",
      "Epoch 223/300\n",
      "839/839 [==============================] - 0s 260us/sample - loss: 0.3263 - acc: 0.8474 - val_loss: 1.2787 - val_acc: 0.4585\n",
      "Epoch 224/300\n",
      "839/839 [==============================] - 0s 305us/sample - loss: 0.3271 - acc: 0.8474 - val_loss: 1.3260 - val_acc: 0.4780\n",
      "Epoch 225/300\n",
      "839/839 [==============================] - 0s 248us/sample - loss: 0.3084 - acc: 0.8617 - val_loss: 1.3468 - val_acc: 0.4805\n",
      "Epoch 226/300\n",
      "839/839 [==============================] - 0s 278us/sample - loss: 0.3139 - acc: 0.8486 - val_loss: 1.3454 - val_acc: 0.4683\n",
      "Epoch 227/300\n",
      "839/839 [==============================] - 0s 308us/sample - loss: 0.3090 - acc: 0.8570 - val_loss: 1.3793 - val_acc: 0.4537\n",
      "Epoch 228/300\n",
      "839/839 [==============================] - 0s 342us/sample - loss: 0.2888 - acc: 0.8725 - val_loss: 1.3505 - val_acc: 0.4732\n",
      "Epoch 229/300\n",
      "839/839 [==============================] - 0s 334us/sample - loss: 0.2884 - acc: 0.8737 - val_loss: 1.4116 - val_acc: 0.4634\n",
      "Epoch 230/300\n",
      "839/839 [==============================] - 0s 308us/sample - loss: 0.3073 - acc: 0.8677 - val_loss: 1.3671 - val_acc: 0.4756\n",
      "Epoch 231/300\n",
      "839/839 [==============================] - 0s 340us/sample - loss: 0.2906 - acc: 0.8617 - val_loss: 1.3466 - val_acc: 0.4829\n",
      "Epoch 232/300\n",
      "839/839 [==============================] - 0s 302us/sample - loss: 0.2881 - acc: 0.8760 - val_loss: 1.4035 - val_acc: 0.4537\n",
      "Epoch 233/300\n",
      "839/839 [==============================] - 0s 287us/sample - loss: 0.2844 - acc: 0.8749 - val_loss: 1.4174 - val_acc: 0.4415\n",
      "Epoch 234/300\n",
      "839/839 [==============================] - 0s 251us/sample - loss: 0.2836 - acc: 0.8725 - val_loss: 1.3824 - val_acc: 0.4634\n",
      "Epoch 235/300\n",
      "839/839 [==============================] - 0s 255us/sample - loss: 0.2847 - acc: 0.8772 - val_loss: 1.4326 - val_acc: 0.4512\n",
      "Epoch 236/300\n",
      "839/839 [==============================] - 0s 254us/sample - loss: 0.2911 - acc: 0.8689 - val_loss: 1.4101 - val_acc: 0.4683\n",
      "Epoch 237/300\n"
     ]
    },
    {
     "name": "stdout",
     "output_type": "stream",
     "text": [
      "839/839 [==============================] - 0s 265us/sample - loss: 0.2919 - acc: 0.8713 - val_loss: 1.4699 - val_acc: 0.4610\n",
      "Epoch 238/300\n",
      "839/839 [==============================] - 0s 260us/sample - loss: 0.2812 - acc: 0.8749 - val_loss: 1.4140 - val_acc: 0.4732\n",
      "Epoch 239/300\n",
      "839/839 [==============================] - 0s 254us/sample - loss: 0.2724 - acc: 0.8868 - val_loss: 1.4201 - val_acc: 0.4634\n",
      "Epoch 240/300\n",
      "839/839 [==============================] - 0s 249us/sample - loss: 0.2780 - acc: 0.8832 - val_loss: 1.4364 - val_acc: 0.4585\n",
      "Epoch 241/300\n",
      "839/839 [==============================] - 0s 251us/sample - loss: 0.2675 - acc: 0.8856 - val_loss: 1.4264 - val_acc: 0.4780\n",
      "Epoch 242/300\n",
      "839/839 [==============================] - 0s 248us/sample - loss: 0.2735 - acc: 0.8808 - val_loss: 1.4688 - val_acc: 0.4756\n",
      "Epoch 243/300\n",
      "839/839 [==============================] - 0s 251us/sample - loss: 0.2665 - acc: 0.8856 - val_loss: 1.4639 - val_acc: 0.4537\n",
      "Epoch 244/300\n",
      "839/839 [==============================] - 0s 249us/sample - loss: 0.2647 - acc: 0.8844 - val_loss: 1.4622 - val_acc: 0.4634\n",
      "Epoch 245/300\n",
      "839/839 [==============================] - 0s 249us/sample - loss: 0.2620 - acc: 0.8892 - val_loss: 1.4457 - val_acc: 0.4634\n",
      "Epoch 246/300\n",
      "839/839 [==============================] - 0s 251us/sample - loss: 0.2624 - acc: 0.8963 - val_loss: 1.4773 - val_acc: 0.4732\n",
      "Epoch 247/300\n",
      "839/839 [==============================] - 0s 251us/sample - loss: 0.2654 - acc: 0.8903 - val_loss: 1.4828 - val_acc: 0.4610\n",
      "Epoch 248/300\n",
      "839/839 [==============================] - 0s 251us/sample - loss: 0.2567 - acc: 0.8939 - val_loss: 1.4333 - val_acc: 0.4659\n",
      "Epoch 249/300\n",
      "839/839 [==============================] - 0s 249us/sample - loss: 0.2599 - acc: 0.8796 - val_loss: 1.4664 - val_acc: 0.4732\n",
      "Epoch 250/300\n",
      "839/839 [==============================] - 0s 253us/sample - loss: 0.2472 - acc: 0.9035 - val_loss: 1.4905 - val_acc: 0.4561\n",
      "Epoch 251/300\n",
      "839/839 [==============================] - 0s 247us/sample - loss: 0.2455 - acc: 0.8927 - val_loss: 1.4969 - val_acc: 0.4610\n",
      "Epoch 252/300\n",
      "839/839 [==============================] - 0s 254us/sample - loss: 0.2437 - acc: 0.9046 - val_loss: 1.4989 - val_acc: 0.4585\n",
      "Epoch 253/300\n",
      "839/839 [==============================] - 0s 254us/sample - loss: 0.2510 - acc: 0.8939 - val_loss: 1.4970 - val_acc: 0.4488\n",
      "Epoch 254/300\n",
      "839/839 [==============================] - 0s 248us/sample - loss: 0.2457 - acc: 0.8939 - val_loss: 1.4880 - val_acc: 0.4634\n",
      "Epoch 255/300\n",
      "839/839 [==============================] - 0s 251us/sample - loss: 0.2376 - acc: 0.8987 - val_loss: 1.5348 - val_acc: 0.4610\n",
      "Epoch 256/300\n",
      "839/839 [==============================] - 0s 269us/sample - loss: 0.2451 - acc: 0.8927 - val_loss: 1.5059 - val_acc: 0.4463\n",
      "Epoch 257/300\n",
      "839/839 [==============================] - 0s 262us/sample - loss: 0.2444 - acc: 0.9011 - val_loss: 1.5441 - val_acc: 0.4537\n",
      "Epoch 258/300\n",
      "839/839 [==============================] - 0s 250us/sample - loss: 0.2559 - acc: 0.8927 - val_loss: 1.4871 - val_acc: 0.4732\n",
      "Epoch 259/300\n",
      "839/839 [==============================] - 0s 251us/sample - loss: 0.2402 - acc: 0.8939 - val_loss: 1.5311 - val_acc: 0.4659\n",
      "Epoch 260/300\n",
      "839/839 [==============================] - 0s 253us/sample - loss: 0.2327 - acc: 0.9046 - val_loss: 1.5305 - val_acc: 0.4561\n",
      "Epoch 261/300\n",
      "839/839 [==============================] - 0s 251us/sample - loss: 0.2303 - acc: 0.9058 - val_loss: 1.5579 - val_acc: 0.4610\n",
      "Epoch 262/300\n",
      "839/839 [==============================] - 0s 253us/sample - loss: 0.2292 - acc: 0.9070 - val_loss: 1.5312 - val_acc: 0.4780\n",
      "Epoch 263/300\n",
      "839/839 [==============================] - 0s 250us/sample - loss: 0.2283 - acc: 0.8999 - val_loss: 1.5533 - val_acc: 0.4683\n",
      "Epoch 264/300\n",
      "839/839 [==============================] - 0s 253us/sample - loss: 0.2274 - acc: 0.8999 - val_loss: 1.5470 - val_acc: 0.4537\n",
      "Epoch 265/300\n",
      "839/839 [==============================] - 0s 256us/sample - loss: 0.2313 - acc: 0.9070 - val_loss: 1.5502 - val_acc: 0.4683\n",
      "Epoch 266/300\n",
      "839/839 [==============================] - 0s 249us/sample - loss: 0.2242 - acc: 0.9094 - val_loss: 1.5384 - val_acc: 0.4732\n",
      "Epoch 267/300\n",
      "839/839 [==============================] - 0s 262us/sample - loss: 0.2325 - acc: 0.8975 - val_loss: 1.5593 - val_acc: 0.4634\n",
      "Epoch 268/300\n",
      "839/839 [==============================] - 0s 257us/sample - loss: 0.3621 - acc: 0.8629 - val_loss: 1.5766 - val_acc: 0.4732\n",
      "Epoch 269/300\n",
      "839/839 [==============================] - 0s 253us/sample - loss: 0.2866 - acc: 0.8725 - val_loss: 1.5709 - val_acc: 0.4683\n",
      "Epoch 270/300\n",
      "839/839 [==============================] - 0s 249us/sample - loss: 0.3011 - acc: 0.8749 - val_loss: 1.6115 - val_acc: 0.4780\n",
      "Epoch 271/300\n",
      "839/839 [==============================] - 0s 271us/sample - loss: 0.2675 - acc: 0.8880 - val_loss: 1.5380 - val_acc: 0.4512\n",
      "Epoch 272/300\n",
      "839/839 [==============================] - 0s 254us/sample - loss: 0.2536 - acc: 0.8892 - val_loss: 1.5350 - val_acc: 0.4732\n",
      "Epoch 273/300\n",
      "839/839 [==============================] - 0s 251us/sample - loss: 0.2324 - acc: 0.8975 - val_loss: 1.5817 - val_acc: 0.4732\n",
      "Epoch 274/300\n",
      "839/839 [==============================] - 0s 254us/sample - loss: 0.2183 - acc: 0.9154 - val_loss: 1.5990 - val_acc: 0.4415\n",
      "Epoch 275/300\n",
      "839/839 [==============================] - 0s 253us/sample - loss: 0.2145 - acc: 0.9094 - val_loss: 1.6272 - val_acc: 0.4683\n",
      "Epoch 276/300\n",
      "839/839 [==============================] - 0s 250us/sample - loss: 0.2106 - acc: 0.9178 - val_loss: 1.5944 - val_acc: 0.4756\n",
      "Epoch 277/300\n",
      "839/839 [==============================] - 0s 254us/sample - loss: 0.2103 - acc: 0.9130 - val_loss: 1.6021 - val_acc: 0.4756\n",
      "Epoch 278/300\n",
      "839/839 [==============================] - 0s 250us/sample - loss: 0.2022 - acc: 0.9237 - val_loss: 1.6160 - val_acc: 0.4805\n",
      "Epoch 279/300\n",
      "839/839 [==============================] - 0s 253us/sample - loss: 0.2116 - acc: 0.9130 - val_loss: 1.6175 - val_acc: 0.4756\n",
      "Epoch 280/300\n",
      "839/839 [==============================] - 0s 251us/sample - loss: 0.2202 - acc: 0.9058 - val_loss: 1.6379 - val_acc: 0.4537\n",
      "Epoch 281/300\n",
      "839/839 [==============================] - 0s 251us/sample - loss: 0.2169 - acc: 0.9130 - val_loss: 1.6313 - val_acc: 0.4780\n",
      "Epoch 282/300\n",
      "839/839 [==============================] - 0s 253us/sample - loss: 0.2058 - acc: 0.9154 - val_loss: 1.6187 - val_acc: 0.4610\n",
      "Epoch 283/300\n",
      "839/839 [==============================] - 0s 255us/sample - loss: 0.2071 - acc: 0.9154 - val_loss: 1.6268 - val_acc: 0.4732\n",
      "Epoch 284/300\n",
      "839/839 [==============================] - 0s 251us/sample - loss: 0.2062 - acc: 0.9154 - val_loss: 1.6130 - val_acc: 0.4707\n",
      "Epoch 285/300\n",
      "839/839 [==============================] - 0s 255us/sample - loss: 0.1957 - acc: 0.9190 - val_loss: 1.6849 - val_acc: 0.4585\n",
      "Epoch 286/300\n",
      "839/839 [==============================] - 0s 250us/sample - loss: 0.2039 - acc: 0.9082 - val_loss: 1.6858 - val_acc: 0.4561\n",
      "Epoch 287/300\n",
      "839/839 [==============================] - 0s 251us/sample - loss: 0.2013 - acc: 0.9130 - val_loss: 1.6257 - val_acc: 0.5024\n",
      "Epoch 288/300\n",
      "839/839 [==============================] - 0s 251us/sample - loss: 0.1929 - acc: 0.9130 - val_loss: 1.6441 - val_acc: 0.4707\n",
      "Epoch 289/300\n",
      "839/839 [==============================] - 0s 251us/sample - loss: 0.1948 - acc: 0.9201 - val_loss: 1.6369 - val_acc: 0.4878\n",
      "Epoch 290/300\n",
      "839/839 [==============================] - 0s 247us/sample - loss: 0.1953 - acc: 0.9082 - val_loss: 1.6849 - val_acc: 0.4756\n",
      "Epoch 291/300\n",
      "839/839 [==============================] - 0s 249us/sample - loss: 0.1888 - acc: 0.9166 - val_loss: 1.6533 - val_acc: 0.4683\n",
      "Epoch 292/300\n",
      "839/839 [==============================] - 0s 249us/sample - loss: 0.1852 - acc: 0.9249 - val_loss: 1.6843 - val_acc: 0.4659\n",
      "Epoch 293/300\n",
      "839/839 [==============================] - 0s 253us/sample - loss: 0.1798 - acc: 0.9285 - val_loss: 1.7012 - val_acc: 0.4902\n",
      "Epoch 294/300\n",
      "839/839 [==============================] - 0s 253us/sample - loss: 0.1773 - acc: 0.9309 - val_loss: 1.6727 - val_acc: 0.4805\n",
      "Epoch 295/300\n",
      "839/839 [==============================] - 0s 249us/sample - loss: 0.1842 - acc: 0.9237 - val_loss: 1.6927 - val_acc: 0.4780\n",
      "Epoch 296/300\n"
     ]
    },
    {
     "name": "stdout",
     "output_type": "stream",
     "text": [
      "839/839 [==============================] - 0s 259us/sample - loss: 0.1784 - acc: 0.9344 - val_loss: 1.6987 - val_acc: 0.4707\n",
      "Epoch 297/300\n",
      "839/839 [==============================] - 0s 249us/sample - loss: 0.1813 - acc: 0.9237 - val_loss: 1.7040 - val_acc: 0.4756\n",
      "Epoch 298/300\n",
      "839/839 [==============================] - 0s 256us/sample - loss: 0.1727 - acc: 0.9344 - val_loss: 1.6901 - val_acc: 0.4976\n",
      "Epoch 299/300\n",
      "839/839 [==============================] - 0s 254us/sample - loss: 0.1710 - acc: 0.9285 - val_loss: 1.7298 - val_acc: 0.4951\n",
      "Epoch 300/300\n",
      "839/839 [==============================] - 0s 250us/sample - loss: 0.1907 - acc: 0.9166 - val_loss: 1.7171 - val_acc: 0.4976\n"
     ]
    }
   ],
   "source": [
    "# train the RNN\n",
    "r = model.fit(\n",
    "    X_train, Y_train,\n",
    "    batch_size=32,\n",
    "    epochs=300,\n",
    "    validation_data=(X_test, Y_test),\n",
    ")"
   ]
  },
  {
   "cell_type": "code",
   "execution_count": 31,
   "metadata": {
    "colab": {
     "base_uri": "https://localhost:8080/",
     "height": 265
    },
    "colab_type": "code",
    "id": "34IV0Y6Hhvny",
    "outputId": "dd5029c1-f6d4-4f5a-d195-e69f8b6a7173"
   },
   "outputs": [
    {
     "data": {
      "image/png": "[encoded data removed]",
      "text/plain": [
       "<Figure size 432x288 with 1 Axes>"
      ]
     },
     "metadata": {
      "needs_background": "light"
     },
     "output_type": "display_data"
    }
   ],
   "source": [
    "# plot the loss\n",
    "plt.plot(r.history['loss'], label='loss')\n",
    "plt.plot(r.history['val_loss'], label='val_loss')\n",
    "plt.legend()\n",
    "plt.show()"
   ]
  },
  {
   "cell_type": "code",
   "execution_count": 33,
   "metadata": {
    "colab": {
     "base_uri": "https://localhost:8080/",
     "height": 265
    },
    "colab_type": "code",
    "id": "63A_TQskh_O1",
    "outputId": "09da96ca-da9d-4c16-ae66-524b37eae619"
   },
   "outputs": [
    {
     "data": {
      "image/png": "[encoded data removed]",
      "text/plain": [
       "<Figure size 432x288 with 1 Axes>"
      ]
     },
     "metadata": {
      "needs_background": "light"
     },
     "output_type": "display_data"
    }
   ],
   "source": [
    "# plot the loss\n",
    "plt.plot(r.history['acc'], label='acc')\n",
    "plt.plot(r.history['val_acc'], label='val_acc')\n",
    "plt.legend()\n",
    "plt.show()"
   ]
  },
  {
   "cell_type": "code",
   "execution_count": 0,
   "metadata": {
    "colab": {},
    "colab_type": "code",
    "id": "Vf8XT3YKiDHo"
   },
   "outputs": [],
   "source": []
  }
 ],
 "metadata": {
  "colab": {
   "collapsed_sections": [],
   "name": "TF2.0 Stock Returns.ipynb",
   "provenance": []
  },
  "kernelspec": {
   "display_name": "Python 3",
   "language": "python",
   "name": "python3"
  },
  "language_info": {
   "codemirror_mode": {
    "name": "ipython",
    "version": 3
   },
   "file_extension": ".py",
   "mimetype": "text/x-python",
   "name": "python",
   "nbconvert_exporter": "python",
   "pygments_lexer": "ipython3",
   "version": "3.7.4"
  }
 },
 "nbformat": 4,
 "nbformat_minor": 1
}
