{
 "cells": [
  {
   "cell_type": "code",
   "execution_count": 1,
   "metadata": {},
   "outputs": [],
   "source": [
    "## RNN에 의한 일본경제 평균 주가(종가) 예측\n",
    "## 과거 30일분의 주가로부터 당일의 주가를 예측\n",
    "## 과거 300~61일분을 훈련용 데이터\n",
    "## 과거 60~31일분을 검증용 데이터\n",
    "## 과거 30~0일분을 테스트용 데이터\n",
    "\n",
    "import numpy as np\n",
    "import pandas as pd\n",
    "import matplotlib.pyplot as plt\n",
    "from tensorflow.keras.models import Model\n",
    "from tensorflow.keras.layers import Dense, LSTM, GRU, Input\n",
    "from tensorflow.keras.optimizers import RMSprop\n",
    "from sklearn.preprocessing import StandardScaler\n",
    "from sklearn.metrics import mean_squared_error\n",
    "\n",
    "## https://indexes.nikkei.co.jp/nkave/historical/nikkei_stock_average_daily_jp.csv\n",
    "data_file = 'nikkei_stock_average_daily_jp.csv'\n",
    "\n",
    "## 당일 주가를 예측하기 위해 필요한 과거 일수\n",
    "window_size = 30 # window_size, kernel, sequence\n",
    "epochs = 10\n",
    "\n",
    "df = pd.read_csv(data_file, index_col=0)\n",
    "# 종가\n",
    "closing_price = df[['종가']].values # tolist()"
   ]
  },
  {
   "cell_type": "code",
   "execution_count": 2,
   "metadata": {},
   "outputs": [
    {
     "data": {
      "text/html": [
       "<div>\n",
       "<style scoped>\n",
       "    .dataframe tbody tr th:only-of-type {\n",
       "        vertical-align: middle;\n",
       "    }\n",
       "\n",
       "    .dataframe tbody tr th {\n",
       "        vertical-align: top;\n",
       "    }\n",
       "\n",
       "    .dataframe thead th {\n",
       "        text-align: right;\n",
       "    }\n",
       "</style>\n",
       "<table border=\"1\" class=\"dataframe\">\n",
       "  <thead>\n",
       "    <tr style=\"text-align: right;\">\n",
       "      <th></th>\n",
       "      <th>종가</th>\n",
       "      <th>시가</th>\n",
       "      <th>상한가</th>\n",
       "      <th>하한가</th>\n",
       "    </tr>\n",
       "  </thead>\n",
       "  <tbody>\n",
       "    <tr>\n",
       "      <td>count</td>\n",
       "      <td>809.000000</td>\n",
       "      <td>809.000000</td>\n",
       "      <td>809.000000</td>\n",
       "      <td>809.000000</td>\n",
       "    </tr>\n",
       "    <tr>\n",
       "      <td>mean</td>\n",
       "      <td>21378.655624</td>\n",
       "      <td>21381.374883</td>\n",
       "      <td>21478.512583</td>\n",
       "      <td>21268.651162</td>\n",
       "    </tr>\n",
       "    <tr>\n",
       "      <td>std</td>\n",
       "      <td>1505.910475</td>\n",
       "      <td>1506.048504</td>\n",
       "      <td>1497.724899</td>\n",
       "      <td>1519.507053</td>\n",
       "    </tr>\n",
       "    <tr>\n",
       "      <td>min</td>\n",
       "      <td>16552.830000</td>\n",
       "      <td>16570.570000</td>\n",
       "      <td>17049.030000</td>\n",
       "      <td>16358.190000</td>\n",
       "    </tr>\n",
       "    <tr>\n",
       "      <td>25%</td>\n",
       "      <td>20099.810000</td>\n",
       "      <td>20128.180000</td>\n",
       "      <td>20191.420000</td>\n",
       "      <td>20037.400000</td>\n",
       "    </tr>\n",
       "    <tr>\n",
       "      <td>50%</td>\n",
       "      <td>21535.250000</td>\n",
       "      <td>21541.180000</td>\n",
       "      <td>21639.120000</td>\n",
       "      <td>21425.790000</td>\n",
       "    </tr>\n",
       "    <tr>\n",
       "      <td>75%</td>\n",
       "      <td>22539.120000</td>\n",
       "      <td>22533.970000</td>\n",
       "      <td>22631.320000</td>\n",
       "      <td>22423.400000</td>\n",
       "    </tr>\n",
       "    <tr>\n",
       "      <td>max</td>\n",
       "      <td>24270.620000</td>\n",
       "      <td>24376.170000</td>\n",
       "      <td>24448.070000</td>\n",
       "      <td>24217.260000</td>\n",
       "    </tr>\n",
       "  </tbody>\n",
       "</table>\n",
       "</div>"
      ],
      "text/plain": [
       "                 종가            시가           상한가           하한가\n",
       "count    809.000000    809.000000    809.000000    809.000000\n",
       "mean   21378.655624  21381.374883  21478.512583  21268.651162\n",
       "std     1505.910475   1506.048504   1497.724899   1519.507053\n",
       "min    16552.830000  16570.570000  17049.030000  16358.190000\n",
       "25%    20099.810000  20128.180000  20191.420000  20037.400000\n",
       "50%    21535.250000  21541.180000  21639.120000  21425.790000\n",
       "75%    22539.120000  22533.970000  22631.320000  22423.400000\n",
       "max    24270.620000  24376.170000  24448.070000  24217.260000"
      ]
     },
     "execution_count": 2,
     "metadata": {},
     "output_type": "execute_result"
    }
   ],
   "source": [
    "df.describe()"
   ]
  },
  {
   "cell_type": "code",
   "execution_count": 3,
   "metadata": {},
   "outputs": [],
   "source": [
    "## 훈련, 검증, 테스트용 데이터 작성\n",
    "## 과거 30일분의 주가로부터 당일의 주가 계산\n",
    "def data_split(data, start, end, window_size): # \n",
    "    length = abs(start - end)\n",
    "    \n",
    "    X = np.zeros((length, window_size)) # 240, 30\n",
    "    y = np.zeros((length, 1))\n",
    "    \n",
    "    for i in range(length):\n",
    "        j = start - window_size + i\n",
    "        k = j + window_size\n",
    "        \n",
    "        X[i] = data[j:k ,0]\n",
    "        y[i] = data[k, 0]\n",
    "    \n",
    "    return X, y"
   ]
  },
  {
   "cell_type": "code",
   "execution_count": 4,
   "metadata": {},
   "outputs": [],
   "source": [
    "## 훈련, 검증, 테스트용 데이터\n",
    "(X_train, y_train) = data_split(closing_price, -300, -60, window_size)\n",
    "(X_valid, y_valid) = data_split(closing_price, -60, -30, window_size)\n",
    "(X_test, y_test) = data_split(closing_price, -30, 0, window_size)"
   ]
  },
  {
   "cell_type": "code",
   "execution_count": 5,
   "metadata": {},
   "outputs": [
    {
     "data": {
      "image/png": "[encoded data removed]",
      "text/plain": [
       "<Figure size 432x288 with 1 Axes>"
      ]
     },
     "metadata": {
      "needs_background": "light"
     },
     "output_type": "display_data"
    }
   ],
   "source": [
    "plt.title('Change in Stock Average (closing price)')\n",
    "plt.plot(range(len(closing_price)), closing_price)\n",
    "plt.show()"
   ]
  },
  {
   "cell_type": "code",
   "execution_count": 6,
   "metadata": {},
   "outputs": [],
   "source": [
    "## 표준화\n",
    "## X만 차원을 변환 (2차원 -> 3차원)\n",
    "scaler = StandardScaler()\n",
    "X_train_std = scaler.fit_transform(X_train).reshape(-1, window_size, 1)\n",
    "X_valid_std = scaler.fit_transform(X_valid).reshape(-1, window_size, 1)\n",
    "X_test_std = scaler.fit_transform(X_test).reshape(-1, window_size, 1)\n"
   ]
  },
  {
   "cell_type": "code",
   "execution_count": 7,
   "metadata": {},
   "outputs": [],
   "source": [
    "# scaler transform 사용\n",
    "y_train_std = scaler.fit_transform(y_train)\n",
    "y_valid_std = scaler.fit_transform(y_valid)\n",
    "y_test_std = scaler.fit_transform(y_test)\n"
   ]
  },
  {
   "cell_type": "code",
   "execution_count": 8,
   "metadata": {},
   "outputs": [
    {
     "name": "stdout",
     "output_type": "stream",
     "text": [
      "Model: \"model\"\n",
      "_________________________________________________________________\n",
      "Layer (type)                 Output Shape              Param #   \n",
      "=================================================================\n",
      "input_1 (InputLayer)         [(None, 30, 1)]           0         \n",
      "_________________________________________________________________\n",
      "lstm (LSTM)                  (None, 128)               66560     \n",
      "_________________________________________________________________\n",
      "dense (Dense)                (None, 1)                 129       \n",
      "=================================================================\n",
      "Total params: 66,689\n",
      "Trainable params: 66,689\n",
      "Non-trainable params: 0\n",
      "_________________________________________________________________\n"
     ]
    }
   ],
   "source": [
    "## 훈련 RNN (model -> LSTM)\n",
    "i = Input(shape=(window_size, 1))\n",
    "x = LSTM(128)(i)\n",
    "x = Dense(1)(x)\n",
    "model = Model(i, x)\n",
    "\n",
    "model.compile(loss='mse', \n",
    "              optimizer='adam', \n",
    "              metrics=['accuracy'])\n",
    "model.summary()"
   ]
  },
  {
   "cell_type": "code",
   "execution_count": 9,
   "metadata": {},
   "outputs": [
    {
     "name": "stdout",
     "output_type": "stream",
     "text": [
      "Train on 240 samples, validate on 30 samples\n",
      "Epoch 1/100\n",
      "240/240 [==============================] - 2s 7ms/sample - loss: 0.6169 - accuracy: 0.0000e+00 - val_loss: 0.4326 - val_accuracy: 0.0000e+00\n",
      "Epoch 2/100\n",
      "240/240 [==============================] - 0s 554us/sample - loss: 0.1832 - accuracy: 0.0000e+00 - val_loss: 0.2246 - val_accuracy: 0.0000e+00\n",
      "Epoch 3/100\n",
      "240/240 [==============================] - 0s 554us/sample - loss: 0.1888 - accuracy: 0.0000e+00 - val_loss: 0.2198 - val_accuracy: 0.0000e+00\n",
      "Epoch 4/100\n",
      "240/240 [==============================] - 0s 550us/sample - loss: 0.1259 - accuracy: 0.0000e+00 - val_loss: 0.2403 - val_accuracy: 0.0000e+00\n",
      "Epoch 5/100\n",
      "240/240 [==============================] - 0s 562us/sample - loss: 0.1375 - accuracy: 0.0000e+00 - val_loss: 0.2280 - val_accuracy: 0.0000e+00\n",
      "Epoch 6/100\n",
      "240/240 [==============================] - 0s 546us/sample - loss: 0.1209 - accuracy: 0.0000e+00 - val_loss: 0.2034 - val_accuracy: 0.0000e+00\n",
      "Epoch 7/100\n",
      "240/240 [==============================] - 0s 550us/sample - loss: 0.1025 - accuracy: 0.0000e+00 - val_loss: 0.1905 - val_accuracy: 0.0000e+00\n",
      "Epoch 8/100\n",
      "240/240 [==============================] - 0s 546us/sample - loss: 0.1010 - accuracy: 0.0000e+00 - val_loss: 0.1911 - val_accuracy: 0.0000e+00\n",
      "Epoch 9/100\n",
      "240/240 [==============================] - 0s 558us/sample - loss: 0.0968 - accuracy: 0.0000e+00 - val_loss: 0.1928 - val_accuracy: 0.0000e+00\n",
      "Epoch 10/100\n",
      "240/240 [==============================] - 0s 558us/sample - loss: 0.0910 - accuracy: 0.0000e+00 - val_loss: 0.1944 - val_accuracy: 0.0000e+00\n",
      "Epoch 11/100\n",
      "240/240 [==============================] - 0s 554us/sample - loss: 0.0899 - accuracy: 0.0000e+00 - val_loss: 0.1927 - val_accuracy: 0.0000e+00\n",
      "Epoch 12/100\n",
      "240/240 [==============================] - 0s 562us/sample - loss: 0.0858 - accuracy: 0.0000e+00 - val_loss: 0.1891 - val_accuracy: 0.0000e+00\n",
      "Epoch 13/100\n",
      "240/240 [==============================] - 0s 550us/sample - loss: 0.0835 - accuracy: 0.0000e+00 - val_loss: 0.1884 - val_accuracy: 0.0000e+00\n",
      "Epoch 14/100\n",
      "240/240 [==============================] - 0s 558us/sample - loss: 0.0831 - accuracy: 0.0000e+00 - val_loss: 0.1890 - val_accuracy: 0.0000e+00\n",
      "Epoch 15/100\n",
      "240/240 [==============================] - 0s 562us/sample - loss: 0.0802 - accuracy: 0.0000e+00 - val_loss: 0.1904 - val_accuracy: 0.0000e+00\n",
      "Epoch 16/100\n",
      "240/240 [==============================] - 0s 550us/sample - loss: 0.0790 - accuracy: 0.0000e+00 - val_loss: 0.1909 - val_accuracy: 0.0000e+00\n",
      "Epoch 17/100\n",
      "240/240 [==============================] - 0s 562us/sample - loss: 0.0778 - accuracy: 0.0000e+00 - val_loss: 0.1887 - val_accuracy: 0.0000e+00\n",
      "Epoch 18/100\n",
      "240/240 [==============================] - 0s 571us/sample - loss: 0.0768 - accuracy: 0.0000e+00 - val_loss: 0.1844 - val_accuracy: 0.0000e+00\n",
      "Epoch 19/100\n",
      "240/240 [==============================] - 0s 554us/sample - loss: 0.0753 - accuracy: 0.0000e+00 - val_loss: 0.1823 - val_accuracy: 0.0000e+00\n",
      "Epoch 20/100\n",
      "240/240 [==============================] - 0s 591us/sample - loss: 0.0743 - accuracy: 0.0000e+00 - val_loss: 0.1773 - val_accuracy: 0.0000e+00\n",
      "Epoch 21/100\n",
      "240/240 [==============================] - 0s 629us/sample - loss: 0.0728 - accuracy: 0.0000e+00 - val_loss: 0.1744 - val_accuracy: 0.0000e+00\n",
      "Epoch 22/100\n",
      "240/240 [==============================] - 0s 625us/sample - loss: 0.0718 - accuracy: 0.0000e+00 - val_loss: 0.1709 - val_accuracy: 0.0000e+00\n",
      "Epoch 23/100\n",
      "240/240 [==============================] - 0s 633us/sample - loss: 0.0709 - accuracy: 0.0000e+00 - val_loss: 0.1688 - val_accuracy: 0.0000e+00\n",
      "Epoch 24/100\n",
      "240/240 [==============================] - 0s 662us/sample - loss: 0.0698 - accuracy: 0.0000e+00 - val_loss: 0.1650 - val_accuracy: 0.0000e+00\n",
      "Epoch 25/100\n",
      "240/240 [==============================] - 0s 637us/sample - loss: 0.0694 - accuracy: 0.0000e+00 - val_loss: 0.1626 - val_accuracy: 0.0000e+00\n",
      "Epoch 26/100\n",
      "240/240 [==============================] - 0s 645us/sample - loss: 0.0679 - accuracy: 0.0000e+00 - val_loss: 0.1581 - val_accuracy: 0.0000e+00\n",
      "Epoch 27/100\n",
      "240/240 [==============================] - 0s 637us/sample - loss: 0.0671 - accuracy: 0.0000e+00 - val_loss: 0.1558 - val_accuracy: 0.0000e+00\n",
      "Epoch 28/100\n",
      "240/240 [==============================] - 0s 571us/sample - loss: 0.0659 - accuracy: 0.0000e+00 - val_loss: 0.1511 - val_accuracy: 0.0000e+00\n",
      "Epoch 29/100\n",
      "240/240 [==============================] - 0s 591us/sample - loss: 0.0651 - accuracy: 0.0000e+00 - val_loss: 0.1489 - val_accuracy: 0.0000e+00\n",
      "Epoch 30/100\n",
      "240/240 [==============================] - 0s 566us/sample - loss: 0.0642 - accuracy: 0.0000e+00 - val_loss: 0.1481 - val_accuracy: 0.0000e+00\n",
      "Epoch 31/100\n",
      "240/240 [==============================] - 0s 583us/sample - loss: 0.0632 - accuracy: 0.0000e+00 - val_loss: 0.1447 - val_accuracy: 0.0000e+00\n",
      "Epoch 32/100\n",
      "240/240 [==============================] - 0s 566us/sample - loss: 0.0625 - accuracy: 0.0000e+00 - val_loss: 0.1381 - val_accuracy: 0.0000e+00\n",
      "Epoch 33/100\n",
      "240/240 [==============================] - 0s 566us/sample - loss: 0.0615 - accuracy: 0.0000e+00 - val_loss: 0.1378 - val_accuracy: 0.0000e+00\n",
      "Epoch 34/100\n",
      "240/240 [==============================] - 0s 591us/sample - loss: 0.0610 - accuracy: 0.0000e+00 - val_loss: 0.1358 - val_accuracy: 0.0000e+00\n",
      "Epoch 35/100\n",
      "240/240 [==============================] - 0s 575us/sample - loss: 0.0595 - accuracy: 0.0000e+00 - val_loss: 0.1276 - val_accuracy: 0.0000e+00\n",
      "Epoch 36/100\n",
      "240/240 [==============================] - 0s 571us/sample - loss: 0.0591 - accuracy: 0.0000e+00 - val_loss: 0.1259 - val_accuracy: 0.0000e+00\n",
      "Epoch 37/100\n",
      "240/240 [==============================] - 0s 550us/sample - loss: 0.0579 - accuracy: 0.0000e+00 - val_loss: 0.1203 - val_accuracy: 0.0000e+00\n",
      "Epoch 38/100\n",
      "240/240 [==============================] - 0s 562us/sample - loss: 0.0567 - accuracy: 0.0000e+00 - val_loss: 0.1208 - val_accuracy: 0.0000e+00\n",
      "Epoch 39/100\n",
      "240/240 [==============================] - 0s 546us/sample - loss: 0.0562 - accuracy: 0.0000e+00 - val_loss: 0.1114 - val_accuracy: 0.0000e+00\n",
      "Epoch 40/100\n",
      "240/240 [==============================] - 0s 562us/sample - loss: 0.0549 - accuracy: 0.0000e+00 - val_loss: 0.1145 - val_accuracy: 0.0000e+00\n",
      "Epoch 41/100\n",
      "240/240 [==============================] - 0s 554us/sample - loss: 0.0557 - accuracy: 0.0000e+00 - val_loss: 0.1081 - val_accuracy: 0.0000e+00\n",
      "Epoch 42/100\n",
      "240/240 [==============================] - 0s 537us/sample - loss: 0.0542 - accuracy: 0.0000e+00 - val_loss: 0.1067 - val_accuracy: 0.0000e+00\n",
      "Epoch 43/100\n",
      "240/240 [==============================] - 0s 546us/sample - loss: 0.0523 - accuracy: 0.0000e+00 - val_loss: 0.1003 - val_accuracy: 0.0000e+00\n",
      "Epoch 44/100\n",
      "240/240 [==============================] - 0s 550us/sample - loss: 0.0495 - accuracy: 0.0000e+00 - val_loss: 0.1042 - val_accuracy: 0.0000e+00\n",
      "Epoch 45/100\n",
      "240/240 [==============================] - 0s 546us/sample - loss: 0.0496 - accuracy: 0.0000e+00 - val_loss: 0.0927 - val_accuracy: 0.0000e+00\n",
      "Epoch 46/100\n",
      "240/240 [==============================] - 0s 537us/sample - loss: 0.0485 - accuracy: 0.0000e+00 - val_loss: 0.0895 - val_accuracy: 0.0000e+00\n",
      "Epoch 47/100\n",
      "240/240 [==============================] - 0s 612us/sample - loss: 0.0452 - accuracy: 0.0000e+00 - val_loss: 0.0830 - val_accuracy: 0.0000e+00\n",
      "Epoch 48/100\n",
      "240/240 [==============================] - 0s 566us/sample - loss: 0.0438 - accuracy: 0.0000e+00 - val_loss: 0.0806 - val_accuracy: 0.0000e+00\n",
      "Epoch 49/100\n",
      "240/240 [==============================] - 0s 562us/sample - loss: 0.0423 - accuracy: 0.0000e+00 - val_loss: 0.0762 - val_accuracy: 0.0000e+00\n",
      "Epoch 50/100\n",
      "240/240 [==============================] - 0s 541us/sample - loss: 0.0436 - accuracy: 0.0000e+00 - val_loss: 0.0777 - val_accuracy: 0.0000e+00\n",
      "Epoch 51/100\n",
      "240/240 [==============================] - 0s 537us/sample - loss: 0.0424 - accuracy: 0.0000e+00 - val_loss: 0.0813 - val_accuracy: 0.0000e+00\n",
      "Epoch 52/100\n",
      "240/240 [==============================] - 0s 566us/sample - loss: 0.0427 - accuracy: 0.0000e+00 - val_loss: 0.0753 - val_accuracy: 0.0000e+00\n",
      "Epoch 53/100\n"
     ]
    },
    {
     "name": "stdout",
     "output_type": "stream",
     "text": [
      "240/240 [==============================] - 0s 550us/sample - loss: 0.0398 - accuracy: 0.0000e+00 - val_loss: 0.0773 - val_accuracy: 0.0000e+00\n",
      "Epoch 54/100\n",
      "240/240 [==============================] - 0s 554us/sample - loss: 0.0405 - accuracy: 0.0000e+00 - val_loss: 0.0733 - val_accuracy: 0.0000e+00\n",
      "Epoch 55/100\n",
      "240/240 [==============================] - 0s 554us/sample - loss: 0.0389 - accuracy: 0.0000e+00 - val_loss: 0.0713 - val_accuracy: 0.0000e+00\n",
      "Epoch 56/100\n",
      "240/240 [==============================] - 0s 554us/sample - loss: 0.0381 - accuracy: 0.0000e+00 - val_loss: 0.0734 - val_accuracy: 0.0000e+00\n",
      "Epoch 57/100\n",
      "240/240 [==============================] - 0s 533us/sample - loss: 0.0393 - accuracy: 0.0000e+00 - val_loss: 0.0696 - val_accuracy: 0.0000e+00\n",
      "Epoch 58/100\n",
      "240/240 [==============================] - 0s 533us/sample - loss: 0.0404 - accuracy: 0.0000e+00 - val_loss: 0.0756 - val_accuracy: 0.0000e+00\n",
      "Epoch 59/100\n",
      "240/240 [==============================] - 0s 546us/sample - loss: 0.0411 - accuracy: 0.0000e+00 - val_loss: 0.0706 - val_accuracy: 0.0000e+00\n",
      "Epoch 60/100\n",
      "240/240 [==============================] - 0s 566us/sample - loss: 0.0393 - accuracy: 0.0000e+00 - val_loss: 0.0706 - val_accuracy: 0.0000e+00\n",
      "Epoch 61/100\n",
      "240/240 [==============================] - 0s 541us/sample - loss: 0.0411 - accuracy: 0.0000e+00 - val_loss: 0.0740 - val_accuracy: 0.0000e+00\n",
      "Epoch 62/100\n",
      "240/240 [==============================] - 0s 537us/sample - loss: 0.0411 - accuracy: 0.0000e+00 - val_loss: 0.0699 - val_accuracy: 0.0000e+00\n",
      "Epoch 63/100\n",
      "240/240 [==============================] - 0s 541us/sample - loss: 0.0384 - accuracy: 0.0000e+00 - val_loss: 0.0688 - val_accuracy: 0.0000e+00\n",
      "Epoch 64/100\n",
      "240/240 [==============================] - 0s 533us/sample - loss: 0.0384 - accuracy: 0.0000e+00 - val_loss: 0.0673 - val_accuracy: 0.0000e+00\n",
      "Epoch 65/100\n",
      "240/240 [==============================] - 0s 546us/sample - loss: 0.0380 - accuracy: 0.0000e+00 - val_loss: 0.0670 - val_accuracy: 0.0000e+00\n",
      "Epoch 66/100\n",
      "240/240 [==============================] - 0s 537us/sample - loss: 0.0396 - accuracy: 0.0000e+00 - val_loss: 0.0673 - val_accuracy: 0.0000e+00\n",
      "Epoch 67/100\n",
      "240/240 [==============================] - 0s 537us/sample - loss: 0.0368 - accuracy: 0.0000e+00 - val_loss: 0.0683 - val_accuracy: 0.0000e+00\n",
      "Epoch 68/100\n",
      "240/240 [==============================] - 0s 541us/sample - loss: 0.0364 - accuracy: 0.0000e+00 - val_loss: 0.0644 - val_accuracy: 0.0000e+00\n",
      "Epoch 69/100\n",
      "240/240 [==============================] - 0s 541us/sample - loss: 0.0344 - accuracy: 0.0000e+00 - val_loss: 0.0692 - val_accuracy: 0.0000e+00\n",
      "Epoch 70/100\n",
      "240/240 [==============================] - 0s 537us/sample - loss: 0.0367 - accuracy: 0.0000e+00 - val_loss: 0.0639 - val_accuracy: 0.0000e+00\n",
      "Epoch 71/100\n",
      "240/240 [==============================] - 0s 529us/sample - loss: 0.0339 - accuracy: 0.0000e+00 - val_loss: 0.0625 - val_accuracy: 0.0000e+00\n",
      "Epoch 72/100\n",
      "240/240 [==============================] - 0s 541us/sample - loss: 0.0337 - accuracy: 0.0000e+00 - val_loss: 0.0628 - val_accuracy: 0.0000e+00\n",
      "Epoch 73/100\n",
      "240/240 [==============================] - 0s 533us/sample - loss: 0.0336 - accuracy: 0.0000e+00 - val_loss: 0.0617 - val_accuracy: 0.0000e+00\n",
      "Epoch 74/100\n",
      "240/240 [==============================] - 0s 541us/sample - loss: 0.0342 - accuracy: 0.0000e+00 - val_loss: 0.0695 - val_accuracy: 0.0000e+00\n",
      "Epoch 75/100\n",
      "240/240 [==============================] - 0s 529us/sample - loss: 0.0347 - accuracy: 0.0000e+00 - val_loss: 0.0634 - val_accuracy: 0.0000e+00\n",
      "Epoch 76/100\n",
      "240/240 [==============================] - 0s 546us/sample - loss: 0.0328 - accuracy: 0.0000e+00 - val_loss: 0.0672 - val_accuracy: 0.0000e+00\n",
      "Epoch 77/100\n",
      "240/240 [==============================] - 0s 529us/sample - loss: 0.0364 - accuracy: 0.0000e+00 - val_loss: 0.0641 - val_accuracy: 0.0000e+00\n",
      "Epoch 78/100\n",
      "240/240 [==============================] - 0s 533us/sample - loss: 0.0342 - accuracy: 0.0000e+00 - val_loss: 0.0616 - val_accuracy: 0.0000e+00\n",
      "Epoch 79/100\n",
      "240/240 [==============================] - 0s 537us/sample - loss: 0.0345 - accuracy: 0.0000e+00 - val_loss: 0.0629 - val_accuracy: 0.0000e+00\n",
      "Epoch 80/100\n",
      "240/240 [==============================] - 0s 546us/sample - loss: 0.0328 - accuracy: 0.0000e+00 - val_loss: 0.0601 - val_accuracy: 0.0000e+00\n",
      "Epoch 81/100\n",
      "240/240 [==============================] - 0s 537us/sample - loss: 0.0332 - accuracy: 0.0000e+00 - val_loss: 0.0614 - val_accuracy: 0.0000e+00\n",
      "Epoch 82/100\n",
      "240/240 [==============================] - 0s 541us/sample - loss: 0.0334 - accuracy: 0.0000e+00 - val_loss: 0.0660 - val_accuracy: 0.0000e+00\n",
      "Epoch 83/100\n",
      "240/240 [==============================] - 0s 525us/sample - loss: 0.0339 - accuracy: 0.0000e+00 - val_loss: 0.0618 - val_accuracy: 0.0000e+00\n",
      "Epoch 84/100\n",
      "240/240 [==============================] - 0s 533us/sample - loss: 0.0370 - accuracy: 0.0000e+00 - val_loss: 0.0792 - val_accuracy: 0.0000e+00\n",
      "Epoch 85/100\n",
      "240/240 [==============================] - 0s 541us/sample - loss: 0.0392 - accuracy: 0.0000e+00 - val_loss: 0.0676 - val_accuracy: 0.0000e+00\n",
      "Epoch 86/100\n",
      "240/240 [==============================] - 0s 546us/sample - loss: 0.0349 - accuracy: 0.0000e+00 - val_loss: 0.0762 - val_accuracy: 0.0000e+00\n",
      "Epoch 87/100\n",
      "240/240 [==============================] - 0s 533us/sample - loss: 0.0385 - accuracy: 0.0000e+00 - val_loss: 0.0616 - val_accuracy: 0.0000e+00\n",
      "Epoch 88/100\n",
      "240/240 [==============================] - 0s 533us/sample - loss: 0.0354 - accuracy: 0.0000e+00 - val_loss: 0.0673 - val_accuracy: 0.0000e+00\n",
      "Epoch 89/100\n",
      "240/240 [==============================] - 0s 541us/sample - loss: 0.0339 - accuracy: 0.0000e+00 - val_loss: 0.0609 - val_accuracy: 0.0000e+00\n",
      "Epoch 90/100\n",
      "240/240 [==============================] - 0s 533us/sample - loss: 0.0347 - accuracy: 0.0000e+00 - val_loss: 0.0608 - val_accuracy: 0.0000e+00\n",
      "Epoch 91/100\n",
      "240/240 [==============================] - 0s 562us/sample - loss: 0.0342 - accuracy: 0.0000e+00 - val_loss: 0.0623 - val_accuracy: 0.0000e+00\n",
      "Epoch 92/100\n",
      "240/240 [==============================] - 0s 537us/sample - loss: 0.0331 - accuracy: 0.0000e+00 - val_loss: 0.0614 - val_accuracy: 0.0000e+00\n",
      "Epoch 93/100\n",
      "240/240 [==============================] - 0s 546us/sample - loss: 0.0335 - accuracy: 0.0000e+00 - val_loss: 0.0629 - val_accuracy: 0.0000e+00\n",
      "Epoch 94/100\n",
      "240/240 [==============================] - 0s 566us/sample - loss: 0.0330 - accuracy: 0.0000e+00 - val_loss: 0.0604 - val_accuracy: 0.0000e+00\n",
      "Epoch 95/100\n",
      "240/240 [==============================] - 0s 533us/sample - loss: 0.0317 - accuracy: 0.0000e+00 - val_loss: 0.0634 - val_accuracy: 0.0000e+00\n",
      "Epoch 96/100\n",
      "240/240 [==============================] - 0s 541us/sample - loss: 0.0325 - accuracy: 0.0000e+00 - val_loss: 0.0595 - val_accuracy: 0.0000e+00\n",
      "Epoch 97/100\n",
      "240/240 [==============================] - 0s 550us/sample - loss: 0.0314 - accuracy: 0.0000e+00 - val_loss: 0.0627 - val_accuracy: 0.0000e+00\n",
      "Epoch 98/100\n",
      "240/240 [==============================] - 0s 541us/sample - loss: 0.0315 - accuracy: 0.0000e+00 - val_loss: 0.0618 - val_accuracy: 0.0000e+00\n",
      "Epoch 99/100\n",
      "240/240 [==============================] - 0s 550us/sample - loss: 0.0314 - accuracy: 0.0000e+00 - val_loss: 0.0612 - val_accuracy: 0.0000e+00\n",
      "Epoch 100/100\n",
      "240/240 [==============================] - 0s 562us/sample - loss: 0.0314 - accuracy: 0.0000e+00 - val_loss: 0.0615 - val_accuracy: 0.0000e+00\n"
     ]
    }
   ],
   "source": [
    "# Model 학습  , epochs = 10 (1000)\n",
    "r = model.fit(X_train_std, y_train_std, epochs=100, \n",
    "         batch_size=64, shuffle=True,\n",
    "         validation_data=(X_valid_std, y_valid_std))"
   ]
  },
  {
   "cell_type": "code",
   "execution_count": 10,
   "metadata": {},
   "outputs": [
    {
     "data": {
      "image/png": "[encoded data removed]",
      "text/plain": [
       "<Figure size 432x288 with 1 Axes>"
      ]
     },
     "metadata": {
      "needs_background": "light"
     },
     "output_type": "display_data"
    }
   ],
   "source": [
    "## 훈련의 손실치를 그래프에 표시\n",
    "# history -> loss\n",
    "plt.title('Loss')\n",
    "plt.plot(r.history['loss'], 'b', marker='.', label='loss')\n",
    "plt.plot(r.history['val_loss'], 'r', label='val_loss')\n",
    "plt.xlabel('Epoch')\n",
    "plt.ylabel('Loss')\n",
    "plt.legend()\n",
    "plt.grid(True)\n",
    "plt.show()"
   ]
  },
  {
   "cell_type": "code",
   "execution_count": 11,
   "metadata": {},
   "outputs": [
    {
     "data": {
      "image/png": "[encoded data removed]",
      "text/plain": [
       "<Figure size 432x288 with 1 Axes>"
      ]
     },
     "metadata": {
      "needs_background": "light"
     },
     "output_type": "display_data"
    }
   ],
   "source": [
    "plt.title('Accuracy')\n",
    "plt.plot(r.history['accuracy'], 'b', marker='.', label='acc')\n",
    "plt.plot(r.history['val_accuracy'], 'r', label='val_acc')\n",
    "plt.xlabel('Epoch')\n",
    "plt.ylabel('Accuracy')\n",
    "plt.legend()\n",
    "plt.grid(True)\n",
    "plt.show()"
   ]
  },
  {
   "cell_type": "code",
   "execution_count": 12,
   "metadata": {},
   "outputs": [],
   "source": [
    "## 예측치\n",
    "p = model.predict(X_test_std)\n",
    "df_predict_std = pd.DataFrame(p, columns=['예측가격'])\n"
   ]
  },
  {
   "cell_type": "code",
   "execution_count": 13,
   "metadata": {},
   "outputs": [
    {
     "data": {
      "image/png": "[encoded data removed]",
      "text/plain": [
       "<Figure size 432x288 with 1 Axes>"
      ]
     },
     "metadata": {
      "needs_background": "light"
     },
     "output_type": "display_data"
    }
   ],
   "source": [
    "## 예측치 그래프로 표시\n",
    "predict = scaler.inverse_transform(df_predict_std['예측가격'].values)\n",
    "\n",
    "pre_date = df.index[-len(y_test):].values\n",
    "plt.title('Target close price and predict price')\n",
    "plt.plot(pre_date, y_test, 'b', marker='.', label='Target', linewidth=1)\n",
    "plt.plot(pre_date, predict, 'r', marker='.', label='Train', linewidth=1)\n",
    "plt.xticks(rotation=70)\n",
    "plt.grid(True)\n",
    "plt.legend()\n",
    "plt.show()"
   ]
  },
  {
   "cell_type": "code",
   "execution_count": 14,
   "metadata": {},
   "outputs": [
    {
     "data": {
      "text/plain": [
       "array([18873.459, 17826.9  , 17231.164, 17155.78 , 16950.254, 16711.137,\n",
       "       16895.484, 17958.465, 19450.941, 18961.455, 19215.584, 19122.875,\n",
       "       18921.64 , 18160.605, 17759.182, 17761.664, 18473.004, 18998.496,\n",
       "       19360.795, 19380.773, 19441.24 , 19115.17 , 19407.36 , 19471.393,\n",
       "       19276.502, 19605.1  , 19588.17 , 19285.924, 19066.904, 19211.488],\n",
       "      dtype=float32)"
      ]
     },
     "execution_count": 14,
     "metadata": {},
     "output_type": "execute_result"
    }
   ],
   "source": [
    "predict"
   ]
  },
  {
   "cell_type": "code",
   "execution_count": null,
   "metadata": {},
   "outputs": [],
   "source": []
  }
 ],
 "metadata": {
  "kernelspec": {
   "display_name": "Python 3",
   "language": "python",
   "name": "python3"
  },
  "language_info": {
   "codemirror_mode": {
    "name": "ipython",
    "version": 3
   },
   "file_extension": ".py",
   "mimetype": "text/x-python",
   "name": "python",
   "nbconvert_exporter": "python",
   "pygments_lexer": "ipython3",
   "version": "3.7.4"
  }
 },
 "nbformat": 4,
 "nbformat_minor": 4
}
