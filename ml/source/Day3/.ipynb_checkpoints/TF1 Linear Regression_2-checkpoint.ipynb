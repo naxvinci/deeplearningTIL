{
 "cells": [
  {
   "cell_type": "code",
   "execution_count": 2,
   "metadata": {},
   "outputs": [
    {
     "name": "stdout",
     "output_type": "stream",
     "text": [
      "x_data.shape =  (25, 3)\n",
      "t_data.shape =  (25, 1)\n"
     ]
    }
   ],
   "source": [
    "import tensorflow as tf\n",
    "import numpy as np\n",
    "\n",
    "loaded_data = np.loadtxt('./data-01.csv', delimiter=',')\n",
    "\n",
    "x_data = loaded_data[ :, 0:-1]\n",
    "t_data = loaded_data[ :, [-1]]\n",
    "\n",
    "print(\"x_data.shape = \", x_data.shape)\n",
    "print(\"t_data.shape = \", t_data.shape)"
   ]
  },
  {
   "cell_type": "code",
   "execution_count": 3,
   "metadata": {},
   "outputs": [],
   "source": [
    "W = tf.Variable(tf.random_normal([3, 1]))  # 가중치 노드\n",
    "b = tf.Variable(tf.random_normal([1]))     # 바이어스 노드\n",
    "\n",
    "X = tf.placeholder(tf.float32, [None, 3])  # None 은 총 데이터 갯수\n",
    "T = tf.placeholder(tf.float32, [None, 1])  # 정답데이터 노드"
   ]
  },
  {
   "cell_type": "code",
   "execution_count": 4,
   "metadata": {},
   "outputs": [],
   "source": [
    "y = tf.matmul(X, W) + b  # 현재 X, W, b, 를 바탕으로 계산된 값\n",
    "\n",
    "loss = tf.reduce_mean(tf.square(y - T))  # MSE 손실함수 정의"
   ]
  },
  {
   "cell_type": "code",
   "execution_count": 5,
   "metadata": {},
   "outputs": [],
   "source": [
    "learning_rate = 1e-5    # 학습율\n",
    "\n",
    "optimizer = tf.train.GradientDescentOptimizer(learning_rate)\n",
    "\n",
    "train = optimizer.minimize(loss)"
   ]
  },
  {
   "cell_type": "code",
   "execution_count": 6,
   "metadata": {},
   "outputs": [
    {
     "name": "stdout",
     "output_type": "stream",
     "text": [
      "step =  0 , loss_val =  7656.46\n",
      "step =  400 , loss_val =  46.406174\n",
      "step =  800 , loss_val =  39.105896\n",
      "step =  1200 , loss_val =  33.13441\n",
      "step =  1600 , loss_val =  28.24923\n",
      "step =  2000 , loss_val =  24.252182\n",
      "step =  2400 , loss_val =  20.981392\n",
      "step =  2800 , loss_val =  18.304726\n",
      "step =  3200 , loss_val =  16.11406\n",
      "step =  3600 , loss_val =  14.320998\n",
      "step =  4000 , loss_val =  12.853327\n",
      "step =  4400 , loss_val =  11.651886\n",
      "step =  4800 , loss_val =  10.668343\n",
      "step =  5200 , loss_val =  9.86317\n",
      "step =  5600 , loss_val =  9.203979\n",
      "step =  6000 , loss_val =  8.664281\n",
      "step =  6400 , loss_val =  8.222423\n",
      "step =  6800 , loss_val =  7.860637\n",
      "step =  7200 , loss_val =  7.56439\n",
      "step =  7600 , loss_val =  7.3218274\n",
      "step =  8000 , loss_val =  7.1231823\n",
      "\n",
      "Prediction is  [[181.36852]]\n"
     ]
    }
   ],
   "source": [
    "with  tf.Session()  as sess:\n",
    "    \n",
    "    sess.run(tf.global_variables_initializer())  # 변수 노드(tf.Variable) 초기화\n",
    "\n",
    "    for step in range(8001):\n",
    "      \n",
    "        loss_val, y_val, _ = sess.run([loss, y, train], feed_dict={X: x_data, T: t_data})    \n",
    "        \n",
    "        \n",
    "        if step % 400 == 0:\n",
    "            print(\"step = \", step, \", loss_val = \", loss_val)             \n",
    "    \n",
    "    print(\"\\nPrediction is \", sess.run(y, feed_dict={X: [ [100, 98, 81] ]}))"
   ]
  },
  {
   "cell_type": "code",
   "execution_count": null,
   "metadata": {},
   "outputs": [],
   "source": []
  },
  {
   "cell_type": "code",
   "execution_count": null,
   "metadata": {},
   "outputs": [],
   "source": []
  }
 ],
 "metadata": {
  "kernelspec": {
   "display_name": "Python 3",
   "language": "python",
   "name": "python3"
  },
  "language_info": {
   "codemirror_mode": {
    "name": "ipython",
    "version": 3
   },
   "file_extension": ".py",
   "mimetype": "text/x-python",
   "name": "python",
   "nbconvert_exporter": "python",
   "pygments_lexer": "ipython3",
   "version": "3.7.3"
  }
 },
 "nbformat": 4,
 "nbformat_minor": 2
}
