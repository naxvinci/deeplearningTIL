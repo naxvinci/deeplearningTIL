{
 "cells": [
  {
   "cell_type": "code",
   "execution_count": 1,
   "metadata": {},
   "outputs": [
    {
     "name": "stderr",
     "output_type": "stream",
     "text": [
      "Using TensorFlow backend.\n"
     ]
    }
   ],
   "source": [
    "%matplotlib inline\n",
    "\n",
    "import pandas as pd\n",
    "import numpy as np\n",
    "import matplotlib.pyplot as plt\n",
    "import math\n",
    "from keras.utils.np_utils import to_categorical\n",
    "from keras.models import Sequential, load_model, Model\n",
    "from keras.layers import Dense, Dropout, Activation, Flatten\n",
    "from keras.layers import Conv2D, MaxPooling2D"
   ]
  },
  {
   "cell_type": "code",
   "execution_count": 5,
   "metadata": {},
   "outputs": [
    {
     "data": {
      "text/plain": [
       "(60000, 28, 28)"
      ]
     },
     "execution_count": 5,
     "metadata": {},
     "output_type": "execute_result"
    }
   ],
   "source": [
    "from keras.datasets import mnist\n",
    "(X_train, Y_train), (X_test, Y_test) = mnist.load_data()\n",
    "X_train.shape"
   ]
  },
  {
   "cell_type": "code",
   "execution_count": 7,
   "metadata": {},
   "outputs": [
    {
     "data": {
      "text/plain": [
       "7"
      ]
     },
     "execution_count": 7,
     "metadata": {},
     "output_type": "execute_result"
    }
   ],
   "source": [
    "Y_test[0]"
   ]
  },
  {
   "cell_type": "code",
   "execution_count": 8,
   "metadata": {},
   "outputs": [
    {
     "data": {
      "text/plain": [
       "<matplotlib.image.AxesImage at 0x26ed4fc3448>"
      ]
     },
     "execution_count": 8,
     "metadata": {},
     "output_type": "execute_result"
    },
    {
     "data": {
      "image/png": "[encoded data removed]",
      "text/plain": [
       "<Figure size 432x288 with 1 Axes>"
      ]
     },
     "metadata": {
      "needs_background": "light"
     },
     "output_type": "display_data"
    }
   ],
   "source": [
    "plt.imshow(X_test[0], cmap='binary')"
   ]
  },
  {
   "cell_type": "code",
   "execution_count": 9,
   "metadata": {},
   "outputs": [],
   "source": [
    "X_train = X_train.reshape(60000, 28, 28, 1) # 채널하나짜리로 만든다"
   ]
  },
  {
   "cell_type": "code",
   "execution_count": 10,
   "metadata": {},
   "outputs": [],
   "source": [
    "X_test = X_test.reshape(10000, 28, 28, 1)"
   ]
  },
  {
   "cell_type": "code",
   "execution_count": 11,
   "metadata": {},
   "outputs": [],
   "source": [
    "Y_train = to_categorical(Y_train) # 정답데이터 // 우리가 알 수 있는 분포도로 바꿔줘야한다\n",
    "Y_test = to_categorical(Y_test)\n",
    "\n",
    "X_train = X_train / 255.0\n",
    "X_test = X_test / 255.0"
   ]
  },
  {
   "cell_type": "code",
   "execution_count": 13,
   "metadata": {},
   "outputs": [],
   "source": [
    "# Create a model\n",
    "model = Sequential()\n",
    "model.add(Conv2D(filters=16,\n",
    "                kernel_size=(5, 5),\n",
    "                padding=\"same\",\n",
    "                strides=1,\n",
    "                activation=\"relu\",\n",
    "                input_shape=(28, 28, 1))) # 1* 5 * 5 * 16 + 16"
   ]
  },
  {
   "cell_type": "code",
   "execution_count": 12,
   "metadata": {},
   "outputs": [
    {
     "name": "stdout",
     "output_type": "stream",
     "text": [
      "WARNING:tensorflow:From C:\\Users\\student\\Anaconda3\\lib\\site-packages\\tensorflow_core\\python\\ops\\resource_variable_ops.py:1630: calling BaseResourceVariable.__init__ (from tensorflow.python.ops.resource_variable_ops) with constraint is deprecated and will be removed in a future version.\n",
      "Instructions for updating:\n",
      "If using Keras pass *_constraint arguments to layers.\n",
      "Model: \"sequential_1\"\n",
      "_________________________________________________________________\n",
      "Layer (type)                 Output Shape              Param #   \n",
      "=================================================================\n",
      "conv2d_1 (Conv2D)            (None, 28, 28, 16)        416       \n",
      "=================================================================\n",
      "Total params: 416\n",
      "Trainable params: 416\n",
      "Non-trainable params: 0\n",
      "_________________________________________________________________\n"
     ]
    }
   ],
   "source": [
    "model.summary()"
   ]
  },
  {
   "cell_type": "code",
   "execution_count": 14,
   "metadata": {},
   "outputs": [
    {
     "name": "stdout",
     "output_type": "stream",
     "text": [
      "WARNING:tensorflow:From C:\\Users\\student\\Anaconda3\\lib\\site-packages\\keras\\backend\\tensorflow_backend.py:4070: The name tf.nn.max_pool is deprecated. Please use tf.nn.max_pool2d instead.\n",
      "\n"
     ]
    }
   ],
   "source": [
    "# Maxpooling2D()\n",
    "model.add(MaxPooling2D(pool_size=(2, 2))) # 풀링작업을 통해 절반씩 줄인다\n",
    "\n",
    "# 특징들만 차원축소하는 과정이라 파람 변화는 없다"
   ]
  },
  {
   "cell_type": "code",
   "execution_count": 15,
   "metadata": {},
   "outputs": [],
   "source": [
    "model.add(Conv2D(filters=36,\n",
    "                kernel_size=(3, 3),\n",
    "                padding=\"same\",\n",
    "                strides=1,\n",
    "                activation=\"relu\"))\n",
    "\n",
    "# 채널의 개수= 1개 / 필터 사이즈 3by3\n",
    "# 1 * 16 * 3 * 3 * 36 + 36 = 5220"
   ]
  },
  {
   "cell_type": "code",
   "execution_count": 16,
   "metadata": {},
   "outputs": [],
   "source": [
    "# Flatten()\n",
    "model.add(Flatten())\n",
    "# 14*14*36 = 7056 // flatten은 기존에 있던 차원을 납작쿵 나열시키는 것이기 때문에 위의 차원을 다 곱해주는 것"
   ]
  },
  {
   "cell_type": "code",
   "execution_count": 17,
   "metadata": {},
   "outputs": [],
   "source": [
    "# Dense()\n",
    "model.add(Dense(128, activation=\"relu\"))\n",
    "# 7056 * 128 + 128"
   ]
  },
  {
   "cell_type": "code",
   "execution_count": 18,
   "metadata": {},
   "outputs": [],
   "source": [
    "# Softmax\n",
    "model.add(Dense(10, activation=\"softmax\")) # 128개 입력값을 가져다가 \n",
    "# 128 * 10 + 10"
   ]
  },
  {
   "cell_type": "code",
   "execution_count": 19,
   "metadata": {},
   "outputs": [
    {
     "name": "stdout",
     "output_type": "stream",
     "text": [
      "Model: \"sequential_2\"\n",
      "_________________________________________________________________\n",
      "Layer (type)                 Output Shape              Param #   \n",
      "=================================================================\n",
      "conv2d_2 (Conv2D)            (None, 28, 28, 16)        416       \n",
      "_________________________________________________________________\n",
      "max_pooling2d_1 (MaxPooling2 (None, 14, 14, 16)        0         \n",
      "_________________________________________________________________\n",
      "conv2d_3 (Conv2D)            (None, 14, 14, 36)        5220      \n",
      "_________________________________________________________________\n",
      "flatten_1 (Flatten)          (None, 7056)              0         \n",
      "_________________________________________________________________\n",
      "dense_1 (Dense)              (None, 128)               903296    \n",
      "_________________________________________________________________\n",
      "dense_2 (Dense)              (None, 10)                1290      \n",
      "=================================================================\n",
      "Total params: 910,222\n",
      "Trainable params: 910,222\n",
      "Non-trainable params: 0\n",
      "_________________________________________________________________\n"
     ]
    }
   ],
   "source": [
    "model.summary()"
   ]
  },
  {
   "cell_type": "code",
   "execution_count": 20,
   "metadata": {},
   "outputs": [],
   "source": [
    "model.compile(\n",
    "        loss='categorical_crossentropy', optimizer='adam', metrics=['accuracy'])"
   ]
  },
  {
   "cell_type": "code",
   "execution_count": 21,
   "metadata": {},
   "outputs": [
    {
     "name": "stdout",
     "output_type": "stream",
     "text": [
      "WARNING:tensorflow:From C:\\Users\\student\\Anaconda3\\lib\\site-packages\\keras\\backend\\tensorflow_backend.py:422: The name tf.global_variables is deprecated. Please use tf.compat.v1.global_variables instead.\n",
      "\n",
      "Train on 48000 samples, validate on 12000 samples\n",
      "Epoch 1/1\n",
      "48000/48000 [==============================] - 18s 369us/step - loss: 0.2647 - accuracy: 0.9207 - val_loss: 0.0913 - val_accuracy: 0.9737\n"
     ]
    },
    {
     "data": {
      "text/plain": [
       "<keras.callbacks.callbacks.History at 0x26ed11e2cc8>"
      ]
     },
     "execution_count": 21,
     "metadata": {},
     "output_type": "execute_result"
    }
   ],
   "source": [
    "model.fit(X_train, Y_train,\n",
    "         batch_size=200, epochs=1,\n",
    "         validation_split=0.2)"
   ]
  },
  {
   "cell_type": "code",
   "execution_count": 23,
   "metadata": {},
   "outputs": [
    {
     "name": "stdout",
     "output_type": "stream",
     "text": [
      "10000/10000 [==============================] - 1s 112us/step\n",
      "[0.08003088779505342, 0.9750999808311462]\n"
     ]
    }
   ],
   "source": [
    "result = model.evaluate(X_test, Y_test)\n",
    "print(result)"
   ]
  },
  {
   "cell_type": "code",
   "execution_count": 26,
   "metadata": {},
   "outputs": [
    {
     "data": {
      "text/plain": [
       "[array([[[[-5.78871220e-02, -4.34510298e-02, -9.29915085e-02,\n",
       "           -4.41260710e-02, -5.69079593e-02, -8.06322619e-02,\n",
       "            1.65044144e-02,  1.18035883e-01,  1.07413597e-01,\n",
       "           -2.35782303e-02,  1.12892248e-01,  5.30709401e-02,\n",
       "            2.79035084e-02,  8.49033073e-02, -5.22988848e-03,\n",
       "           -1.02964401e-01]],\n",
       " \n",
       "         [[-3.38438377e-02, -1.78415272e-02, -7.01274872e-02,\n",
       "            5.68463728e-02,  1.42987803e-01, -1.50643378e-01,\n",
       "           -4.29050997e-02, -5.89653999e-02,  1.47035360e-01,\n",
       "            6.85565025e-02, -8.90670121e-02, -1.81073323e-02,\n",
       "           -5.05541041e-02,  1.19745672e-01, -4.91653522e-03,\n",
       "            7.26273190e-03]],\n",
       " \n",
       "         [[-9.21001062e-02,  3.23715247e-02, -5.63837821e-03,\n",
       "            1.27928644e-01,  5.14968820e-02, -1.15487896e-01,\n",
       "           -1.16935328e-01,  2.96018422e-02,  1.32395312e-01,\n",
       "           -1.04937352e-01,  9.69783142e-02, -1.51086539e-01,\n",
       "           -5.46369031e-02,  8.15574138e-04,  1.22115038e-01,\n",
       "            9.93378609e-02]],\n",
       " \n",
       "         [[-8.18298310e-02,  7.44590387e-02,  8.98784548e-02,\n",
       "           -1.01773322e-01,  1.43004298e-01,  4.22468297e-02,\n",
       "           -1.84205085e-01, -1.44425139e-01, -1.07489161e-01,\n",
       "           -6.88534006e-02, -2.49169562e-02, -1.26438156e-01,\n",
       "           -1.15122579e-01,  1.16280697e-01,  9.06065926e-02,\n",
       "            8.85939151e-02]],\n",
       " \n",
       "         [[-1.51339605e-01, -9.39149708e-02,  2.09068730e-02,\n",
       "           -9.31656137e-02,  1.15378432e-01, -1.00205153e-01,\n",
       "           -3.84564581e-03,  8.16709697e-02, -2.68904888e-03,\n",
       "           -1.44944966e-01,  1.34076640e-01, -9.74434018e-02,\n",
       "            1.00746527e-01,  1.02134228e-01,  3.52982394e-02,\n",
       "           -1.28253028e-01]]],\n",
       " \n",
       " \n",
       "        [[[ 3.86167355e-02,  4.85553034e-02, -9.69842151e-02,\n",
       "            9.08920243e-02,  1.01142377e-01, -8.31099600e-02,\n",
       "           -4.56846319e-02,  3.89055572e-02,  8.08969215e-02,\n",
       "            8.86203647e-02,  9.76826847e-02, -5.59235774e-02,\n",
       "            4.13369052e-02,  1.33876234e-01,  5.42423204e-02,\n",
       "            3.42577100e-02]],\n",
       " \n",
       "         [[ 1.08999528e-01,  1.60840482e-01, -6.13549389e-02,\n",
       "            3.93500812e-02, -5.44762239e-02, -2.07124501e-01,\n",
       "           -1.46348044e-01,  1.41262924e-02,  5.50897457e-02,\n",
       "            5.73555790e-02,  1.28318682e-01, -5.27810007e-02,\n",
       "            1.47179618e-01,  5.34257889e-02, -2.81942394e-02,\n",
       "            1.04741894e-01]],\n",
       " \n",
       "         [[-8.03866237e-02,  4.67681363e-02, -9.32540074e-02,\n",
       "            1.28188103e-01,  3.74700688e-02,  2.45555472e-02,\n",
       "           -1.76732272e-01,  1.54257810e-04, -5.88467419e-02,\n",
       "            1.61008500e-02,  7.55673200e-02, -1.36458963e-01,\n",
       "            1.34310573e-01, -2.39292681e-02, -2.20120437e-02,\n",
       "            6.56505898e-02]],\n",
       " \n",
       "         [[-1.32786289e-01,  1.09603293e-01,  2.05271859e-02,\n",
       "           -8.52912813e-02,  1.31862342e-01, -3.81546766e-02,\n",
       "           -8.76247808e-02, -1.31997138e-01, -1.60887823e-01,\n",
       "           -3.33483256e-02,  3.22441198e-02, -6.53820708e-02,\n",
       "            6.27823696e-02,  1.05111964e-01,  1.16705231e-01,\n",
       "            6.38749003e-02]],\n",
       " \n",
       "         [[ 1.14876792e-01, -1.37549773e-01, -6.53821081e-02,\n",
       "           -1.26821518e-01, -8.08777735e-02,  1.48175552e-01,\n",
       "           -3.42487590e-03, -8.49986449e-02,  1.16497567e-02,\n",
       "           -8.48970339e-02,  2.05004904e-02, -9.00646821e-02,\n",
       "            2.66322494e-02, -1.04813367e-01,  1.82422027e-01,\n",
       "           -7.70261511e-02]]],\n",
       " \n",
       " \n",
       "        [[[ 5.29544987e-02, -1.54871307e-03, -1.70514107e-01,\n",
       "           -1.21323958e-01,  2.31242813e-02,  7.41761643e-03,\n",
       "           -1.56996772e-01,  1.78917870e-02,  1.47051364e-01,\n",
       "            2.98051201e-02, -3.28119397e-02,  1.72202196e-02,\n",
       "            1.26994476e-01, -1.94111988e-02,  5.50324982e-03,\n",
       "            1.37406826e-01]],\n",
       " \n",
       "         [[-1.20330207e-01,  1.52449697e-01, -6.83352947e-02,\n",
       "            7.16349408e-02, -8.06923509e-02, -1.94473848e-01,\n",
       "           -1.67485639e-01,  2.53693145e-02,  6.28904924e-02,\n",
       "           -5.88816497e-03,  6.90387338e-02,  1.29935697e-01,\n",
       "            6.31853268e-02,  6.67116717e-02,  9.39588398e-02,\n",
       "            2.14550048e-02]],\n",
       " \n",
       "         [[-1.06539808e-01,  1.53707400e-01,  1.39970213e-01,\n",
       "            1.33669168e-01,  1.05352335e-01,  1.30365163e-01,\n",
       "           -5.40695712e-02, -5.13990521e-02, -1.56316638e-01,\n",
       "            1.04227394e-01,  1.27277583e-01,  6.09756298e-02,\n",
       "            7.81733990e-02, -4.37532142e-02,  6.08194945e-03,\n",
       "            7.72876740e-02]],\n",
       " \n",
       "         [[ 1.43508762e-01,  1.07047282e-01, -3.84648098e-04,\n",
       "            1.01676181e-01, -5.57313822e-02,  3.53208482e-02,\n",
       "            5.74159175e-02, -1.87369529e-02, -2.62304954e-02,\n",
       "           -1.05439089e-02,  5.75704388e-02,  1.22627549e-01,\n",
       "            7.23314285e-02,  1.29428804e-01, -9.42759775e-03,\n",
       "            7.47735128e-02]],\n",
       " \n",
       "         [[ 5.37926778e-02, -9.52289179e-02, -1.51001280e-02,\n",
       "           -1.11698538e-01, -1.34216011e-01,  7.87668303e-02,\n",
       "            4.80227694e-02,  5.21596894e-02, -7.87413567e-02,\n",
       "           -6.16072342e-02,  1.75653864e-02,  2.73572188e-03,\n",
       "            9.82170552e-02,  2.45908499e-02, -1.81317121e-01,\n",
       "            1.25211179e-01]]],\n",
       " \n",
       " \n",
       "        [[[ 1.26463212e-02, -6.72179908e-02, -1.97505672e-02,\n",
       "           -2.00493515e-01,  3.76752838e-02, -1.60976946e-01,\n",
       "           -1.70669094e-01, -1.04942163e-02, -6.82142824e-02,\n",
       "            1.97427440e-02,  8.81634429e-02,  1.46366015e-01,\n",
       "           -6.55159801e-02, -8.83604139e-02,  2.26857327e-02,\n",
       "           -1.02864049e-01]],\n",
       " \n",
       "         [[-1.97735205e-02,  1.29919514e-01,  1.02769263e-01,\n",
       "           -3.34681235e-02,  8.17645807e-03, -1.01198412e-01,\n",
       "           -3.33853438e-02,  1.22947589e-01, -1.47201151e-01,\n",
       "           -5.96704753e-03,  1.46575160e-02,  4.56338413e-02,\n",
       "           -1.16793446e-01,  1.32883489e-01, -4.10851277e-03,\n",
       "            8.03292915e-02]],\n",
       " \n",
       "         [[-5.45205474e-02,  1.12081572e-01,  8.29460695e-02,\n",
       "            6.46774471e-02, -1.06008776e-01,  1.45702794e-01,\n",
       "            6.56948537e-02,  6.02079146e-02, -1.11298323e-01,\n",
       "            5.84851466e-02,  6.75998703e-02, -9.33553744e-03,\n",
       "            9.20166373e-02,  9.28492770e-02, -1.19746484e-01,\n",
       "            1.21890893e-02]],\n",
       " \n",
       "         [[ 9.61031243e-02, -3.78600992e-02, -8.18258598e-02,\n",
       "            5.27466796e-02, -1.72210023e-01,  3.02823959e-03,\n",
       "            6.37201592e-02, -8.78759176e-02, -8.06365609e-02,\n",
       "            4.44695242e-02,  3.72979604e-02,  1.27765864e-01,\n",
       "            2.45261882e-02,  1.71132442e-02, -1.58619359e-01,\n",
       "           -2.00283043e-02]],\n",
       " \n",
       "         [[ 1.72344223e-02, -8.98410529e-02,  1.29908264e-01,\n",
       "            7.82556459e-02, -3.95333916e-02,  1.24572538e-01,\n",
       "            1.64652616e-01,  8.56044292e-02, -3.47536127e-03,\n",
       "            1.36690155e-01, -7.47016743e-02,  9.43668261e-02,\n",
       "           -8.51327181e-02, -1.54392782e-03, -1.15297586e-01,\n",
       "            1.30432636e-01]]],\n",
       " \n",
       " \n",
       "        [[[ 4.66862284e-02,  2.39791758e-02, -9.48759615e-02,\n",
       "           -1.76554352e-01, -1.92941006e-04, -2.06549063e-01,\n",
       "           -1.45130008e-01,  2.56576482e-02,  2.97569241e-02,\n",
       "           -2.16268487e-02,  4.86766733e-02, -5.32997623e-02,\n",
       "           -4.46675196e-02,  5.29498942e-02, -1.69317588e-01,\n",
       "            7.79222995e-02]],\n",
       " \n",
       "         [[ 1.29077718e-01, -2.14091260e-02,  8.87539908e-02,\n",
       "           -2.79677883e-02, -1.62355006e-02, -3.71518582e-02,\n",
       "           -9.69092920e-02,  1.02398254e-01, -1.04793340e-01,\n",
       "           -4.15706933e-02,  6.91901073e-02,  7.56003335e-02,\n",
       "           -9.99070331e-02,  9.47434455e-03, -1.55564800e-01,\n",
       "           -1.59086064e-02]],\n",
       " \n",
       "         [[ 2.16909740e-02,  3.51467654e-02,  3.30289938e-02,\n",
       "           -3.37155238e-02,  6.27490282e-02,  1.13726474e-01,\n",
       "           -5.97832091e-02,  7.47478828e-02, -1.30719766e-01,\n",
       "            1.12381808e-01, -1.34510845e-02,  5.57858497e-02,\n",
       "           -1.65040970e-01,  4.36643064e-02, -3.88612971e-02,\n",
       "            7.50784650e-02]],\n",
       " \n",
       "         [[ 6.81228414e-02, -2.92041227e-02, -1.38676343e-02,\n",
       "            1.31268933e-01, -1.69150651e-01,  1.55569807e-01,\n",
       "            7.35013783e-02, -9.25166607e-02, -7.44085982e-02,\n",
       "            1.06815264e-01, -4.20872457e-02, -1.48117589e-02,\n",
       "            4.34548082e-03,  1.21653497e-01, -1.10225536e-01,\n",
       "           -5.29743172e-02]],\n",
       " \n",
       "         [[ 5.43591008e-02, -8.91207606e-02,  1.12623312e-01,\n",
       "            1.13407537e-01, -1.06965780e-01, -3.40418778e-02,\n",
       "            1.89298287e-01,  4.42052893e-02,  1.08515114e-01,\n",
       "            2.93839984e-02, -1.61075294e-01,  1.36711821e-02,\n",
       "           -2.43714340e-02,  3.53938178e-03,  5.92839830e-02,\n",
       "            3.11314035e-02]]]], dtype=float32),\n",
       " array([ 4.8680088e-04, -1.2219360e-03,  1.7145528e-03, -3.8876373e-03,\n",
       "        -2.8228087e-04,  6.4833951e-04,  8.0093592e-03, -1.5650281e-03,\n",
       "        -6.1524494e-05,  2.7048718e-03, -5.3683191e-04, -1.1741557e-03,\n",
       "        -1.4353433e-03, -4.1776698e-04, -3.0839562e-03, -1.1646653e-03],\n",
       "       dtype=float32)]"
      ]
     },
     "execution_count": 26,
     "metadata": {},
     "output_type": "execute_result"
    }
   ],
   "source": [
    "layer1 = model.get_layer('conv2d_2')\n",
    "layer1.get_weights()"
   ]
  },
  {
   "cell_type": "code",
   "execution_count": 27,
   "metadata": {},
   "outputs": [
    {
     "name": "stdout",
     "output_type": "stream",
     "text": [
      "(5, 5, 1, 16)\n"
     ]
    }
   ],
   "source": [
    "print(layer1.get_weights()[0].shape) # 첫번째 필터 통해 16개 이미지가 만들어졌다"
   ]
  },
  {
   "cell_type": "code",
   "execution_count": 35,
   "metadata": {},
   "outputs": [],
   "source": [
    "def plot_weight(w):\n",
    "    w_min = np.min(w)\n",
    "    w_max = np.max(w)\n",
    "    num_grid = math.ceil(math.sqrt(w.shape[3]))\n",
    "    fix, aixs = plt.subplots(num_grid, num_grid)\n",
    "    for i, ax in enumerate(aixs.flat):\n",
    "        if i < w.shape[3]:\n",
    "            img = w[:,:,0,i]\n",
    "            ax.imshow(img, vmin=w_min, vmax=w_max)\n",
    "            \n",
    "        ax.set_xticks([])\n",
    "        ax.set_yticks([])\n",
    "    plt.show()"
   ]
  },
  {
   "cell_type": "code",
   "execution_count": 36,
   "metadata": {},
   "outputs": [],
   "source": [
    "def plot_output(w):\n",
    "    num_grid = math.ceil(math.sqrt(w.shape[3]))\n",
    "    fix, aixs = plt.subplots(num_grid, num_grid)\n",
    "    \n",
    "    for i, ax in enumerate(aixs.flat):\n",
    "        if i < w.shape[3]:\n",
    "            img = w[0,:,:,i]\n",
    "            ax.imshow(img, cmap='binary')\n",
    "            \n",
    "        ax.set_xticks([])\n",
    "        ax.set_yticks([])\n",
    "    plt.show()"
   ]
  },
  {
   "cell_type": "code",
   "execution_count": 37,
   "metadata": {},
   "outputs": [
    {
     "data": {
      "image/png": "[encoded data removed]",
      "text/plain": [
       "<Figure size 432x288 with 16 Axes>"
      ]
     },
     "metadata": {},
     "output_type": "display_data"
    },
    {
     "data": {
      "image/png": "[encoded data removed]",
      "text/plain": [
       "<Figure size 432x288 with 36 Axes>"
      ]
     },
     "metadata": {},
     "output_type": "display_data"
    },
    {
     "data": {
      "text/plain": [
       "(3, 3, 16, 36)"
      ]
     },
     "execution_count": 37,
     "metadata": {},
     "output_type": "execute_result"
    }
   ],
   "source": [
    "l1 = model.get_layer('conv2d_2')\n",
    "w1 = l1.get_weights()[0]\n",
    "plot_weight(w1)\n",
    "\n",
    "l2 = model.get_layer('conv2d_3')\n",
    "w2 = l2.get_weights()[0]\n",
    "plot_weight(w2)\n",
    "l2.get_weights()[0].shape"
   ]
  },
  {
   "cell_type": "code",
   "execution_count": 39,
   "metadata": {},
   "outputs": [],
   "source": [
    "# temp_model = Model(inputs=model.get_layer('conv2d_2').input, outputs=model.get_layer('conv2d_2').output)\n",
    "temp_model = Model(inputs=model.get_layer('conv2d_2').input, outputs=model.get_layer('conv2d_3').output)\n",
    "output = temp_model.predict(X_test)"
   ]
  },
  {
   "cell_type": "code",
   "execution_count": 40,
   "metadata": {},
   "outputs": [
    {
     "data": {
      "image/png": "[encoded data removed]",
      "text/plain": [
       "<Figure size 432x288 with 36 Axes>"
      ]
     },
     "metadata": {},
     "output_type": "display_data"
    }
   ],
   "source": [
    "plot_output(output)"
   ]
  },
  {
   "cell_type": "code",
   "execution_count": null,
   "metadata": {},
   "outputs": [],
   "source": []
  }
 ],
 "metadata": {
  "kernelspec": {
   "display_name": "Python 3",
   "language": "python",
   "name": "python3"
  },
  "language_info": {
   "codemirror_mode": {
    "name": "ipython",
    "version": 3
   },
   "file_extension": ".py",
   "mimetype": "text/x-python",
   "name": "python",
   "nbconvert_exporter": "python",
   "pygments_lexer": "ipython3",
   "version": "3.7.4"
  }
 },
 "nbformat": 4,
 "nbformat_minor": 2
}
