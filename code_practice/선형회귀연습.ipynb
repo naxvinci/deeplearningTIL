{
 "cells": [
  {
   "cell_type": "markdown",
   "metadata": {},
   "source": [
    "# 선형회귀 연습"
   ]
  },
  {
   "cell_type": "code",
   "execution_count": 1,
   "metadata": {},
   "outputs": [],
   "source": [
    "import numpy as np\n",
    "import pandas as pd\n",
    "import matplotlib.pyplot as plt"
   ]
  },
  {
   "cell_type": "code",
   "execution_count": 2,
   "metadata": {},
   "outputs": [],
   "source": [
    "# 공부시간 X와 성적 Y의 리스트를 만듭니다.\n",
    "data = ([2,81], [4,93], [6,91], [8,97]) # 공부시간, 실제성적\n",
    "x = [2, 4, 6, 8]\n",
    "y = [i[1] for i in data] # 81, 93, 91, 97\n"
   ]
  },
  {
   "cell_type": "code",
   "execution_count": 3,
   "metadata": {},
   "outputs": [
    {
     "data": {
      "image/png": "[encoded data removed]",
      "text/plain": [
       "<Figure size 576x360 with 1 Axes>"
      ]
     },
     "metadata": {
      "needs_background": "light"
     },
     "output_type": "display_data"
    }
   ],
   "source": [
    "# 그래프 그리기 \n",
    "plt.figure(figsize=(8,5)) # 넓이, 높이\n",
    "plt.scatter(x,y) # 산점도\n",
    "plt.show()"
   ]
  },
  {
   "cell_type": "code",
   "execution_count": 4,
   "metadata": {},
   "outputs": [],
   "source": [
    "# 리스트로 되어 있는 x 와 y 의 넘파이 배열로 바꾸어 준다\n",
    "x_data = np.array(x) # 기본적으로 파이썬은 리스트 --> 객체, np.array --> 배열, 같은 타입, 메모리, 속도 더 빠름\n",
    "y_data = np.array(y)"
   ]
  },
  {
   "cell_type": "code",
   "execution_count": 5,
   "metadata": {},
   "outputs": [],
   "source": [
    "# 기울기 a와 절편 b의 값을 초기화 하자\n",
    "a = 0\n",
    "b = 0"
   ]
  },
  {
   "cell_type": "code",
   "execution_count": 6,
   "metadata": {},
   "outputs": [],
   "source": [
    "# 학습률\n",
    "# 한번 학습할 때 얼마큼 이동 할 것인가?  # keras는 Adm(아담)을 일반적으로 쓴다\n",
    "lr = 0.03 # 촘촘하면 정밀하지만 느리고 넓으면 빠르고 train 점수는 높은데 원하는 형태가 나오지 않을 수\n"
   ]
  },
  {
   "cell_type": "code",
   "execution_count": 7,
   "metadata": {},
   "outputs": [],
   "source": [
    "epoch = 8000"
   ]
  },
  {
   "cell_type": "code",
   "execution_count": 8,
   "metadata": {},
   "outputs": [
    {
     "name": "stdout",
     "output_type": "stream",
     "text": [
      "epoch=0, 기울기=13.9200, 절편=2.7150\n",
      "epoch=100, 기울기=10.1307, 절편=32.2700\n",
      "epoch=200, 기울기=7.1088, 절편=50.3032\n",
      "epoch=300, 기울기=5.2531, 절편=61.3774\n",
      "epoch=400, 기울기=4.1135, 절편=68.1780\n",
      "epoch=500, 기울기=3.4136, 절편=72.3542\n",
      "epoch=600, 기울기=2.9839, 절편=74.9189\n",
      "epoch=700, 기울기=2.7200, 절편=76.4938\n",
      "epoch=800, 기울기=2.5579, 절편=77.4609\n",
      "epoch=900, 기울기=2.4584, 절편=78.0549\n",
      "epoch=1000, 기울기=2.3973, 절편=78.4196\n",
      "epoch=1100, 기울기=2.3597, 절편=78.6436\n",
      "epoch=1200, 기울기=2.3367, 절편=78.7811\n",
      "epoch=1300, 기울기=2.3225, 절편=78.8656\n",
      "epoch=1400, 기울기=2.3138, 절편=78.9175\n",
      "epoch=1500, 기울기=2.3085, 절편=78.9493\n",
      "epoch=1600, 기울기=2.3052, 절편=78.9689\n",
      "epoch=1700, 기울기=2.3032, 절편=78.9809\n",
      "epoch=1800, 기울기=2.3020, 절편=78.9883\n",
      "epoch=1900, 기울기=2.3012, 절편=78.9928\n",
      "epoch=2000, 기울기=2.3007, 절편=78.9956\n",
      "epoch=2100, 기울기=2.3005, 절편=78.9973\n",
      "epoch=2200, 기울기=2.3003, 절편=78.9983\n",
      "epoch=2300, 기울기=2.3002, 절편=78.9990\n",
      "epoch=2400, 기울기=2.3001, 절편=78.9994\n",
      "epoch=2500, 기울기=2.3001, 절편=78.9996\n",
      "epoch=2600, 기울기=2.3000, 절편=78.9998\n",
      "epoch=2700, 기울기=2.3000, 절편=78.9999\n",
      "epoch=2800, 기울기=2.3000, 절편=78.9999\n",
      "epoch=2900, 기울기=2.3000, 절편=78.9999\n",
      "epoch=3000, 기울기=2.3000, 절편=79.0000\n",
      "epoch=3100, 기울기=2.3000, 절편=79.0000\n",
      "epoch=3200, 기울기=2.3000, 절편=79.0000\n",
      "epoch=3300, 기울기=2.3000, 절편=79.0000\n",
      "epoch=3400, 기울기=2.3000, 절편=79.0000\n",
      "epoch=3500, 기울기=2.3000, 절편=79.0000\n",
      "epoch=3600, 기울기=2.3000, 절편=79.0000\n",
      "epoch=3700, 기울기=2.3000, 절편=79.0000\n",
      "epoch=3800, 기울기=2.3000, 절편=79.0000\n",
      "epoch=3900, 기울기=2.3000, 절편=79.0000\n",
      "epoch=4000, 기울기=2.3000, 절편=79.0000\n",
      "epoch=4100, 기울기=2.3000, 절편=79.0000\n",
      "epoch=4200, 기울기=2.3000, 절편=79.0000\n",
      "epoch=4300, 기울기=2.3000, 절편=79.0000\n",
      "epoch=4400, 기울기=2.3000, 절편=79.0000\n",
      "epoch=4500, 기울기=2.3000, 절편=79.0000\n",
      "epoch=4600, 기울기=2.3000, 절편=79.0000\n",
      "epoch=4700, 기울기=2.3000, 절편=79.0000\n",
      "epoch=4800, 기울기=2.3000, 절편=79.0000\n",
      "epoch=4900, 기울기=2.3000, 절편=79.0000\n",
      "epoch=5000, 기울기=2.3000, 절편=79.0000\n",
      "epoch=5100, 기울기=2.3000, 절편=79.0000\n",
      "epoch=5200, 기울기=2.3000, 절편=79.0000\n",
      "epoch=5300, 기울기=2.3000, 절편=79.0000\n",
      "epoch=5400, 기울기=2.3000, 절편=79.0000\n",
      "epoch=5500, 기울기=2.3000, 절편=79.0000\n",
      "epoch=5600, 기울기=2.3000, 절편=79.0000\n",
      "epoch=5700, 기울기=2.3000, 절편=79.0000\n",
      "epoch=5800, 기울기=2.3000, 절편=79.0000\n",
      "epoch=5900, 기울기=2.3000, 절편=79.0000\n",
      "epoch=6000, 기울기=2.3000, 절편=79.0000\n",
      "epoch=6100, 기울기=2.3000, 절편=79.0000\n",
      "epoch=6200, 기울기=2.3000, 절편=79.0000\n",
      "epoch=6300, 기울기=2.3000, 절편=79.0000\n",
      "epoch=6400, 기울기=2.3000, 절편=79.0000\n",
      "epoch=6500, 기울기=2.3000, 절편=79.0000\n",
      "epoch=6600, 기울기=2.3000, 절편=79.0000\n",
      "epoch=6700, 기울기=2.3000, 절편=79.0000\n",
      "epoch=6800, 기울기=2.3000, 절편=79.0000\n",
      "epoch=6900, 기울기=2.3000, 절편=79.0000\n",
      "epoch=7000, 기울기=2.3000, 절편=79.0000\n",
      "epoch=7100, 기울기=2.3000, 절편=79.0000\n",
      "epoch=7200, 기울기=2.3000, 절편=79.0000\n",
      "epoch=7300, 기울기=2.3000, 절편=79.0000\n",
      "epoch=7400, 기울기=2.3000, 절편=79.0000\n",
      "epoch=7500, 기울기=2.3000, 절편=79.0000\n",
      "epoch=7600, 기울기=2.3000, 절편=79.0000\n",
      "epoch=7700, 기울기=2.3000, 절편=79.0000\n",
      "epoch=7800, 기울기=2.3000, 절편=79.0000\n",
      "epoch=7900, 기울기=2.3000, 절편=79.0000\n"
     ]
    }
   ],
   "source": [
    "# 경사 하강법 시작\n",
    "for i in range(epoch):\n",
    "    y_hat = a * x_data + b # y를 구하는 식을 세웁니다. , y_hat은 예측값\n",
    "    error = y_data - y_hat # 오차 error = 실제값 - 예측값\n",
    "    a_diff = -(1/len(x_data)) * sum(x_data * (error)) # 오차함수를 a로 미분한 값, a는 가중치, 기울기\n",
    "    \n",
    "    b_diff = -(1/len(x_data)) * sum(error) # 오차 함수를 b로 미분한 값\n",
    "    a = a - (lr * a_diff) # 학습률을 곱해 기존의 a값을 업데이트 함\n",
    "    b = b - (lr * b_diff) # 학습률을 곱해 기존의 b값을 업데이트 함\n",
    "    if i % 100 == 0 : # 100번 반복 할 때 마다 현재의 a값, b값을 출력합니다.\n",
    "        print(\"epoch=%.f, 기울기=%.04f, 절편=%.04f\" % (i, a, b))\n",
    "    "
   ]
  },
  {
   "cell_type": "code",
   "execution_count": null,
   "metadata": {},
   "outputs": [],
   "source": []
  },
  {
   "cell_type": "code",
   "execution_count": null,
   "metadata": {},
   "outputs": [],
   "source": []
  }
 ],
 "metadata": {
  "kernelspec": {
   "display_name": "Python 3",
   "language": "python",
   "name": "python3"
  },
  "language_info": {
   "codemirror_mode": {
    "name": "ipython",
    "version": 3
   },
   "file_extension": ".py",
   "mimetype": "text/x-python",
   "name": "python",
   "nbconvert_exporter": "python",
   "pygments_lexer": "ipython3",
   "version": "3.7.6"
  }
 },
 "nbformat": 4,
 "nbformat_minor": 4
}
