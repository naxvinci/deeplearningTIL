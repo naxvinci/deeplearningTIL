{
 "cells": [
  {
   "cell_type": "code",
   "execution_count": 1,
   "metadata": {},
   "outputs": [],
   "source": [
    "import tensorflow as tf"
   ]
  },
  {
   "cell_type": "code",
   "execution_count": 2,
   "metadata": {},
   "outputs": [],
   "source": [
    "a = tf.placeholder(tf.float32)\n",
    "b = tf.placeholder(tf.float32) # 공간확보\n",
    "c = a + b"
   ]
  },
  {
   "cell_type": "code",
   "execution_count": 3,
   "metadata": {},
   "outputs": [],
   "source": [
    "sess = tf.Session() # 세션실행"
   ]
  },
  {
   "cell_type": "code",
   "execution_count": 4,
   "metadata": {},
   "outputs": [
    {
     "name": "stdout",
     "output_type": "stream",
     "text": [
      "4.0\n",
      "[4. 6.]\n",
      "400.0\n",
      "[500. 700.]\n"
     ]
    }
   ],
   "source": [
    "print(sess.run(c, feed_dict={a:1.0, b:3.0}))\n",
    "print(sess.run(c, feed_dict={a: [1.0, 2.0], b: [3.0, 4.0]})) # placeholder에 들어갈 값 설정\n",
    "\n",
    "d = 100 * c # d 추가\n",
    "\n",
    "print(sess.run(d, feed_dict={a:1.0, b:3.0}))\n",
    "print(sess.run(d, feed_dict={a: [1.0, 2.0], b: [4.0, 5.0]}))"
   ]
  },
  {
   "cell_type": "code",
   "execution_count": 5,
   "metadata": {},
   "outputs": [],
   "source": [
    "sess.close()"
   ]
  },
  {
   "cell_type": "code",
   "execution_count": 6,
   "metadata": {},
   "outputs": [],
   "source": [
    "W1 = tf.Variable(tf.random_normal([1])) # 분포도를 1로 해서 정규화 시킨단 의미\n",
    "b1 = tf.Variable(tf.random_normal([1]))"
   ]
  },
  {
   "cell_type": "code",
   "execution_count": 7,
   "metadata": {},
   "outputs": [],
   "source": [
    "W2 = tf.Variable(tf.random_normal([1, 2])) # 가중치가 하나 더 있단 것\n",
    "b2 = tf.Variable(tf.random_normal([1, 2]))"
   ]
  },
  {
   "cell_type": "code",
   "execution_count": 8,
   "metadata": {},
   "outputs": [],
   "source": [
    "sess = tf.Session()"
   ]
  },
  {
   "cell_type": "code",
   "execution_count": 9,
   "metadata": {},
   "outputs": [],
   "source": [
    "sess.run(tf.global_variables_initializer()) # 변수 초기화"
   ]
  },
  {
   "cell_type": "code",
   "execution_count": 10,
   "metadata": {},
   "outputs": [
    {
     "name": "stdout",
     "output_type": "stream",
     "text": [
      "step= 0 , W1= [0.09371132] , b1= [-1.8052944]\n",
      "step= 0 , W2= [[1.4265828  0.88443196]] , b2= [[-0.7110174  -0.48047617]]\n",
      "step= 1 , W1= [-0.9062887] , b1= [-2.8052945]\n",
      "step= 1 , W2= [[ 0.4265828  -0.11556804]] , b2= [[-1.7110174 -1.4804761]]\n",
      "step= 2 , W1= [-2.9062886] , b1= [-4.8052945]\n",
      "step= 2 , W2= [[-1.5734172 -2.1155682]] , b2= [[-3.7110174 -3.4804761]]\n"
     ]
    }
   ],
   "source": [
    "for step in range(3): # tensorflow에서는 이렇게 루프 돌림..\n",
    "    W1 = W1 - step\n",
    "    b1 = b1 - step\n",
    "    \n",
    "    W2 = W2 - step\n",
    "    b2 = b2 - step\n",
    "    \n",
    "    print(\"step=\", step, \", W1=\", sess.run(W1), \", b1=\", sess.run(b1))\n",
    "    print(\"step=\", step, \", W2=\", sess.run(W2), \", b2=\", sess.run(b2))"
   ]
  },
  {
   "cell_type": "code",
   "execution_count": null,
   "metadata": {},
   "outputs": [],
   "source": []
  },
  {
   "cell_type": "code",
   "execution_count": 11,
   "metadata": {},
   "outputs": [],
   "source": [
    "import tensorflow as tf\n",
    "x = tf.Variable(3, name=\"x\")\n",
    "y = tf.Variable(4, name=\"y\")\n",
    "f = x*x*y + y + 2"
   ]
  },
  {
   "cell_type": "code",
   "execution_count": 12,
   "metadata": {},
   "outputs": [
    {
     "name": "stdout",
     "output_type": "stream",
     "text": [
      "42\n"
     ]
    }
   ],
   "source": [
    "sess = tf.Session()\n",
    "# sess.run(x.initializer)\n",
    "# sess.run(y.initializer)\n",
    "sess.run(tf.global_variables_initializer())\n",
    "result = sess.run(f)\n",
    "print(result)"
   ]
  },
  {
   "cell_type": "code",
   "execution_count": 13,
   "metadata": {},
   "outputs": [],
   "source": [
    " sess.close()"
   ]
  },
  {
   "cell_type": "code",
   "execution_count": 14,
   "metadata": {},
   "outputs": [],
   "source": [
    "input_data = [1,2,3,4,5]\n",
    "x = tf.placeholder(dtype=tf.float32)\n",
    "W = tf.Variable([2], dtype=tf.float32)\n",
    "y = W * x"
   ]
  },
  {
   "cell_type": "code",
   "execution_count": 15,
   "metadata": {},
   "outputs": [
    {
     "name": "stdout",
     "output_type": "stream",
     "text": [
      "[ 2.  4.  6.  8. 10.]\n"
     ]
    }
   ],
   "source": [
    "sess = tf.Session()\n",
    "sess.run(tf.global_variables_initializer())\n",
    "result = sess.run(y, feed_dict={x: input_data})\n",
    "print(result)"
   ]
  },
  {
   "cell_type": "code",
   "execution_count": 16,
   "metadata": {},
   "outputs": [],
   "source": [
    "sess.close()"
   ]
  },
  {
   "cell_type": "code",
   "execution_count": null,
   "metadata": {},
   "outputs": [],
   "source": []
  }
 ],
 "metadata": {
  "kernelspec": {
   "display_name": "Python 3",
   "language": "python",
   "name": "python3"
  },
  "language_info": {
   "codemirror_mode": {
    "name": "ipython",
    "version": 3
   },
   "file_extension": ".py",
   "mimetype": "text/x-python",
   "name": "python",
   "nbconvert_exporter": "python",
   "pygments_lexer": "ipython3",
   "version": "3.7.4"
  }
 },
 "nbformat": 4,
 "nbformat_minor": 4
}
