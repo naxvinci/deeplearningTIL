{
 "cells": [
  {
   "cell_type": "code",
   "execution_count": null,
   "metadata": {},
   "outputs": [],
   "source": [
    "#pip install plotly"
   ]
  },
  {
   "cell_type": "code",
   "execution_count": 3,
   "metadata": {},
   "outputs": [],
   "source": [
    "%matplotlib inline\n",
    "import matplotlib.pyplot as plt\n",
    "import pandas as pd\n",
    "import numpy as np\n",
    "import plotly as py\n",
    "import plotly.graph_objs as go\n",
    "import requests\n",
    "from tensorflow.keras.layers import Input, Dense, LSTM\n",
    "from tensorflow.keras.models import Model\n",
    "from tensorflow.keras.optimizers import Adam\n",
    "from keras.callbacks import *\n",
    "from datetime import datetime\n",
    "from sklearn.preprocessing import MinMaxScaler\n",
    "plt.style.use('bmh')"
   ]
  },
  {
   "cell_type": "code",
   "execution_count": null,
   "metadata": {},
   "outputs": [],
   "source": [
    "''' \n",
    "https://poloniex.com/support/api/ \n",
    "https://poloniex.com/public?command=returnChartData&currencyPair=USDT_BTC&start=1414602755&end=9999999999&period=86400 \n",
    "''' "
   ]
  },
  {
   "cell_type": "code",
   "execution_count": null,
   "metadata": {},
   "outputs": [],
   "source": [
    "ret = requests.get('https://poloniex.com/public?command=returnChartData&currencyPair=USDT_BTC&start=1414602755&end=9999999999&period=86400')"
   ]
  },
  {
   "cell_type": "code",
   "execution_count": null,
   "metadata": {},
   "outputs": [],
   "source": [
    "ret"
   ]
  },
  {
   "cell_type": "code",
   "execution_count": null,
   "metadata": {},
   "outputs": [],
   "source": [
    "js = ret.json()\n",
    "js"
   ]
  },
  {
   "cell_type": "code",
   "execution_count": null,
   "metadata": {},
   "outputs": [],
   "source": [
    "df = pd.DataFrame(js)\n",
    "df"
   ]
  },
  {
   "cell_type": "code",
   "execution_count": null,
   "metadata": {},
   "outputs": [],
   "source": [
    "df.info()"
   ]
  },
  {
   "cell_type": "code",
   "execution_count": null,
   "metadata": {},
   "outputs": [],
   "source": [
    "df.describe()"
   ]
  },
  {
   "cell_type": "code",
   "execution_count": null,
   "metadata": {},
   "outputs": [],
   "source": [
    "price = df['close'].values.tolist()\n",
    "price"
   ]
  },
  {
   "cell_type": "code",
   "execution_count": null,
   "metadata": {},
   "outputs": [],
   "source": [
    "from sklearn.preprocessing import MinMaxScaler\n",
    "scaler = MinMaxScaler()\n",
    "df[['close']] = scaler.fit_transform(df[['close']])  # 0~1로 정규화\n",
    "df.describe"
   ]
  },
  {
   "cell_type": "code",
   "execution_count": null,
   "metadata": {},
   "outputs": [],
   "source": [
    "price = df['close'].values.tolist()\n",
    "price"
   ]
  },
  {
   "cell_type": "code",
   "execution_count": null,
   "metadata": {},
   "outputs": [],
   "source": [
    "window_size = 5 # 5일치\n",
    "X = []\n",
    "Y = []\n",
    "# 전체 data에서 이동하면 제일 마지막에는 이동할 공간이 없다.\n",
    "# 그래서 제일 끝까지 for를 돌리는 게 아니라 범위의 끝이 data 끝에 닿으면 끝나게 한다.\n",
    "for i in range(len(price) - window_size): \n",
    "    # i = 0\n",
    "    # j = 0~4 (5개)\n",
    "    # X.append([price[i + j] for j in range(window_size)]) 아래랑 같음 \n",
    "    X.append(price[ i : i + window_size ])  # X[0,1,2,3,4]\n",
    "    Y.append(price[ i + window_size ])  # Y[5]"
   ]
  },
  {
   "cell_type": "code",
   "execution_count": null,
   "metadata": {},
   "outputs": [],
   "source": [
    "'''\n",
    "RNN layer\n",
    "    - Many to One\n",
    "    - Many to Many\n",
    "    - One to Many\n",
    "    - One to One\n",
    "\n",
    "Y(target) -> (sample, 1)\n",
    "5일 -> 당일(or 내일)\n",
    "'''\n",
    "\n",
    "window_size = 5\n",
    "X = []\n",
    "Y = []\n",
    "\n",
    "for i in range(len(price)-window_size):\n",
    "    # i = 0\n",
    "    # j = 0, 1, 2, 3, 4\n",
    "#     last_x = np.roll(last_x, -1)\n",
    "#     last_x[-1] = p\n",
    "    X.append([price[i + j] in range(window_size)]) # X[0, 1, 2, 3, 4]\n",
    "    Y.append(price[window_size + i]) # Y[5]"
   ]
  },
  {
   "cell_type": "code",
   "execution_count": null,
   "metadata": {},
   "outputs": [],
   "source": [
    "X = np.asarray(X)\n",
    "Y = np.asarray(Y)\n",
    "print(X)\n",
    "print(Y)"
   ]
  },
  {
   "cell_type": "code",
   "execution_count": null,
   "metadata": {},
   "outputs": [],
   "source": [
    "# train\n",
    "# validation 맞는가 틀리는가 검증\n",
    "# test 훈련과 검증 때 쓰이지 않은 데이터로 최종 확인"
   ]
  },
  {
   "cell_type": "code",
   "execution_count": null,
   "metadata": {},
   "outputs": [],
   "source": [
    "train_test_split = 1500\n",
    "X_train = X[:train_test_split, :] \n",
    "Y_train = Y[:train_test_split] \n",
    "X_test = X[train_test_split:, :] \n",
    "Y_test = Y[train_test_split:] "
   ]
  },
  {
   "cell_type": "code",
   "execution_count": null,
   "metadata": {},
   "outputs": [],
   "source": [
    "Y_train.shape"
   ]
  },
  {
   "cell_type": "code",
   "execution_count": null,
   "metadata": {},
   "outputs": [],
   "source": [
    "X_train.shape # (1500, 5) --> 3차로 바꾸기 위한 차수 변경 (reshape)"
   ]
  },
  {
   "cell_type": "code",
   "execution_count": null,
   "metadata": {},
   "outputs": [],
   "source": [
    "# reshape : 이전과 data 개수가 같아야 함\n",
    "# expand_dims : data 개수가 달라도 됨\n",
    "\n",
    "X_train = np.reshape(X_train, X_train.shape[0], window_size, 1) # reshape 은 전체 개수가 같아야 한다... expand dim 은 개수 상관 없음\n",
    "X_test = np.reshape(X_test, X_test.shape[0], window_size, 1)"
   ]
  },
  {
   "cell_type": "code",
   "execution_count": null,
   "metadata": {},
   "outputs": [],
   "source": [
    "print(X_train.shape)\n",
    "print(Y_train.shape)\n",
    "print(X_test.shape)\n",
    "print(Y_test.shape)\n",
    "print(X_train[0].shape)"
   ]
  },
  {
   "cell_type": "code",
   "execution_count": null,
   "metadata": {},
   "outputs": [],
   "source": [
    "# create model\n",
    "# LSTM > Dense : regression이라서 classification 필요 없음\n",
    "\n",
    "# LSTM이 1개 더 있을거면 위에거엔 return_sequence=True / 아래는 False\n",
    "i = Input(shape=(5,1))\n",
    "x = LSTM(128)(i) # feature가 5개여도 이걸 여러개 쓰는게 아니라 한번 돌때 5개의 feature를 쓴다는 것임\n",
    "x = Dense(1)(x) # 최종적으로 만들어 져야 하는 dense 레이어의 아웃풋 값이 한개라서 1을 넣음\n",
    "model = Model(i, x)\n",
    "model.compile(loss='mse', optimizer=Adam(lr=0.01))\n",
    "model.summary()"
   ]
  },
  {
   "cell_type": "code",
   "execution_count": null,
   "metadata": {},
   "outputs": [],
   "source": [
    "model.fit(X_train, Y_train, epochs=50,\n",
    "         batch_size=1 # 기본이 32\n",
    "         )"
   ]
  },
  {
   "cell_type": "code",
   "execution_count": null,
   "metadata": {},
   "outputs": [],
   "source": [
    "train_predict = model.predict(X_train)\n",
    "test_predict = model.predict(X_test)"
   ]
  },
  {
   "cell_type": "code",
   "execution_count": null,
   "metadata": {},
   "outputs": [],
   "source": [
    "plt.figure(figsize=(10,10))\n",
    "plt.plot(price)"
   ]
  },
  {
   "cell_type": "code",
   "execution_count": null,
   "metadata": {},
   "outputs": [],
   "source": [
    "plt.figure(figsize=(15,10))\n",
    "plt.plot(price)\n",
    "\n",
    "split_pt = train_test_split + window_size #1500+50\n",
    "\n",
    "#train graph\n",
    "plt.plot(np.arange(window_size, split_pt,1), train_predict, color='g')\n",
    "\n",
    "#prediction graph\n",
    "plt.plot(np.arange(split_pt, split_pt + len(test_predict), 1), test_predict, color='r')"
   ]
  },
  {
   "cell_type": "code",
   "execution_count": null,
   "metadata": {},
   "outputs": [],
   "source": [
    "'''\n",
    "plt.figure(figsize=(15,10))\n",
    "plt.plot(price)\n",
    "\n",
    "split_pt = train_test_split + window_size #1500+50\n",
    "\n",
    "#train graph\n",
    "plt.plot(np.arange(window_size, split_pt,1), train_predict, color='g')\n",
    "\n",
    "#prediction graph\n",
    "plt.plot(np.arange(split_pt, split_pt + len(test_predict), 1), test_predict, color='r')\n",
    "'''\n",
    "\n",
    "trace1 = go.Scatter(x = np.arange(window_size, split_pt,1),\n",
    "                   y = train_predict.reshape(1500),\n",
    "                   mode='lines', name='train')\n",
    "\n",
    "trace2 = go.Scatter(x = np.arange(split_pt, split_pt + len(test_predict), 1),\n",
    "                   y = test_predict.reshape(391),\n",
    "                   mode='lines', name='test')\n",
    "\n",
    "trace_original = go.Scatter(x = np.arange(1, len(price), 1),\n",
    "                   y = price,\n",
    "                   mode='lines', name='original')\n",
    "\n",
    "data = [trace1, trace2, trace_original]\n",
    "py.offline.plot(data)"
   ]
  },
  {
   "cell_type": "markdown",
   "metadata": {},
   "source": [
    "## prediction"
   ]
  },
  {
   "cell_type": "code",
   "execution_count": 68,
   "metadata": {},
   "outputs": [
    {
     "data": {
      "text/plain": [
       "array([0.00944105], dtype=float32)"
      ]
     },
     "execution_count": 68,
     "metadata": {},
     "output_type": "execute_result"
    }
   ],
   "source": [
    "train_predict[390]"
   ]
  },
  {
   "cell_type": "code",
   "execution_count": 70,
   "metadata": {},
   "outputs": [
    {
     "name": "stdout",
     "output_type": "stream",
     "text": [
      "X_test[390] :  [[0.38722078]\n",
      " [0.38458676]\n",
      " [0.38646754]\n",
      " [0.39465429]\n",
      " [0.39878227]]\n",
      "test_predict[390] :  [0.41075283]\n"
     ]
    }
   ],
   "source": [
    "print(\"X_test[390] : \", X_test[390])\n",
    "print(\"test_predict[390] : \", test_predict[390])"
   ]
  },
  {
   "cell_type": "code",
   "execution_count": 75,
   "metadata": {},
   "outputs": [
    {
     "data": {
      "text/plain": [
       "array([[ 5085.3325],\n",
       "       [ 4946.545 ],\n",
       "       [ 5065.455 ],\n",
       "       [ 5165.7495],\n",
       "       [ 5283.973 ],\n",
       "       [ 5354.6177],\n",
       "       [ 5261.7114],\n",
       "       [ 5410.6396],\n",
       "       [ 5146.701 ],\n",
       "       [ 5136.541 ],\n",
       "       [ 5172.4375],\n",
       "       [ 5248.71  ],\n",
       "       [ 5145.9385],\n",
       "       [ 5276.7207],\n",
       "       [ 5329.3315],\n",
       "       [ 5373.618 ],\n",
       "       [ 5372.941 ],\n",
       "       [ 5402.722 ],\n",
       "       [ 5375.589 ],\n",
       "       [ 5481.2217],\n",
       "       [ 5627.1953],\n",
       "       [ 5535.223 ],\n",
       "       [ 5329.1606],\n",
       "       [ 5419.35  ],\n",
       "       [ 5436.529 ],\n",
       "       [ 5435.4116],\n",
       "       [ 5358.1846],\n",
       "       [ 5435.147 ],\n",
       "       [ 5526.3804],\n",
       "       [ 5629.1206],\n",
       "       [ 5906.021 ],\n",
       "       [ 5988.8354],\n",
       "       [ 5896.329 ],\n",
       "       [ 5860.948 ],\n",
       "       [ 5986.5195],\n",
       "       [ 6140.8926],\n",
       "       [ 6332.773 ],\n",
       "       [ 6544.18  ],\n",
       "       [ 7422.8213],\n",
       "       [ 7176.364 ],\n",
       "       [ 7989.0034],\n",
       "       [ 8249.896 ],\n",
       "       [ 8376.705 ],\n",
       "       [ 8050.355 ],\n",
       "       [ 7512.4277],\n",
       "       [ 7454.2812],\n",
       "       [ 8469.813 ],\n",
       "       [ 8193.776 ],\n",
       "       [ 8068.0493],\n",
       "       [ 7815.4663],\n",
       "       [ 8076.033 ],\n",
       "       [ 8233.013 ],\n",
       "       [ 8269.775 ],\n",
       "       [ 8888.739 ],\n",
       "       [ 9020.872 ],\n",
       "       [ 8942.109 ],\n",
       "       [ 8873.619 ],\n",
       "       [ 8491.627 ],\n",
       "       [ 8803.103 ],\n",
       "       [ 8823.058 ],\n",
       "       [ 8984.776 ],\n",
       "       [ 8320.201 ],\n",
       "       [ 7861.704 ],\n",
       "       [ 8008.074 ],\n",
       "       [ 8055.278 ],\n",
       "       [ 8240.928 ],\n",
       "       [ 8119.076 ],\n",
       "       [ 7829.739 ],\n",
       "       [ 8217.62  ],\n",
       "       [ 8138.8027],\n",
       "       [ 8357.58  ],\n",
       "       [ 8451.582 ],\n",
       "       [ 8940.841 ],\n",
       "       [ 9074.024 ],\n",
       "       [ 9214.626 ],\n",
       "       [ 9586.289 ],\n",
       "       [ 9322.166 ],\n",
       "       [ 9501.74  ],\n",
       "       [ 9824.305 ],\n",
       "       [10527.85  ],\n",
       "       [11075.943 ],\n",
       "       [11189.682 ],\n",
       "       [11332.038 ],\n",
       "       [12195.675 ],\n",
       "       [13572.925 ],\n",
       "       [11379.512 ],\n",
       "       [12762.587 ],\n",
       "       [12243.57  ],\n",
       "       [11056.113 ],\n",
       "       [10900.376 ],\n",
       "       [11230.952 ],\n",
       "       [12412.813 ],\n",
       "       [11392.548 ],\n",
       "       [11200.182 ],\n",
       "       [11621.763 ],\n",
       "       [11782.54  ],\n",
       "       [12670.512 ],\n",
       "       [12904.176 ],\n",
       "       [12350.463 ],\n",
       "       [11551.028 ],\n",
       "       [12130.001 ],\n",
       "       [11719.841 ],\n",
       "       [10393.083 ],\n",
       "       [11187.697 ],\n",
       "       [ 9661.13  ],\n",
       "       [ 9935.051 ],\n",
       "       [11073.513 ],\n",
       "       [10844.053 ],\n",
       "       [11021.832 ],\n",
       "       [10856.451 ],\n",
       "       [10615.949 ],\n",
       "       [10123.583 ],\n",
       "       [10049.739 ],\n",
       "       [10209.855 ],\n",
       "       [10130.816 ],\n",
       "       [ 9720.202 ],\n",
       "       [ 9805.663 ],\n",
       "       [ 9813.882 ],\n",
       "       [ 9871.926 ],\n",
       "       [10407.013 ],\n",
       "       [10703.484 ],\n",
       "       [10817.049 ],\n",
       "       [11122.917 ],\n",
       "       [11247.843 ],\n",
       "       [12212.761 ],\n",
       "       [11762.989 ],\n",
       "       [12281.947 ],\n",
       "       [12308.61  ],\n",
       "       [12173.207 ],\n",
       "       [11573.084 ],\n",
       "       [11885.181 ],\n",
       "       [11724.645 ],\n",
       "       [11158.581 ],\n",
       "       [10282.923 ],\n",
       "       [10646.255 ],\n",
       "       [10715.925 ],\n",
       "       [10513.127 ],\n",
       "       [10612.364 ],\n",
       "       [11288.862 ],\n",
       "       [11044.63  ],\n",
       "       [10348.218 ],\n",
       "       [10379.414 ],\n",
       "       [10744.734 ],\n",
       "       [10418.528 ],\n",
       "       [10416.816 ],\n",
       "       [10700.745 ],\n",
       "       [10474.451 ],\n",
       "       [ 9979.377 ],\n",
       "       [ 9743.173 ],\n",
       "       [ 9891.391 ],\n",
       "       [ 9902.887 ],\n",
       "       [10022.2705],\n",
       "       [10695.465 ],\n",
       "       [10893.005 ],\n",
       "       [10829.169 ],\n",
       "       [10845.526 ],\n",
       "       [10575.654 ],\n",
       "       [10777.721 ],\n",
       "       [10707.617 ],\n",
       "       [10601.79  ],\n",
       "       [10394.252 ],\n",
       "       [10461.91  ],\n",
       "       [10729.012 ],\n",
       "       [10648.498 ],\n",
       "       [10622.975 ],\n",
       "       [10588.949 ],\n",
       "       [10556.094 ],\n",
       "       [10482.108 ],\n",
       "       [10461.942 ],\n",
       "       [10553.696 ],\n",
       "       [10458.623 ],\n",
       "       [10259.291 ],\n",
       "       [10324.27  ],\n",
       "       [ 9971.71  ],\n",
       "       [ 8683.792 ],\n",
       "       [ 8651.657 ],\n",
       "       [ 8327.693 ],\n",
       "       [ 8436.55  ],\n",
       "       [ 8473.579 ],\n",
       "       [ 8280.334 ],\n",
       "       [ 8516.563 ],\n",
       "       [ 8555.517 ],\n",
       "       [ 8594.313 ],\n",
       "       [ 8436.746 ],\n",
       "       [ 8356.678 ],\n",
       "       [ 8359.659 ],\n",
       "       [ 8084.116 ],\n",
       "       [ 8431.02  ],\n",
       "       [ 8428.891 ],\n",
       "       [ 8814.064 ],\n",
       "       [ 8806.253 ],\n",
       "       [ 8436.065 ],\n",
       "       [ 8519.955 ],\n",
       "       [ 8540.568 ],\n",
       "       [ 8595.264 ],\n",
       "       [ 8390.358 ],\n",
       "       [ 8212.353 ],\n",
       "       [ 8309.0625],\n",
       "       [ 8189.685 ],\n",
       "       [ 8175.616 ],\n",
       "       [ 8473.721 ],\n",
       "       [ 8446.65  ],\n",
       "       [ 8227.076 ],\n",
       "       [ 7640.576 ],\n",
       "       [ 7606.9897],\n",
       "       [ 9003.163 ],\n",
       "       [ 9595.015 ],\n",
       "       [ 9767.265 ],\n",
       "       [ 9395.512 ],\n",
       "       [ 9656.282 ],\n",
       "       [ 9423.08  ],\n",
       "       [ 9401.67  ],\n",
       "       [ 9505.266 ],\n",
       "       [ 9576.785 ],\n",
       "       [ 9459.3   ],\n",
       "       [ 9670.199 ],\n",
       "       [ 9585.019 ],\n",
       "       [ 9608.886 ],\n",
       "       [ 9475.432 ],\n",
       "       [ 9005.847 ],\n",
       "       [ 9059.92  ],\n",
       "       [ 9341.224 ],\n",
       "       [ 8992.234 ],\n",
       "       [ 9067.564 ],\n",
       "       [ 9041.091 ],\n",
       "       [ 8902.279 ],\n",
       "       [ 8703.894 ],\n",
       "       [ 8740.72  ],\n",
       "       [ 8764.465 ],\n",
       "       [ 8417.011 ],\n",
       "       [ 8347.742 ],\n",
       "       [ 8343.023 ],\n",
       "       [ 7841.568 ],\n",
       "       [ 7441.1323],\n",
       "       [ 7526.6616],\n",
       "       [ 7106.344 ],\n",
       "       [ 7296.8257],\n",
       "       [ 7385.6934],\n",
       "       [ 7733.477 ],\n",
       "       [ 7624.1025],\n",
       "       [ 7943.3926],\n",
       "       [ 7750.0825],\n",
       "       [ 7570.072 ],\n",
       "       [ 7497.773 ],\n",
       "       [ 7504.459 ],\n",
       "       [ 7392.2783],\n",
       "       [ 7599.0054],\n",
       "       [ 7757.1553],\n",
       "       [ 7692.536 ],\n",
       "       [ 7701.3096],\n",
       "       [ 7538.467 ],\n",
       "       [ 7412.127 ],\n",
       "       [ 7411.5938],\n",
       "       [ 7406.9946],\n",
       "       [ 7460.3667],\n",
       "       [ 7254.576 ],\n",
       "       [ 7301.4873],\n",
       "       [ 7088.034 ],\n",
       "       [ 6782.4453],\n",
       "       [ 7488.9194],\n",
       "       [ 7398.025 ],\n",
       "       [ 7351.251 ],\n",
       "       [ 7311.6494],\n",
       "       [ 7714.0757],\n",
       "       [ 7532.5093],\n",
       "       [ 7432.4155],\n",
       "       [ 7395.2646],\n",
       "       [ 7408.742 ],\n",
       "       [ 7458.878 ],\n",
       "       [ 7519.8125],\n",
       "       [ 7594.139 ],\n",
       "       [ 7440.0205],\n",
       "       [ 7376.153 ],\n",
       "       [ 7402.2676],\n",
       "       [ 7157.493 ],\n",
       "       [ 7547.742 ],\n",
       "       [ 7586.0776],\n",
       "       [ 7549.294 ],\n",
       "       [ 7974.081 ],\n",
       "       [ 8415.29  ],\n",
       "       [ 8266.947 ],\n",
       "       [ 7993.04  ],\n",
       "       [ 8427.909 ],\n",
       "       [ 8274.135 ],\n",
       "       [ 8404.411 ],\n",
       "       [ 8339.762 ],\n",
       "       [ 9103.349 ],\n",
       "       [ 9101.924 ],\n",
       "       [ 8935.282 ],\n",
       "       [ 9157.182 ],\n",
       "       [ 9187.937 ],\n",
       "       [ 8939.048 ],\n",
       "       [ 8878.691 ],\n",
       "       [ 9005.399 ],\n",
       "       [ 8946.64  ],\n",
       "       [ 8630.571 ],\n",
       "       [ 8678.106 ],\n",
       "       [ 8597.796 ],\n",
       "       [ 8882.594 ],\n",
       "       [ 9200.138 ],\n",
       "       [ 9684.073 ],\n",
       "       [ 9556.467 ],\n",
       "       [ 9768.617 ],\n",
       "       [ 9609.417 ],\n",
       "       [ 9650.369 ],\n",
       "       [ 9608.854 ],\n",
       "       [ 9568.808 ],\n",
       "       [ 9458.976 ],\n",
       "       [ 9920.322 ],\n",
       "       [10083.852 ],\n",
       "       [10089.588 ],\n",
       "       [10168.714 ],\n",
       "       [10466.535 ],\n",
       "       [10113.528 ],\n",
       "       [10527.6   ],\n",
       "       [10653.115 ],\n",
       "       [10513.184 ],\n",
       "       [10633.46  ],\n",
       "       [10169.814 ],\n",
       "       [10200.672 ],\n",
       "       [ 9983.045 ],\n",
       "       [10499.14  ],\n",
       "       [ 9860.493 ],\n",
       "       [ 9850.003 ],\n",
       "       [ 9986.176 ],\n",
       "       [ 9953.822 ],\n",
       "       [10243.769 ],\n",
       "       [ 9926.986 ],\n",
       "       [ 9550.376 ],\n",
       "       [ 9016.055 ],\n",
       "       [ 9089.97  ],\n",
       "       [ 8983.49  ],\n",
       "       [ 8778.306 ],\n",
       "       [ 8780.175 ],\n",
       "       [ 9203.7705],\n",
       "       [ 9015.422 ],\n",
       "       [ 8981.074 ],\n",
       "       [ 9336.201 ],\n",
       "       [ 9417.367 ],\n",
       "       [ 9122.2295],\n",
       "       [ 8204.028 ],\n",
       "       [ 8131.5254],\n",
       "       [ 8168.603 ],\n",
       "       [ 8195.689 ],\n",
       "       [ 4917.068 ],\n",
       "       [ 5460.74  ],\n",
       "       [ 5560.307 ],\n",
       "       [ 5559.776 ],\n",
       "       [ 5137.7456],\n",
       "       [ 5417.509 ],\n",
       "       [ 5544.8027],\n",
       "       [ 6322.282 ],\n",
       "       [ 6387.5815],\n",
       "       [ 6290.22  ],\n",
       "       [ 5929.692 ],\n",
       "       [ 6620.645 ],\n",
       "       [ 6987.5894],\n",
       "       [ 6842.219 ],\n",
       "       [ 6868.4736],\n",
       "       [ 6518.8525],\n",
       "       [ 6373.603 ],\n",
       "       [ 6037.446 ],\n",
       "       [ 6564.402 ],\n",
       "       [ 6631.0938],\n",
       "       [ 6804.64  ],\n",
       "       [ 6965.961 ],\n",
       "       [ 6906.143 ],\n",
       "       [ 7022.803 ],\n",
       "       [ 6952.195 ],\n",
       "       [ 7538.733 ],\n",
       "       [ 7419.1484],\n",
       "       [ 7530.164 ],\n",
       "       [ 7477.142 ],\n",
       "       [ 7027.459 ],\n",
       "       [ 7040.094 ],\n",
       "       [ 7118.6543],\n",
       "       [ 7035.5547],\n",
       "       [ 7047.0757],\n",
       "       [ 6795.4795],\n",
       "       [ 7294.024 ],\n",
       "       [ 7252.0493],\n",
       "       [ 7430.328 ],\n",
       "       [ 7308.884 ],\n",
       "       [ 6989.164 ],\n",
       "       [ 7010.9854],\n",
       "       [ 7348.453 ],\n",
       "       [ 7800.0923],\n",
       "       [ 7708.9233],\n",
       "       [ 7711.2544],\n",
       "       [ 7904.9995],\n",
       "       [ 8001.212 ]], dtype=float32)"
      ]
     },
     "execution_count": 75,
     "metadata": {},
     "output_type": "execute_result"
    }
   ],
   "source": [
    "scaler.inverse_transform(test_predict)  # 정규화 한 것을 원래 값으로 되돌림 "
   ]
  },
  {
   "cell_type": "code",
   "execution_count": 74,
   "metadata": {
    "scrolled": true
   },
   "outputs": [
    {
     "data": {
      "text/plain": [
       "'2.1.0'"
      ]
     },
     "execution_count": 74,
     "metadata": {},
     "output_type": "execute_result"
    }
   ],
   "source": [
    "import tensorflow as tf\n",
    "tf.__version__"
   ]
  },
  {
   "cell_type": "code",
   "execution_count": null,
   "metadata": {},
   "outputs": [],
   "source": []
  },
  {
   "cell_type": "code",
   "execution_count": null,
   "metadata": {},
   "outputs": [],
   "source": []
  }
 ],
 "metadata": {
  "kernelspec": {
   "display_name": "Python 3",
   "language": "python",
   "name": "python3"
  },
  "language_info": {
   "codemirror_mode": {
    "name": "ipython",
    "version": 3
   },
   "file_extension": ".py",
   "mimetype": "text/x-python",
   "name": "python",
   "nbconvert_exporter": "python",
   "pygments_lexer": "ipython3",
   "version": "3.7.4"
  }
 },
 "nbformat": 4,
 "nbformat_minor": 4
}
