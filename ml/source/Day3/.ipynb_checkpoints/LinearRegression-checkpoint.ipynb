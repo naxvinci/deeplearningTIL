{
 "cells": [
  {
   "cell_type": "code",
   "execution_count": 1,
   "metadata": {},
   "outputs": [
    {
     "data": {
      "text/plain": [
       "'1.15.0'"
      ]
     },
     "execution_count": 1,
     "metadata": {},
     "output_type": "execute_result"
    }
   ],
   "source": [
    "# linear regression\n",
    "import tensorflow as tf\n",
    "import numpy as np\n",
    "import matplotlib.pyplot as plt\n",
    "\n",
    "tf.enable_eager_execution() # 이 옵션을 켜놓으면 2.0에서 작동하는 것처럼 가능 (세션 켜지 않아도 된다)\n",
    "tf.__version__"
   ]
  },
  {
   "cell_type": "code",
   "execution_count": 2,
   "metadata": {},
   "outputs": [],
   "source": [
    "X = np.array([1,2,3], dtype=\"float32\")\n",
    "Y = np.array([2,2.5,3.5], dtype=\"float32\")"
   ]
  },
  {
   "cell_type": "code",
   "execution_count": 3,
   "metadata": {},
   "outputs": [],
   "source": [
    "W = tf.Variable([2], dtype=\"float32\")\n",
    "b = tf.Variable([1], dtype=\"float32\")"
   ]
  },
  {
   "cell_type": "code",
   "execution_count": 4,
   "metadata": {},
   "outputs": [
    {
     "data": {
      "text/plain": [
       "<tf.Variable 'Variable:0' shape=(1,) dtype=float32, numpy=array([2.], dtype=float32)>"
      ]
     },
     "execution_count": 4,
     "metadata": {},
     "output_type": "execute_result"
    }
   ],
   "source": [
    "W"
   ]
  },
  {
   "cell_type": "code",
   "execution_count": 5,
   "metadata": {},
   "outputs": [
    {
     "data": {
      "text/plain": [
       "<tf.Variable 'Variable:0' shape=(1,) dtype=float32, numpy=array([1.], dtype=float32)>"
      ]
     },
     "execution_count": 5,
     "metadata": {},
     "output_type": "execute_result"
    }
   ],
   "source": [
    "b"
   ]
  },
  {
   "cell_type": "code",
   "execution_count": 6,
   "metadata": {},
   "outputs": [],
   "source": [
    "learning_rate = 0.1"
   ]
  },
  {
   "cell_type": "code",
   "execution_count": 7,
   "metadata": {},
   "outputs": [
    {
     "name": "stdout",
     "output_type": "stream",
     "text": [
      "hypothesis:  tf.Tensor([3. 5. 7.], shape=(3,), dtype=float32)\n",
      "cost: tf.Tensor(6.5, shape=(), dtype=float32)\n",
      "W_grad:  tf.Tensor([11.], shape=(1,), dtype=float32) b_grad:  tf.Tensor([4.666667], shape=(1,), dtype=float32)\n",
      "hypothesis:  tf.Tensor([1.4333333 2.3333333 3.233333 ], shape=(3,), dtype=float32)\n",
      "cost: tf.Tensor(0.14000006, shape=(), dtype=float32)\n",
      "W_grad:  tf.Tensor([-1.1333339], shape=(1,), dtype=float32) b_grad:  tf.Tensor([-0.6666669], shape=(1,), dtype=float32)\n",
      "hypothesis:  tf.Tensor([1.6133333 2.6266665 3.6399999], shape=(3,), dtype=float32)\n",
      "cost: tf.Tensor(0.06171849, shape=(), dtype=float32)\n",
      "W_grad:  tf.Tensor([0.19111069], shape=(1,), dtype=float32) b_grad:  tf.Tensor([-0.08000016], shape=(1,), dtype=float32)\n",
      "hypothesis:  tf.Tensor([1.6022222 2.5964446 3.5906668], shape=(3,), dtype=float32)\n",
      "cost: tf.Tensor(0.058583066, shape=(), dtype=float32)\n",
      "W_grad:  tf.Tensor([0.04474115], shape=(1,), dtype=float32) b_grad:  tf.Tensor([-0.14044428], shape=(1,), dtype=float32)\n",
      "hypothesis:  tf.Tensor([1.6117926 2.6015406 3.591289 ], shape=(3,), dtype=float32)\n",
      "cost: tf.Tensor(0.056449726, shape=(), dtype=float32)\n",
      "W_grad:  tf.Tensor([0.05916053], shape=(1,), dtype=float32) b_grad:  tf.Tensor([-0.1302519], shape=(1,), dtype=float32)\n",
      "hypothesis:  tf.Tensor([1.6189017 2.6027336 3.5865657], shape=(3,), dtype=float32)\n",
      "cost: tf.Tensor(0.054427907, shape=(), dtype=float32)\n",
      "W_grad:  tf.Tensor([0.0560441], shape=(1,), dtype=float32) b_grad:  tf.Tensor([-0.12786594], shape=(1,), dtype=float32)\n",
      "hypothesis:  tf.Tensor([1.6260839 2.6043115 3.5825393], shape=(3,), dtype=float32)\n",
      "cost: tf.Tensor(0.052502304, shape=(), dtype=float32)\n",
      "W_grad:  tf.Tensor([0.05488315], shape=(1,), dtype=float32) b_grad:  tf.Tensor([-0.12471025], shape=(1,), dtype=float32)\n",
      "hypothesis:  tf.Tensor([1.6330665 2.6058059 3.5785453], shape=(3,), dtype=float32)\n",
      "cost: tf.Tensor(0.05066814, shape=(), dtype=float32)\n",
      "W_grad:  tf.Tensor([0.05354285], shape=(1,), dtype=float32) b_grad:  tf.Tensor([-0.12172151], shape=(1,), dtype=float32)\n",
      "hypothesis:  tf.Tensor([1.6398845 2.6072695 3.5746546], shape=(3,), dtype=float32)\n",
      "cost: tf.Tensor(0.048921082, shape=(), dtype=float32)\n",
      "W_grad:  tf.Tensor([0.05225818], shape=(1,), dtype=float32) b_grad:  tf.Tensor([-0.11879427], shape=(1,), dtype=float32)\n",
      "hypothesis:  tf.Tensor([1.646538  2.6086972 3.5708566], shape=(3,), dtype=float32)\n",
      "cost: tf.Tensor(0.047257032, shape=(), dtype=float32)\n",
      "W_grad:  tf.Tensor([0.05100138], shape=(1,), dtype=float32) b_grad:  tf.Tensor([-0.11593882], shape=(1,), dtype=float32)\n",
      "hypothesis:  tf.Tensor([1.6530318 2.6100907 3.5671499], shape=(3,), dtype=float32)\n",
      "cost: tf.Tensor(0.045671996, shape=(), dtype=float32)\n",
      "W_grad:  tf.Tensor([0.04977527], shape=(1,), dtype=float32) b_grad:  tf.Tensor([-0.11315171], shape=(1,), dtype=float32)\n",
      "hypothesis:  tf.Tensor([1.6593695 2.611451  3.5635324], shape=(3,), dtype=float32)\n",
      "cost: tf.Tensor(0.044162277, shape=(), dtype=float32)\n",
      "W_grad:  tf.Tensor([0.0485789], shape=(1,), dtype=float32) b_grad:  tf.Tensor([-0.1104315], shape=(1,), dtype=float32)\n",
      "hypothesis:  tf.Tensor([1.6655546 2.6127782 3.5600019], shape=(3,), dtype=float32)\n",
      "cost: tf.Tensor(0.04272428, shape=(), dtype=float32)\n",
      "W_grad:  tf.Tensor([0.04741106], shape=(1,), dtype=float32) b_grad:  tf.Tensor([-0.10777687], shape=(1,), dtype=float32)\n",
      "hypothesis:  tf.Tensor([1.6715913 2.6140738 3.5565562], shape=(3,), dtype=float32)\n",
      "cost: tf.Tensor(0.04135457, shape=(), dtype=float32)\n",
      "W_grad:  tf.Tensor([0.04627164], shape=(1,), dtype=float32) b_grad:  tf.Tensor([-0.10518582], shape=(1,), dtype=float32)\n",
      "hypothesis:  tf.Tensor([1.6774826 2.615338  3.5531936], shape=(3,), dtype=float32)\n",
      "cost: tf.Tensor(0.04004997, shape=(), dtype=float32)\n",
      "W_grad:  tf.Tensor([0.04515967], shape=(1,), dtype=float32) b_grad:  tf.Tensor([-0.10265715], shape=(1,), dtype=float32)\n",
      "hypothesis:  tf.Tensor([1.6832324 2.616572  3.5499113], shape=(3,), dtype=float32)\n",
      "cost: tf.Tensor(0.038807277, shape=(), dtype=float32)\n",
      "W_grad:  tf.Tensor([0.04407334], shape=(1,), dtype=float32) b_grad:  tf.Tensor([-0.10018961], shape=(1,), dtype=float32)\n",
      "hypothesis:  tf.Tensor([1.688844  2.6177762 3.546708 ], shape=(3,), dtype=float32)\n",
      "cost: tf.Tensor(0.037623648, shape=(), dtype=float32)\n",
      "W_grad:  tf.Tensor([0.04301372], shape=(1,), dtype=float32) b_grad:  tf.Tensor([-0.09778119], shape=(1,), dtype=float32)\n",
      "hypothesis:  tf.Tensor([1.6943208 2.6189516 3.5435822], shape=(3,), dtype=float32)\n",
      "cost: tf.Tensor(0.03649622, shape=(), dtype=float32)\n",
      "W_grad:  tf.Tensor([0.04198036], shape=(1,), dtype=float32) b_grad:  tf.Tensor([-0.09543028], shape=(1,), dtype=float32)\n",
      "hypothesis:  tf.Tensor([1.6996658 2.6200986 3.5405312], shape=(3,), dtype=float32)\n",
      "cost: tf.Tensor(0.03542236, shape=(), dtype=float32)\n",
      "W_grad:  tf.Tensor([0.04097095], shape=(1,), dtype=float32) b_grad:  tf.Tensor([-0.09313632], shape=(1,), dtype=float32)\n",
      "hypothesis:  tf.Tensor([1.7048824 2.621218  3.5375535], shape=(3,), dtype=float32)\n",
      "cost: tf.Tensor(0.03439949, shape=(), dtype=float32)\n",
      "W_grad:  tf.Tensor([0.03998597], shape=(1,), dtype=float32) b_grad:  tf.Tensor([-0.0908974], shape=(1,), dtype=float32)\n",
      "hypothesis:  tf.Tensor([1.7099736 2.6223106 3.5346475], shape=(3,), dtype=float32)\n",
      "cost: tf.Tensor(0.033425223, shape=(), dtype=float32)\n",
      "W_grad:  tf.Tensor([0.03902483], shape=(1,), dtype=float32) b_grad:  tf.Tensor([-0.08871222], shape=(1,), dtype=float32)\n",
      "hypothesis:  tf.Tensor([1.7149422 2.6233768 3.5318112], shape=(3,), dtype=float32)\n",
      "cost: tf.Tensor(0.032497246, shape=(), dtype=float32)\n",
      "W_grad:  tf.Tensor([0.03808641], shape=(1,), dtype=float32) b_grad:  tf.Tensor([-0.0865798], shape=(1,), dtype=float32)\n",
      "hypothesis:  tf.Tensor([1.7197917 2.6244175 3.5290434], shape=(3,), dtype=float32)\n",
      "cost: tf.Tensor(0.031613324, shape=(), dtype=float32)\n",
      "W_grad:  tf.Tensor([0.03717136], shape=(1,), dtype=float32) b_grad:  tf.Tensor([-0.08449825], shape=(1,), dtype=float32)\n",
      "hypothesis:  tf.Tensor([1.7245243 2.625433  3.526342 ], shape=(3,), dtype=float32)\n",
      "cost: tf.Tensor(0.030771403, shape=(), dtype=float32)\n",
      "W_grad:  tf.Tensor([0.03627729], shape=(1,), dtype=float32) b_grad:  tf.Tensor([-0.08246724], shape=(1,), dtype=float32)\n",
      "hypothesis:  tf.Tensor([1.7291434 2.6264243 3.5237052], shape=(3,), dtype=float32)\n",
      "cost: tf.Tensor(0.029969452, shape=(), dtype=float32)\n",
      "W_grad:  tf.Tensor([0.03540516], shape=(1,), dtype=float32) b_grad:  tf.Tensor([-0.0804847], shape=(1,), dtype=float32)\n",
      "hypothesis:  tf.Tensor([1.7336513 2.6273918 3.5211322], shape=(3,), dtype=float32)\n",
      "cost: tf.Tensor(0.02920563, shape=(), dtype=float32)\n",
      "W_grad:  tf.Tensor([0.03455441], shape=(1,), dtype=float32) b_grad:  tf.Tensor([-0.07854978], shape=(1,), dtype=float32)\n",
      "hypothesis:  tf.Tensor([1.7380508 2.628336  3.518621 ], shape=(3,), dtype=float32)\n",
      "cost: tf.Tensor(0.028478079, shape=(), dtype=float32)\n",
      "W_grad:  tf.Tensor([0.03372376], shape=(1,), dtype=float32) b_grad:  tf.Tensor([-0.0766615], shape=(1,), dtype=float32)\n",
      "hypothesis:  tf.Tensor([1.7423446 2.6292572 3.51617  ], shape=(3,), dtype=float32)\n",
      "cost: tf.Tensor(0.027785063, shape=(), dtype=float32)\n",
      "W_grad:  tf.Tensor([0.03291273], shape=(1,), dtype=float32) b_grad:  tf.Tensor([-0.07481878], shape=(1,), dtype=float32)\n",
      "hypothesis:  tf.Tensor([1.7465353 2.6301568 3.5137782], shape=(3,), dtype=float32)\n",
      "cost: tf.Tensor(0.027124992, shape=(), dtype=float32)\n",
      "W_grad:  tf.Tensor([0.0321223], shape=(1,), dtype=float32) b_grad:  tf.Tensor([-0.07301982], shape=(1,), dtype=float32)\n",
      "hypothesis:  tf.Tensor([1.750625  2.6310344 3.5114436], shape=(3,), dtype=float32)\n",
      "cost: tf.Tensor(0.026496284, shape=(), dtype=float32)\n",
      "W_grad:  tf.Tensor([0.03134975], shape=(1,), dtype=float32) b_grad:  tf.Tensor([-0.07126466], shape=(1,), dtype=float32)\n",
      "hypothesis:  tf.Tensor([1.7546165 2.6318908 3.509165 ], shape=(3,), dtype=float32)\n",
      "cost: tf.Tensor(0.025897413, shape=(), dtype=float32)\n",
      "W_grad:  tf.Tensor([0.03059547], shape=(1,), dtype=float32) b_grad:  tf.Tensor([-0.06955178], shape=(1,), dtype=float32)\n",
      "hypothesis:  tf.Tensor([1.7585121 2.632727  3.5069416], shape=(3,), dtype=float32)\n",
      "cost: tf.Tensor(0.025326999, shape=(), dtype=float32)\n",
      "W_grad:  tf.Tensor([0.02986042], shape=(1,), dtype=float32) b_grad:  tf.Tensor([-0.06787959], shape=(1,), dtype=float32)\n",
      "hypothesis:  tf.Tensor([1.7623141 2.6335428 3.5047715], shape=(3,), dtype=float32)\n",
      "cost: tf.Tensor(0.02478368, shape=(), dtype=float32)\n",
      "W_grad:  tf.Tensor([0.02914271], shape=(1,), dtype=float32) b_grad:  tf.Tensor([-0.06624778], shape=(1,), dtype=float32)\n",
      "hypothesis:  tf.Tensor([1.7660246 2.634339  3.5026534], shape=(3,), dtype=float32)\n",
      "cost: tf.Tensor(0.024266176, shape=(), dtype=float32)\n",
      "W_grad:  tf.Tensor([0.02844191], shape=(1,), dtype=float32) b_grad:  tf.Tensor([-0.0646553], shape=(1,), dtype=float32)\n",
      "hypothesis:  tf.Tensor([1.7696459 2.635116  3.5005865], shape=(3,), dtype=float32)\n",
      "cost: tf.Tensor(0.023773232, shape=(), dtype=float32)\n",
      "W_grad:  tf.Tensor([0.02775843], shape=(1,), dtype=float32) b_grad:  tf.Tensor([-0.06310098], shape=(1,), dtype=float32)\n",
      "hypothesis:  tf.Tensor([1.7731802 2.6358745 3.498569 ], shape=(3,), dtype=float32)\n",
      "cost: tf.Tensor(0.02330371, shape=(), dtype=float32)\n",
      "W_grad:  tf.Tensor([0.02709088], shape=(1,), dtype=float32) b_grad:  tf.Tensor([-0.06158415], shape=(1,), dtype=float32)\n",
      "hypothesis:  tf.Tensor([1.7766294 2.6366148 3.4966002], shape=(3,), dtype=float32)\n",
      "cost: tf.Tensor(0.02285652, shape=(), dtype=float32)\n",
      "W_grad:  tf.Tensor([0.02643967], shape=(1,), dtype=float32) b_grad:  tf.Tensor([-0.06010374], shape=(1,), dtype=float32)\n",
      "hypothesis:  tf.Tensor([1.7799959 2.6373372 3.4946787], shape=(3,), dtype=float32)\n",
      "cost: tf.Tensor(0.02243054, shape=(), dtype=float32)\n",
      "W_grad:  tf.Tensor([0.02580437], shape=(1,), dtype=float32) b_grad:  tf.Tensor([-0.05865875], shape=(1,), dtype=float32)\n",
      "hypothesis:  tf.Tensor([1.7832813 2.6380422 3.492803 ], shape=(3,), dtype=float32)\n",
      "cost: tf.Tensor(0.02202481, shape=(), dtype=float32)\n",
      "W_grad:  tf.Tensor([0.02518335], shape=(1,), dtype=float32) b_grad:  tf.Tensor([-0.05724892], shape=(1,), dtype=float32)\n",
      "hypothesis:  tf.Tensor([1.7864878 2.6387305 3.490973 ], shape=(3,), dtype=float32)\n",
      "cost: tf.Tensor(0.021638365, shape=(), dtype=float32)\n",
      "W_grad:  tf.Tensor([0.02457857], shape=(1,), dtype=float32) b_grad:  tf.Tensor([-0.05587244], shape=(1,), dtype=float32)\n",
      "hypothesis:  tf.Tensor([1.7896173 2.639402  3.4891868], shape=(3,), dtype=float32)\n",
      "cost: tf.Tensor(0.021270236, shape=(), dtype=float32)\n",
      "W_grad:  tf.Tensor([0.02398761], shape=(1,), dtype=float32) b_grad:  tf.Tensor([-0.05452935], shape=(1,), dtype=float32)\n",
      "hypothesis:  tf.Tensor([1.7926714 2.6400573 3.4874432], shape=(3,), dtype=float32)\n",
      "cost: tf.Tensor(0.020919621, shape=(), dtype=float32)\n",
      "W_grad:  tf.Tensor([0.02341048], shape=(1,), dtype=float32) b_grad:  tf.Tensor([-0.05321869], shape=(1,), dtype=float32)\n",
      "hypothesis:  tf.Tensor([1.7956522 2.640697  3.4857419], shape=(3,), dtype=float32)\n",
      "cost: tf.Tensor(0.020585662, shape=(), dtype=float32)\n",
      "W_grad:  tf.Tensor([0.02284782], shape=(1,), dtype=float32) b_grad:  tf.Tensor([-0.05193933], shape=(1,), dtype=float32)\n",
      "hypothesis:  tf.Tensor([1.7985613 2.6413214 3.4840815], shape=(3,), dtype=float32)\n",
      "cost: tf.Tensor(0.02026756, shape=(), dtype=float32)\n",
      "W_grad:  tf.Tensor([0.02229913], shape=(1,), dtype=float32) b_grad:  tf.Tensor([-0.0506905], shape=(1,), dtype=float32)\n",
      "hypothesis:  tf.Tensor([1.8014005 2.6419306 3.482461 ], shape=(3,), dtype=float32)\n",
      "cost: tf.Tensor(0.01996455, shape=(), dtype=float32)\n",
      "W_grad:  tf.Tensor([0.02176309], shape=(1,), dtype=float32) b_grad:  tf.Tensor([-0.04947194], shape=(1,), dtype=float32)\n",
      "hypothesis:  tf.Tensor([1.8041714 2.6425252 3.4808793], shape=(3,), dtype=float32)\n",
      "cost: tf.Tensor(0.019675953, shape=(), dtype=float32)\n",
      "W_grad:  tf.Tensor([0.02123983], shape=(1,), dtype=float32) b_grad:  tf.Tensor([-0.04828271], shape=(1,), dtype=float32)\n",
      "hypothesis:  tf.Tensor([1.8068757 2.6431055 3.4793355], shape=(3,), dtype=float32)\n",
      "cost: tf.Tensor(0.019401064, shape=(), dtype=float32)\n",
      "W_grad:  tf.Tensor([0.0207289], shape=(1,), dtype=float32) b_grad:  tf.Tensor([-0.04712217], shape=(1,), dtype=float32)\n",
      "hypothesis:  tf.Tensor([1.809515 2.643672 3.477829], shape=(3,), dtype=float32)\n",
      "cost: tf.Tensor(0.019139243, shape=(), dtype=float32)\n",
      "W_grad:  tf.Tensor([0.02023061], shape=(1,), dtype=float32) b_grad:  tf.Tensor([-0.04598936], shape=(1,), dtype=float32)\n",
      "hypothesis:  tf.Tensor([1.8120909 2.644225  3.476359 ], shape=(3,), dtype=float32)\n",
      "cost: tf.Tensor(0.018889854, shape=(), dtype=float32)\n",
      "W_grad:  tf.Tensor([0.01974487], shape=(1,), dtype=float32) b_grad:  tf.Tensor([-0.04488357], shape=(1,), dtype=float32)\n",
      "hypothesis:  tf.Tensor([1.8146048 2.6447644 3.4749238], shape=(3,), dtype=float32)\n",
      "cost: tf.Tensor(0.018652314, shape=(), dtype=float32)\n",
      "W_grad:  tf.Tensor([0.01927011], shape=(1,), dtype=float32) b_grad:  tf.Tensor([-0.04380465], shape=(1,), dtype=float32)\n",
      "hypothesis:  tf.Tensor([1.8170583 2.6452909 3.4735231], shape=(3,), dtype=float32)\n",
      "cost: tf.Tensor(0.018426038, shape=(), dtype=float32)\n",
      "W_grad:  tf.Tensor([0.0188063], shape=(1,), dtype=float32) b_grad:  tf.Tensor([-0.04275179], shape=(1,), dtype=float32)\n",
      "hypothesis:  tf.Tensor([1.8194528 2.6458046 3.4721565], shape=(3,), dtype=float32)\n",
      "cost: tf.Tensor(0.01821052, shape=(), dtype=float32)\n",
      "W_grad:  tf.Tensor([0.01835442], shape=(1,), dtype=float32) b_grad:  tf.Tensor([-0.04172405], shape=(1,), dtype=float32)\n",
      "hypothesis:  tf.Tensor([1.8217897 2.646306  3.4708226], shape=(3,), dtype=float32)\n",
      "cost: tf.Tensor(0.018005226, shape=(), dtype=float32)\n",
      "W_grad:  tf.Tensor([0.01791303], shape=(1,), dtype=float32) b_grad:  tf.Tensor([-0.0407211], shape=(1,), dtype=float32)\n",
      "hypothesis:  tf.Tensor([1.8240706 2.6467957 3.4695206], shape=(3,), dtype=float32)\n",
      "cost: tf.Tensor(0.017809717, shape=(), dtype=float32)\n",
      "W_grad:  tf.Tensor([0.01748252], shape=(1,), dtype=float32) b_grad:  tf.Tensor([-0.03974207], shape=(1,), dtype=float32)\n",
      "hypothesis:  tf.Tensor([1.8262966 2.6472733 3.4682503], shape=(3,), dtype=float32)\n",
      "cost: tf.Tensor(0.01762345, shape=(), dtype=float32)\n",
      "W_grad:  tf.Tensor([0.01706266], shape=(1,), dtype=float32) b_grad:  tf.Tensor([-0.03878657], shape=(1,), dtype=float32)\n",
      "hypothesis:  tf.Tensor([1.828469  2.6477394 3.46701  ], shape=(3,), dtype=float32)\n",
      "cost: tf.Tensor(0.017446049, shape=(), dtype=float32)\n",
      "W_grad:  tf.Tensor([0.01665195], shape=(1,), dtype=float32) b_grad:  tf.Tensor([-0.03785435], shape=(1,), dtype=float32)\n",
      "hypothesis:  tf.Tensor([1.8305893 2.6481948 3.4657998], shape=(3,), dtype=float32)\n",
      "cost: tf.Tensor(0.017277112, shape=(), dtype=float32)\n",
      "W_grad:  tf.Tensor([0.0162522], shape=(1,), dtype=float32) b_grad:  tf.Tensor([-0.03694407], shape=(1,), dtype=float32)\n",
      "hypothesis:  tf.Tensor([1.8326585 2.6486387 3.4646187], shape=(3,), dtype=float32)\n",
      "cost: tf.Tensor(0.01711616, shape=(), dtype=float32)\n",
      "W_grad:  tf.Tensor([0.01586135], shape=(1,), dtype=float32) b_grad:  tf.Tensor([-0.03605605], shape=(1,), dtype=float32)\n",
      "hypothesis:  tf.Tensor([1.8346779 2.649072  3.463466 ], shape=(3,), dtype=float32)\n",
      "cost: tf.Tensor(0.016962854, shape=(), dtype=float32)\n",
      "W_grad:  tf.Tensor([0.01547973], shape=(1,), dtype=float32) b_grad:  tf.Tensor([-0.03518947], shape=(1,), dtype=float32)\n",
      "hypothesis:  tf.Tensor([1.836649  2.649495  3.4623408], shape=(3,), dtype=float32)\n",
      "cost: tf.Tensor(0.016816834, shape=(), dtype=float32)\n",
      "W_grad:  tf.Tensor([0.01510747], shape=(1,), dtype=float32) b_grad:  tf.Tensor([-0.03434357], shape=(1,), dtype=float32)\n",
      "hypothesis:  tf.Tensor([1.8385725 2.6499076 3.461243 ], shape=(3,), dtype=float32)\n",
      "cost: tf.Tensor(0.016677745, shape=(), dtype=float32)\n",
      "W_grad:  tf.Tensor([0.01474428], shape=(1,), dtype=float32) b_grad:  tf.Tensor([-0.033518], shape=(1,), dtype=float32)\n",
      "hypothesis:  tf.Tensor([1.8404498 2.6503105 3.4601717], shape=(3,), dtype=float32)\n",
      "cost: tf.Tensor(0.016545268, shape=(), dtype=float32)\n",
      "W_grad:  tf.Tensor([0.01439063], shape=(1,), dtype=float32) b_grad:  tf.Tensor([-0.03271198], shape=(1,), dtype=float32)\n",
      "hypothesis:  tf.Tensor([1.842282  2.650704  3.4591255], shape=(3,), dtype=float32)\n",
      "cost: tf.Tensor(0.016419115, shape=(), dtype=float32)\n",
      "W_grad:  tf.Tensor([0.01404429], shape=(1,), dtype=float32) b_grad:  tf.Tensor([-0.03192568], shape=(1,), dtype=float32)\n",
      "hypothesis:  tf.Tensor([1.8440702 2.6510875 3.458105 ], shape=(3,), dtype=float32)\n",
      "cost: tf.Tensor(0.01629891, shape=(), dtype=float32)\n",
      "W_grad:  tf.Tensor([0.013707], shape=(1,), dtype=float32) b_grad:  tf.Tensor([-0.03115813], shape=(1,), dtype=float32)\n",
      "hypothesis:  tf.Tensor([1.8458152 2.6514618 3.4571085], shape=(3,), dtype=float32)\n",
      "cost: tf.Tensor(0.016184444, shape=(), dtype=float32)\n",
      "W_grad:  tf.Tensor([0.01337624], shape=(1,), dtype=float32) b_grad:  tf.Tensor([-0.03040965], shape=(1,), dtype=float32)\n",
      "hypothesis:  tf.Tensor([1.8475184 2.6518273 3.4561367], shape=(3,), dtype=float32)\n",
      "cost: tf.Tensor(0.016075384, shape=(), dtype=float32)\n",
      "W_grad:  tf.Tensor([0.01305548], shape=(1,), dtype=float32) b_grad:  tf.Tensor([-0.02967835], shape=(1,), dtype=float32)\n",
      "hypothesis:  tf.Tensor([1.8491807 2.6521842 3.4551878], shape=(3,), dtype=float32)\n",
      "cost: tf.Tensor(0.015971547, shape=(), dtype=float32)\n",
      "W_grad:  tf.Tensor([0.01274172], shape=(1,), dtype=float32) b_grad:  tf.Tensor([-0.02896484], shape=(1,), dtype=float32)\n",
      "hypothesis:  tf.Tensor([1.850803  2.6525323 3.4542618], shape=(3,), dtype=float32)\n",
      "cost: tf.Tensor(0.015872614, shape=(), dtype=float32)\n",
      "W_grad:  tf.Tensor([0.01243536], shape=(1,), dtype=float32) b_grad:  tf.Tensor([-0.02826857], shape=(1,), dtype=float32)\n",
      "hypothesis:  tf.Tensor([1.8523862 2.652872  3.4533577], shape=(3,), dtype=float32)\n",
      "cost: tf.Tensor(0.015778402, shape=(), dtype=float32)\n",
      "W_grad:  tf.Tensor([0.01213567], shape=(1,), dtype=float32) b_grad:  tf.Tensor([-0.02758932], shape=(1,), dtype=float32)\n",
      "hypothesis:  tf.Tensor([1.8539317 2.653204  3.452476 ], shape=(3,), dtype=float32)\n",
      "cost: tf.Tensor(0.015688647, shape=(), dtype=float32)\n",
      "W_grad:  tf.Tensor([0.01184511], shape=(1,), dtype=float32) b_grad:  tf.Tensor([-0.02692557], shape=(1,), dtype=float32)\n",
      "hypothesis:  tf.Tensor([1.8554398 2.6535275 3.4516153], shape=(3,), dtype=float32)\n",
      "cost: tf.Tensor(0.015603143, shape=(), dtype=float32)\n",
      "W_grad:  tf.Tensor([0.01156051], shape=(1,), dtype=float32) b_grad:  tf.Tensor([-0.02627826], shape=(1,), dtype=float32)\n",
      "hypothesis:  tf.Tensor([1.8569117 2.6538434 3.450775 ], shape=(3,), dtype=float32)\n",
      "cost: tf.Tensor(0.015521727, shape=(), dtype=float32)\n",
      "W_grad:  tf.Tensor([0.01128212], shape=(1,), dtype=float32) b_grad:  tf.Tensor([-0.02564669], shape=(1,), dtype=float32)\n",
      "hypothesis:  tf.Tensor([1.8583481 2.6541514 3.449955 ], shape=(3,), dtype=float32)\n",
      "cost: tf.Tensor(0.01544414, shape=(), dtype=float32)\n",
      "W_grad:  tf.Tensor([0.01101065], shape=(1,), dtype=float32) b_grad:  tf.Tensor([-0.02503029], shape=(1,), dtype=float32)\n",
      "hypothesis:  tf.Tensor([1.85975   2.6544523 3.4491549], shape=(3,), dtype=float32)\n",
      "cost: tf.Tensor(0.015370268, shape=(), dtype=float32)\n",
      "W_grad:  tf.Tensor([0.01074615], shape=(1,), dtype=float32) b_grad:  tf.Tensor([-0.02442853], shape=(1,), dtype=float32)\n",
      "hypothesis:  tf.Tensor([1.8611183 2.654746  3.4483738], shape=(3,), dtype=float32)\n",
      "cost: tf.Tensor(0.01529991, shape=(), dtype=float32)\n",
      "W_grad:  tf.Tensor([0.01048787], shape=(1,), dtype=float32) b_grad:  tf.Tensor([-0.02384122], shape=(1,), dtype=float32)\n",
      "hypothesis:  tf.Tensor([1.8624535 2.6550326 3.4476116], shape=(3,), dtype=float32)\n",
      "cost: tf.Tensor(0.015232906, shape=(), dtype=float32)\n",
      "W_grad:  tf.Tensor([0.01023564], shape=(1,), dtype=float32) b_grad:  tf.Tensor([-0.02326822], shape=(1,), dtype=float32)\n",
      "hypothesis:  tf.Tensor([1.8637568 2.655312  3.4468675], shape=(3,), dtype=float32)\n",
      "cost: tf.Tensor(0.015169039, shape=(), dtype=float32)\n",
      "W_grad:  tf.Tensor([0.00998885], shape=(1,), dtype=float32) b_grad:  tf.Tensor([-0.02270914], shape=(1,), dtype=float32)\n",
      "hypothesis:  tf.Tensor([1.8650289 2.6555853 3.4461417], shape=(3,), dtype=float32)\n",
      "cost: tf.Tensor(0.015108236, shape=(), dtype=float32)\n",
      "W_grad:  tf.Tensor([0.00974973], shape=(1,), dtype=float32) b_grad:  tf.Tensor([-0.02216276], shape=(1,), dtype=float32)\n",
      "hypothesis:  tf.Tensor([1.8662701 2.6558516 3.4454331], shape=(3,), dtype=float32)\n",
      "cost: tf.Tensor(0.015050319, shape=(), dtype=float32)\n",
      "W_grad:  tf.Tensor([0.00951514], shape=(1,), dtype=float32) b_grad:  tf.Tensor([-0.02163012], shape=(1,), dtype=float32)\n",
      "hypothesis:  tf.Tensor([1.8674816 2.6561117 3.4447417], shape=(3,), dtype=float32)\n",
      "cost: tf.Tensor(0.014995157, shape=(), dtype=float32)\n",
      "W_grad:  tf.Tensor([0.00928679], shape=(1,), dtype=float32) b_grad:  tf.Tensor([-0.02110998], shape=(1,), dtype=float32)\n",
      "hypothesis:  tf.Tensor([1.8686638 2.6563652 3.4440665], shape=(3,), dtype=float32)\n",
      "cost: tf.Tensor(0.014942605, shape=(), dtype=float32)\n",
      "W_grad:  tf.Tensor([0.00906245], shape=(1,), dtype=float32) b_grad:  tf.Tensor([-0.02060302], shape=(1,), dtype=float32)\n",
      "hypothesis:  tf.Tensor([1.869818  2.6566129 3.443408 ], shape=(3,), dtype=float32)\n",
      "cost: tf.Tensor(0.014892536, shape=(), dtype=float32)\n",
      "W_grad:  tf.Tensor([0.00884517], shape=(1,), dtype=float32) b_grad:  tf.Tensor([-0.02010743], shape=(1,), dtype=float32)\n",
      "hypothesis:  tf.Tensor([1.870944  2.6568546 3.4427652], shape=(3,), dtype=float32)\n",
      "cost: tf.Tensor(0.0148448795, shape=(), dtype=float32)\n",
      "W_grad:  tf.Tensor([0.00863266], shape=(1,), dtype=float32) b_grad:  tf.Tensor([-0.01962408], shape=(1,), dtype=float32)\n",
      "hypothesis:  tf.Tensor([1.8720433 2.6570907 3.4421377], shape=(3,), dtype=float32)\n",
      "cost: tf.Tensor(0.014799483, shape=(), dtype=float32)\n",
      "W_grad:  tf.Tensor([0.00842516], shape=(1,), dtype=float32) b_grad:  tf.Tensor([-0.01915224], shape=(1,), dtype=float32)\n",
      "hypothesis:  tf.Tensor([1.873116  2.6573207 3.4415255], shape=(3,), dtype=float32)\n",
      "cost: tf.Tensor(0.014756211, shape=(), dtype=float32)\n",
      "W_grad:  tf.Tensor([0.00822258], shape=(1,), dtype=float32) b_grad:  tf.Tensor([-0.01869186], shape=(1,), dtype=float32)\n",
      "hypothesis:  tf.Tensor([1.8741629 2.6575456 3.440928 ], shape=(3,), dtype=float32)\n",
      "cost: tf.Tensor(0.014715026, shape=(), dtype=float32)\n",
      "W_grad:  tf.Tensor([0.00802533], shape=(1,), dtype=float32) b_grad:  tf.Tensor([-0.01824236], shape=(1,), dtype=float32)\n",
      "hypothesis:  tf.Tensor([1.8751847 2.6577647 3.4403448], shape=(3,), dtype=float32)\n",
      "cost: tf.Tensor(0.014675767, shape=(), dtype=float32)\n",
      "W_grad:  tf.Tensor([0.00783229], shape=(1,), dtype=float32) b_grad:  tf.Tensor([-0.01780391], shape=(1,), dtype=float32)\n",
      "hypothesis:  tf.Tensor([1.8761818 2.6579785 3.4397755], shape=(3,), dtype=float32)\n",
      "cost: tf.Tensor(0.014638383, shape=(), dtype=float32)\n",
      "W_grad:  tf.Tensor([0.00764354], shape=(1,), dtype=float32) b_grad:  tf.Tensor([-0.01737611], shape=(1,), dtype=float32)\n",
      "hypothesis:  tf.Tensor([1.8771551 2.6581874 3.43922  ], shape=(3,), dtype=float32)\n",
      "cost: tf.Tensor(0.01460278, shape=(), dtype=float32)\n",
      "W_grad:  tf.Tensor([0.00745978], shape=(1,), dtype=float32) b_grad:  tf.Tensor([-0.0169584], shape=(1,), dtype=float32)\n",
      "hypothesis:  tf.Tensor([1.8781049 2.6583915 3.4386778], shape=(3,), dtype=float32)\n",
      "cost: tf.Tensor(0.014568894, shape=(), dtype=float32)\n",
      "W_grad:  tf.Tensor([0.00728082], shape=(1,), dtype=float32) b_grad:  tf.Tensor([-0.01655054], shape=(1,), dtype=float32)\n",
      "hypothesis:  tf.Tensor([1.879032  2.6585903 3.438149 ], shape=(3,), dtype=float32)\n",
      "cost: tf.Tensor(0.014536563, shape=(), dtype=float32)\n",
      "W_grad:  tf.Tensor([0.00710639], shape=(1,), dtype=float32) b_grad:  tf.Tensor([-0.01615246], shape=(1,), dtype=float32)\n",
      "hypothesis:  tf.Tensor([1.8799367 2.6587844 3.437632 ], shape=(3,), dtype=float32)\n",
      "cost: tf.Tensor(0.014505812, shape=(), dtype=float32)\n",
      "W_grad:  tf.Tensor([0.00693449], shape=(1,), dtype=float32) b_grad:  tf.Tensor([-0.01576456], shape=(1,), dtype=float32)\n",
      "hypothesis:  tf.Tensor([1.8808196 2.658974  3.437128 ], shape=(3,), dtype=float32)\n",
      "cost: tf.Tensor(0.014476523, shape=(), dtype=float32)\n",
      "W_grad:  tf.Tensor([0.00676775], shape=(1,), dtype=float32) b_grad:  tf.Tensor([-0.01538563], shape=(1,), dtype=float32)\n",
      "hypothesis:  tf.Tensor([1.8816814 2.659159  3.4366364], shape=(3,), dtype=float32)\n",
      "cost: tf.Tensor(0.014448597, shape=(), dtype=float32)\n",
      "W_grad:  tf.Tensor([0.00660579], shape=(1,), dtype=float32) b_grad:  tf.Tensor([-0.01501545], shape=(1,), dtype=float32)\n",
      "hypothesis:  tf.Tensor([1.8825223 2.6593394 3.4361563], shape=(3,), dtype=float32)\n",
      "cost: tf.Tensor(0.0144220255, shape=(), dtype=float32)\n",
      "W_grad:  tf.Tensor([0.00644669], shape=(1,), dtype=float32) b_grad:  tf.Tensor([-0.01465464], shape=(1,), dtype=float32)\n",
      "hypothesis:  tf.Tensor([1.8833431 2.6595154 3.4356878], shape=(3,), dtype=float32)\n",
      "cost: tf.Tensor(0.014396683, shape=(), dtype=float32)\n",
      "W_grad:  tf.Tensor([0.00629148], shape=(1,), dtype=float32) b_grad:  tf.Tensor([-0.01430249], shape=(1,), dtype=float32)\n",
      "hypothesis:  tf.Tensor([1.8841443 2.6596875 3.4352305], shape=(3,), dtype=float32)\n",
      "cost: tf.Tensor(0.014372579, shape=(), dtype=float32)\n",
      "W_grad:  tf.Tensor([0.00614056], shape=(1,), dtype=float32) b_grad:  tf.Tensor([-0.01395845], shape=(1,), dtype=float32)\n",
      "hypothesis:  tf.Tensor([1.8849261 2.6598551 3.4347844], shape=(3,), dtype=float32)\n",
      "cost: tf.Tensor(0.01434958, shape=(), dtype=float32)\n",
      "W_grad:  tf.Tensor([0.00599305], shape=(1,), dtype=float32) b_grad:  tf.Tensor([-0.01362292], shape=(1,), dtype=float32)\n",
      "hypothesis:  tf.Tensor([1.885689  2.660019  3.4343486], shape=(3,), dtype=float32)\n",
      "cost: tf.Tensor(0.014327721, shape=(), dtype=float32)\n",
      "W_grad:  tf.Tensor([0.00584841], shape=(1,), dtype=float32) b_grad:  tf.Tensor([-0.01329565], shape=(1,), dtype=float32)\n",
      "hypothesis:  tf.Tensor([1.8864337 2.6601787 3.4339235], shape=(3,), dtype=float32)\n",
      "cost: tf.Tensor(0.01430687, shape=(), dtype=float32)\n",
      "W_grad:  tf.Tensor([0.00570765], shape=(1,), dtype=float32) b_grad:  tf.Tensor([-0.0129761], shape=(1,), dtype=float32)\n"
     ]
    }
   ],
   "source": [
    "for i in range(100):\n",
    "    with tf.GradientTape() as tape: # 학습할 때 사용하는 그룹 묶기..\n",
    "        hypothesis = W * X + b\n",
    "        print(\"hypothesis: \", hypothesis)\n",
    "        cost = tf.reduce_mean(tf.square(hypothesis - Y))\n",
    "        print(\"cost:\", cost)\n",
    "    W_grad, b_grad = tape.gradient(cost, [W, b])\n",
    "    print(\"W_grad: \", W_grad, \"b_grad: \", b_grad)\n",
    "    W.assign_sub(W_grad * learning_rate)\n",
    "    b.assign_sub(b_grad * learning_rate)"
   ]
  },
  {
   "cell_type": "code",
   "execution_count": 9,
   "metadata": {},
   "outputs": [
    {
     "name": "stdout",
     "output_type": "stream",
     "text": [
      "i=99, w=[0.77317417], b=[1.1139864], cost=0.0143068702891469\n"
     ]
    }
   ],
   "source": [
    "print(\"i={}, w={}, b={}, cost={}\".format(i, W.numpy(), b.numpy(), cost.numpy()))"
   ]
  },
  {
   "cell_type": "code",
   "execution_count": 11,
   "metadata": {},
   "outputs": [
    {
     "data": {
      "text/plain": [
       "(0, 4)"
      ]
     },
     "execution_count": 11,
     "metadata": {},
     "output_type": "execute_result"
    },
    {
     "data": {
      "image/png": "[encoded data removed]",
      "text/plain": [
       "<Figure size 432x288 with 1 Axes>"
      ]
     },
     "metadata": {
      "needs_background": "light"
     },
     "output_type": "display_data"
    }
   ],
   "source": [
    "plt.plot(X, Y, marker='o')\n",
    "plt.plot(X, hypothesis.numpy(), mfc='r', ls='-')\n",
    "plt.ylim(0,4)"
   ]
  },
  {
   "cell_type": "code",
   "execution_count": 12,
   "metadata": {},
   "outputs": [
    {
     "data": {
      "text/plain": [
       "<tf.Variable 'Variable:0' shape=(1,) dtype=float32, numpy=array([0.77317417], dtype=float32)>"
      ]
     },
     "execution_count": 12,
     "metadata": {},
     "output_type": "execute_result"
    }
   ],
   "source": [
    "W"
   ]
  },
  {
   "cell_type": "code",
   "execution_count": 13,
   "metadata": {},
   "outputs": [
    {
     "data": {
      "text/plain": [
       "<tf.Variable 'Variable:0' shape=(1,) dtype=float32, numpy=array([1.1139864], dtype=float32)>"
      ]
     },
     "execution_count": 13,
     "metadata": {},
     "output_type": "execute_result"
    }
   ],
   "source": [
    "b"
   ]
  },
  {
   "cell_type": "code",
   "execution_count": 14,
   "metadata": {},
   "outputs": [
    {
     "name": "stdout",
     "output_type": "stream",
     "text": [
      "X = 10, Y =  tf.Tensor([8.845728], shape=(1,), dtype=float32)\n"
     ]
    }
   ],
   "source": [
    "print(\"X = 10, Y = \", W * 10 + b)"
   ]
  },
  {
   "cell_type": "code",
   "execution_count": 15,
   "metadata": {},
   "outputs": [
    {
     "name": "stdout",
     "output_type": "stream",
     "text": [
      "X = 10, Y =  tf.Tensor([16.57747], shape=(1,), dtype=float32)\n"
     ]
    }
   ],
   "source": [
    "print(\"X = 10, Y = \", W * 20 + b)"
   ]
  },
  {
   "cell_type": "code",
   "execution_count": null,
   "metadata": {},
   "outputs": [],
   "source": []
  }
 ],
 "metadata": {
  "kernelspec": {
   "display_name": "Python 3",
   "language": "python",
   "name": "python3"
  },
  "language_info": {
   "codemirror_mode": {
    "name": "ipython",
    "version": 3
   },
   "file_extension": ".py",
   "mimetype": "text/x-python",
   "name": "python",
   "nbconvert_exporter": "python",
   "pygments_lexer": "ipython3",
   "version": "3.7.4"
  }
 },
 "nbformat": 4,
 "nbformat_minor": 4
}
